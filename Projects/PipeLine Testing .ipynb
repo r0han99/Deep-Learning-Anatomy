{
 "cells": [
  {
   "cell_type": "markdown",
   "metadata": {},
   "source": [
    "### PipeLine Script Unit testing "
   ]
  },
  {
   "cell_type": "markdown",
   "metadata": {},
   "source": [
    "This ipynb is declared to be a test ground for the pipeline script in the same _dir_, the pipeline script manages all the report related organisation dynamically"
   ]
  },
  {
   "cell_type": "code",
   "execution_count": 8,
   "metadata": {},
   "outputs": [],
   "source": [
    "import pandas as pd \n",
    "import numpy as np \n",
    "import pickle\n",
    "import os "
   ]
  },
  {
   "cell_type": "code",
   "execution_count": 9,
   "metadata": {},
   "outputs": [
    {
     "name": "stdout",
     "output_type": "stream",
     "text": [
      "/Users/Shared/Relocated/Security/Code/Deep_Learning/DeepLearning-Conjunction/Git/Dev/Projects\r\n"
     ]
    }
   ],
   "source": [
    "! pwd "
   ]
  },
  {
   "cell_type": "code",
   "execution_count": 6,
   "metadata": {},
   "outputs": [
    {
     "name": "stdout",
     "output_type": "stream",
     "text": [
      "\u001b[34mMNIST\u001b[m\u001b[m                   PipeLine Testing .ipynb \u001b[31mpipeline.py\u001b[m\u001b[m\r\n"
     ]
    }
   ],
   "source": [
    "! ls "
   ]
  },
  {
   "cell_type": "code",
   "execution_count": 25,
   "metadata": {},
   "outputs": [
    {
     "data": {
      "text/plain": [
       "'26-Tuesday, 2021'"
      ]
     },
     "execution_count": 25,
     "metadata": {},
     "output_type": "execute_result"
    }
   ],
   "source": [
    "import datetime \n",
    "datetime.datetime.now().strftime('%d-%A, %Y')"
   ]
  },
  {
   "cell_type": "code",
   "execution_count": 10,
   "metadata": {},
   "outputs": [
    {
     "data": {
      "text/plain": [
       "'./Projects/MNIST/Pytorch'"
      ]
     },
     "execution_count": 10,
     "metadata": {},
     "output_type": "execute_result"
    }
   ],
   "source": [
    "string = '/Users/Shared/Relocated/Security/Code/Deep_Learning/DeepLearning-Conjunction/Git/Dev/Projects/MNIST/Pytorch'.split('/')\n",
    "os.path.join('./',*string[-3:])"
   ]
  },
  {
   "cell_type": "code",
   "execution_count": 28,
   "metadata": {},
   "outputs": [],
   "source": [
    "prompt_list = ['Prediction Type : ','Network Type : ', 'Network Architecture : ', 'Number of Layers : ', \n",
    "'Number of Hidden Units :', 'Activations Used : ', 'Number of Epochs : ', 'Metrics: ',\n",
    "'Train Accuracy: %','Test Accuracy: %','Classification Report : ','Elapsed Time for Training : ', 'Jupyter Notebook with Source Code : ']\n",
    "f_pl = open('../prompt-list.txt','wb')\n",
    "\n",
    "pickle.dump(prompt_list, f_pl)\n",
    "f_pl.close()\n"
   ]
  },
  {
   "cell_type": "code",
   "execution_count": 20,
   "metadata": {},
   "outputs": [
    {
     "name": "stdout",
     "output_type": "stream",
     "text": [
      "\u001b[34mMicellaneous\u001b[m\u001b[m         catalog.csv          prompt-list.txt\r\n",
      "\u001b[34mProjects\u001b[m\u001b[m             deep-learning.png    tesseract.png\r\n",
      "README.md            \u001b[31mdynamic-prompt.py\u001b[m\u001b[m\r\n",
      "\u001b[31mcatalog-test.numbers\u001b[m\u001b[m main.py\r\n"
     ]
    }
   ],
   "source": [
    "! ls ../"
   ]
  },
  {
   "cell_type": "code",
   "execution_count": 21,
   "metadata": {},
   "outputs": [
    {
     "data": {
      "text/plain": [
       "['Network Type : ',\n",
       " 'Prediction Type : ',\n",
       " 'Network Architecture : ',\n",
       " 'Number of Layers : ',\n",
       " 'Number of Hidden Units :',\n",
       " 'Activations Used : ',\n",
       " 'Number of Epochs : ',\n",
       " 'Metrics: ',\n",
       " 'Train and Test Accuracy : ',\n",
       " 'Classification Report : ',\n",
       " 'Elapsed Time for Training : ',\n",
       " 'Jupyter Notebook with Source Code : ']"
      ]
     },
     "execution_count": 21,
     "metadata": {},
     "output_type": "execute_result"
    }
   ],
   "source": [
    "# loading\n",
    "with open('../prompt-list.txt', 'rb') as f:\n",
    "    \n",
    "    data = f.read() \n",
    "            \n",
    "  \n",
    "d = pickle.loads(data) \n",
    "d"
   ]
  },
  {
   "cell_type": "code",
   "execution_count": null,
   "metadata": {},
   "outputs": [],
   "source": [
    "desc = desc.strip()\n",
    "project_name = 'MNIST'\n",
    "framework = 'Pytorch'\n",
    "prediction_type = 'Classification'\n",
    "network_type = 'Convolutional Neural Network'\n",
    "architecture = str(net)\n",
    "layers = 6\n",
    "hidden_units = None \n",
    "activations = \"['relu','softmax']\"\n",
    "epochs = 5\n",
    "metrics = 'Accuracy'\n",
    "train_accuracy = np.mean(accuracy)\n",
    "test_accuracy = 98.720\n",
    "classification_report = class_report\n",
    "elapsed = '2.48 Min'\n",
    "plots = './Projects/MNIST/Pytorch/Plots'\n",
    "ipynb = './Projects/MNIST/Pytorch/MNIST-Pytorch.pdf'"
   ]
  },
  {
   "cell_type": "code",
   "execution_count": null,
   "metadata": {},
   "outputs": [],
   "source": [
    "param = dict()\n",
    "var_dict = {}\n",
    "var = ['desc','project_name', 'framework','prediction_type','network_type',\n",
    "       'architecture','layers','hidden_units','activations','epochs',\n",
    "       'metrics','train_accuracy','test_accuracy','classification_report','elapsed'\n",
    "       ,'ipynb','plots']\n",
    "\n",
    "for i in var:\n",
    "    var_dict[i] = input(f'Enter Dtype for {i}: ')\n",
    "\n"
   ]
  },
  {
   "cell_type": "code",
   "execution_count": null,
   "metadata": {},
   "outputs": [],
   "source": [
    "with open('../../var-dict.txt','wb') as f:\n",
    "    pickle.dump(var_dict,f)"
   ]
  },
  {
   "cell_type": "code",
   "execution_count": null,
   "metadata": {},
   "outputs": [],
   "source": [
    "import pickle\n",
    "file = open(\"artefacts.txt\", \"wb\") \n",
    "  \n",
    "dictionary = param \n",
    "pickle.dump(dictionary, file) \n",
    "file.close() \n"
   ]
  }
 ],
 "metadata": {
  "kernelspec": {
   "display_name": "Python 3",
   "language": "python",
   "name": "python3"
  },
  "language_info": {
   "codemirror_mode": {
    "name": "ipython",
    "version": 3
   },
   "file_extension": ".py",
   "mimetype": "text/x-python",
   "name": "python",
   "nbconvert_exporter": "python",
   "pygments_lexer": "ipython3",
   "version": "3.8.5"
  }
 },
 "nbformat": 4,
 "nbformat_minor": 4
}
