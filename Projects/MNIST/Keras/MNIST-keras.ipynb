{
 "cells": [
  {
   "cell_type": "markdown",
   "metadata": {},
   "source": [
    "### Convolutional Neural Network "
   ]
  },
  {
   "cell_type": "code",
   "execution_count": 3,
   "metadata": {},
   "outputs": [],
   "source": [
    "import tensorflow as tf\n",
    "import matplotlib.pyplot as plt\n",
    "import pandas as pd \n",
    "plt.style.use('seaborn-white')\n",
    "import numpy as np\n",
    "import warnings \n",
    "warnings.filterwarnings('ignore','DeprecatedWarnings')\n",
    "warnings.filterwarnings('ignore','UserWarnings')"
   ]
  },
  {
   "cell_type": "code",
   "execution_count": 4,
   "metadata": {},
   "outputs": [
    {
     "data": {
      "text/plain": [
       "'2.4.1'"
      ]
     },
     "execution_count": 4,
     "metadata": {},
     "output_type": "execute_result"
    }
   ],
   "source": [
    "tf.__version__"
   ]
  },
  {
   "cell_type": "markdown",
   "metadata": {},
   "source": [
    "### Loading DataSet"
   ]
  },
  {
   "cell_type": "code",
   "execution_count": 5,
   "metadata": {},
   "outputs": [],
   "source": [
    "from tensorflow.keras.datasets import mnist\n",
    "(x_train, y_train), ( x_test, y_test) = mnist.load_data()"
   ]
  },
  {
   "cell_type": "markdown",
   "metadata": {},
   "source": [
    "### View"
   ]
  },
  {
   "cell_type": "code",
   "execution_count": 6,
   "metadata": {},
   "outputs": [
    {
     "data": {
      "text/plain": [
       "Text(0.5, 1.0, 'label 7')"
      ]
     },
     "execution_count": 6,
     "metadata": {},
     "output_type": "execute_result"
    },
    {
     "data": {
      "image/png": "[encoded data removed]",
      "text/plain": [
       "<Figure size 432x288 with 1 Axes>"
      ]
     },
     "metadata": {},
     "output_type": "display_data"
    }
   ],
   "source": [
    "index = 15\n",
    "plt.imshow(x_train[index],cmap='binary')\n",
    "plt.title('label {}'.format(y_train[index]))"
   ]
  },
  {
   "cell_type": "markdown",
   "metadata": {},
   "source": [
    "### Dimensions"
   ]
  },
  {
   "cell_type": "code",
   "execution_count": 7,
   "metadata": {},
   "outputs": [
    {
     "name": "stdout",
     "output_type": "stream",
     "text": [
      "X_train Dimension (60000, 28, 28)\n",
      "y_train Dimension (60000,)\n",
      "X_test Dimension (10000, 28, 28)\n",
      "y_test Dimension (10000,)\n",
      "Each Image HxW : 28x28\n"
     ]
    }
   ],
   "source": [
    "print('X_train Dimension {}'.format(x_train.shape))\n",
    "print('y_train Dimension {}'.format(y_train.shape)) # (val,1)\n",
    "print('X_test Dimension {}'.format(x_test.shape))\n",
    "print('y_test Dimension {}'.format(y_test.shape)) # (val,1)\n",
    "print('Each Image HxW : {}x{}'.format(x_train[0].shape[0],x_train.shape[1]))"
   ]
  },
  {
   "cell_type": "markdown",
   "metadata": {},
   "source": [
    "### One-Hot Encoding the Target Labels"
   ]
  },
  {
   "cell_type": "code",
   "execution_count": 8,
   "metadata": {},
   "outputs": [],
   "source": [
    "from tensorflow.keras.utils import to_categorical"
   ]
  },
  {
   "cell_type": "code",
   "execution_count": 9,
   "metadata": {},
   "outputs": [],
   "source": [
    "y_train = to_categorical(y_train)\n",
    "y_test = to_categorical(y_test)"
   ]
  },
  {
   "cell_type": "code",
   "execution_count": 10,
   "metadata": {},
   "outputs": [
    {
     "data": {
      "text/plain": [
       "(60000, 10)"
      ]
     },
     "execution_count": 10,
     "metadata": {},
     "output_type": "execute_result"
    }
   ],
   "source": [
    "y_train.shape # one-hot encoded 10 dimensional vector"
   ]
  },
  {
   "cell_type": "markdown",
   "metadata": {},
   "source": [
    "### Changing Dimensions"
   ]
  },
  {
   "cell_type": "code",
   "execution_count": 11,
   "metadata": {},
   "outputs": [
    {
     "name": "stdout",
     "output_type": "stream",
     "text": [
      "Current Dimensions of Training Set : (60000, 28, 28)\n",
      "Current Dimensions of Test Set :  (10000, 28, 28)\n"
     ]
    }
   ],
   "source": [
    "# current dimensions\n",
    "print('Current Dimensions of Training Set : {}'.format(x_train.shape))\n",
    "print('Current Dimensions of Test Set :  {}'.format(x_test.shape))"
   ]
  },
  {
   "cell_type": "code",
   "execution_count": 12,
   "metadata": {},
   "outputs": [
    {
     "data": {
      "text/plain": [
       "60000"
      ]
     },
     "execution_count": 12,
     "metadata": {},
     "output_type": "execute_result"
    }
   ],
   "source": [
    "x_train.shape[0]"
   ]
  },
  {
   "cell_type": "code",
   "execution_count": 13,
   "metadata": {},
   "outputs": [
    {
     "name": "stdout",
     "output_type": "stream",
     "text": [
      "Changed Dimensions of Training Set (60000, 28, 28, 1)\n",
      "Changed Dimensions of Test Set (10000, 28, 28, 1)\n"
     ]
    }
   ],
   "source": [
    "# Changing Dimensions to (60000, 28, 28, 1 ) # where 1 represents the color channel\n",
    "x_train = x_train.reshape(60000,28,28,1)\n",
    "x_test = x_test.reshape(10000,28,28,1)\n",
    "print('Changed Dimensions of Training Set {}'.format(x_train.shape))\n",
    "print('Changed Dimensions of Test Set {}'.format(x_test.shape))"
   ]
  },
  {
   "cell_type": "markdown",
   "metadata": {},
   "source": [
    "### Data Normalisation "
   ]
  },
  {
   "cell_type": "code",
   "execution_count": 14,
   "metadata": {},
   "outputs": [],
   "source": [
    "x_train = x_train.astype(\"float\")/255.0\n",
    "x_test = x_test.astype(\"float\")/255.0"
   ]
  },
  {
   "cell_type": "markdown",
   "metadata": {},
   "source": [
    "### Constructing the ConvNet Architecture"
   ]
  },
  {
   "cell_type": "code",
   "execution_count": 15,
   "metadata": {},
   "outputs": [],
   "source": [
    "from tensorflow.keras.models import Sequential\n",
    "from tensorflow.keras.layers import Dense, Dropout, Activation, Flatten, Conv2D, MaxPooling2D"
   ]
  },
  {
   "cell_type": "code",
   "execution_count": 16,
   "metadata": {},
   "outputs": [],
   "source": [
    "model = Sequential()\n",
    "model.add(Conv2D(filters=32, kernel_size=(3, 3), activation='relu',input_shape=x_train.shape[1:]))\n",
    "\n",
    "model.add(MaxPooling2D(pool_size=(2, 2)))\n",
    "\n",
    "model.add(Flatten())\n",
    "\n",
    "model.add(Dense(128, activation='relu'))\n",
    "\n",
    "model.add(Dense(10, activation='softmax'))"
   ]
  },
  {
   "cell_type": "code",
   "execution_count": 17,
   "metadata": {},
   "outputs": [],
   "source": [
    "model.compile(loss='categorical_crossentropy', optimizer='adam', metrics=['accuracy'])"
   ]
  },
  {
   "cell_type": "code",
   "execution_count": 18,
   "metadata": {
    "scrolled": false
   },
   "outputs": [
    {
     "name": "stdout",
     "output_type": "stream",
     "text": [
      "Model: \"sequential\"\n",
      "_________________________________________________________________\n",
      "Layer (type)                 Output Shape              Param #   \n",
      "=================================================================\n",
      "conv2d (Conv2D)              (None, 26, 26, 32)        320       \n",
      "_________________________________________________________________\n",
      "max_pooling2d (MaxPooling2D) (None, 13, 13, 32)        0         \n",
      "_________________________________________________________________\n",
      "flatten (Flatten)            (None, 5408)              0         \n",
      "_________________________________________________________________\n",
      "dense (Dense)                (None, 128)               692352    \n",
      "_________________________________________________________________\n",
      "dense_1 (Dense)              (None, 10)                1290      \n",
      "=================================================================\n",
      "Total params: 693,962\n",
      "Trainable params: 693,962\n",
      "Non-trainable params: 0\n",
      "_________________________________________________________________\n"
     ]
    }
   ],
   "source": [
    "model.summary()"
   ]
  },
  {
   "cell_type": "code",
   "execution_count": 19,
   "metadata": {},
   "outputs": [
    {
     "name": "stdout",
     "output_type": "stream",
     "text": [
      "Epoch 1/5\n",
      "1875/1875 [==============================] - 12s 6ms/step - loss: 0.2979 - accuracy: 0.9132 - val_loss: 0.0596 - val_accuracy: 0.9804\n",
      "Epoch 2/5\n",
      "1875/1875 [==============================] - 12s 6ms/step - loss: 0.0535 - accuracy: 0.9841 - val_loss: 0.0615 - val_accuracy: 0.9811\n",
      "Epoch 3/5\n",
      "1875/1875 [==============================] - 12s 6ms/step - loss: 0.0343 - accuracy: 0.9891 - val_loss: 0.0500 - val_accuracy: 0.9839\n",
      "Epoch 4/5\n",
      "1875/1875 [==============================] - 11s 6ms/step - loss: 0.0197 - accuracy: 0.9945 - val_loss: 0.0468 - val_accuracy: 0.9840\n",
      "Epoch 5/5\n",
      "1875/1875 [==============================] - 12s 6ms/step - loss: 0.0133 - accuracy: 0.9962 - val_loss: 0.0519 - val_accuracy: 0.9845\n",
      "elapsed : 0.97\n"
     ]
    }
   ],
   "source": [
    "import time\n",
    "start = time.perf_counter()\n",
    "model.fit(x_train,y_train, epochs=5, validation_data=(x_test, y_test))\n",
    "\n",
    "time_taken = time.perf_counter() - start\n",
    "print('elapsed : {:.2f}'.format(time_taken/60))"
   ]
  },
  {
   "cell_type": "code",
   "execution_count": 20,
   "metadata": {},
   "outputs": [],
   "source": [
    "history = pd.DataFrame(model.history.history)"
   ]
  },
  {
   "cell_type": "code",
   "execution_count": 21,
   "metadata": {},
   "outputs": [
    {
     "data": {
      "text/html": [
       "<div>\n",
       "<style scoped>\n",
       "    .dataframe tbody tr th:only-of-type {\n",
       "        vertical-align: middle;\n",
       "    }\n",
       "\n",
       "    .dataframe tbody tr th {\n",
       "        vertical-align: top;\n",
       "    }\n",
       "\n",
       "    .dataframe thead th {\n",
       "        text-align: right;\n",
       "    }\n",
       "</style>\n",
       "<table border=\"1\" class=\"dataframe\">\n",
       "  <thead>\n",
       "    <tr style=\"text-align: right;\">\n",
       "      <th></th>\n",
       "      <th>loss</th>\n",
       "      <th>accuracy</th>\n",
       "      <th>val_loss</th>\n",
       "      <th>val_accuracy</th>\n",
       "    </tr>\n",
       "  </thead>\n",
       "  <tbody>\n",
       "    <tr>\n",
       "      <th>0</th>\n",
       "      <td>0.148471</td>\n",
       "      <td>0.956017</td>\n",
       "      <td>0.059566</td>\n",
       "      <td>0.9804</td>\n",
       "    </tr>\n",
       "    <tr>\n",
       "      <th>1</th>\n",
       "      <td>0.052131</td>\n",
       "      <td>0.984000</td>\n",
       "      <td>0.061468</td>\n",
       "      <td>0.9811</td>\n",
       "    </tr>\n",
       "    <tr>\n",
       "      <th>2</th>\n",
       "      <td>0.033199</td>\n",
       "      <td>0.989733</td>\n",
       "      <td>0.050020</td>\n",
       "      <td>0.9839</td>\n",
       "    </tr>\n",
       "    <tr>\n",
       "      <th>3</th>\n",
       "      <td>0.022586</td>\n",
       "      <td>0.993217</td>\n",
       "      <td>0.046791</td>\n",
       "      <td>0.9840</td>\n",
       "    </tr>\n",
       "    <tr>\n",
       "      <th>4</th>\n",
       "      <td>0.015001</td>\n",
       "      <td>0.995167</td>\n",
       "      <td>0.051869</td>\n",
       "      <td>0.9845</td>\n",
       "    </tr>\n",
       "  </tbody>\n",
       "</table>\n",
       "</div>"
      ],
      "text/plain": [
       "       loss  accuracy  val_loss  val_accuracy\n",
       "0  0.148471  0.956017  0.059566        0.9804\n",
       "1  0.052131  0.984000  0.061468        0.9811\n",
       "2  0.033199  0.989733  0.050020        0.9839\n",
       "3  0.022586  0.993217  0.046791        0.9840\n",
       "4  0.015001  0.995167  0.051869        0.9845"
      ]
     },
     "execution_count": 21,
     "metadata": {},
     "output_type": "execute_result"
    }
   ],
   "source": [
    "history"
   ]
  },
  {
   "cell_type": "code",
   "execution_count": 22,
   "metadata": {},
   "outputs": [
    {
     "data": {
      "text/plain": [
       "<AxesSubplot:title={'center':'Epochs-vs-Loss'}>"
      ]
     },
     "execution_count": 22,
     "metadata": {},
     "output_type": "execute_result"
    },
    {
     "data": {
      "image/png": "[encoded data removed]",
      "text/plain": [
       "<Figure size 432x288 with 1 Axes>"
      ]
     },
     "metadata": {},
     "output_type": "display_data"
    }
   ],
   "source": [
    "history['loss'].plot(title='Epochs-vs-Loss',color='orange')"
   ]
  },
  {
   "cell_type": "code",
   "execution_count": 23,
   "metadata": {},
   "outputs": [
    {
     "data": {
      "text/plain": [
       "<AxesSubplot:title={'center':'Epochs-vs-Accuracy'}>"
      ]
     },
     "execution_count": 23,
     "metadata": {},
     "output_type": "execute_result"
    },
    {
     "data": {
      "image/png": "[encoded data removed]",
      "text/plain": [
       "<Figure size 432x288 with 1 Axes>"
      ]
     },
     "metadata": {},
     "output_type": "display_data"
    }
   ],
   "source": [
    "history['accuracy'].plot(title='Epochs-vs-Accuracy',color='orange')"
   ]
  },
  {
   "cell_type": "code",
   "execution_count": 24,
   "metadata": {},
   "outputs": [
    {
     "data": {
      "text/plain": [
       "<AxesSubplot:title={'center':'Epochs-vs-Validation Loss'}>"
      ]
     },
     "execution_count": 24,
     "metadata": {},
     "output_type": "execute_result"
    },
    {
     "data": {
      "image/png": "[encoded data removed]",
      "text/plain": [
       "<Figure size 432x288 with 1 Axes>"
      ]
     },
     "metadata": {},
     "output_type": "display_data"
    }
   ],
   "source": [
    "history['val_loss'].plot(title='Epochs-vs-Validation Loss',color='orange')"
   ]
  },
  {
   "cell_type": "code",
   "execution_count": 25,
   "metadata": {},
   "outputs": [
    {
     "data": {
      "text/plain": [
       "<AxesSubplot:title={'center':'Epochs-vs-Validation Loss'}>"
      ]
     },
     "execution_count": 25,
     "metadata": {},
     "output_type": "execute_result"
    },
    {
     "data": {
      "image/png": "[encoded data removed]",
      "text/plain": [
       "<Figure size 432x288 with 1 Axes>"
      ]
     },
     "metadata": {},
     "output_type": "display_data"
    }
   ],
   "source": [
    "history['val_accuracy'].plot(title='Epochs-vs-Validation Loss',color='orange')"
   ]
  },
  {
   "cell_type": "code",
   "execution_count": 26,
   "metadata": {},
   "outputs": [],
   "source": [
    "from sklearn.metrics import classification_report"
   ]
  },
  {
   "cell_type": "code",
   "execution_count": 27,
   "metadata": {},
   "outputs": [
    {
     "name": "stderr",
     "output_type": "stream",
     "text": [
      "/Users/rohan/opt/anaconda3/lib/python3.8/site-packages/tensorflow/python/keras/engine/sequential.py:450: UserWarning: `model.predict_classes()` is deprecated and will be removed after 2021-01-01. Please use instead:* `np.argmax(model.predict(x), axis=-1)`,   if your model does multi-class classification   (e.g. if it uses a `softmax` last-layer activation).* `(model.predict(x) > 0.5).astype(\"int32\")`,   if your model does binary classification   (e.g. if it uses a `sigmoid` last-layer activation).\n",
      "  warnings.warn('`model.predict_classes()` is deprecated and '\n"
     ]
    }
   ],
   "source": [
    "predictions = model.predict_classes(x_test)\n",
    "metric_report = classification_report(np.argmax(y_test,1),predictions)\n"
   ]
  },
  {
   "cell_type": "code",
   "execution_count": 28,
   "metadata": {},
   "outputs": [
    {
     "name": "stdout",
     "output_type": "stream",
     "text": [
      "              precision    recall  f1-score   support\n",
      "\n",
      "           0       0.99      0.99      0.99       980\n",
      "           1       1.00      0.99      1.00      1135\n",
      "           2       0.98      0.99      0.99      1032\n",
      "           3       0.98      0.98      0.98      1010\n",
      "           4       0.99      0.99      0.99       982\n",
      "           5       0.95      1.00      0.97       892\n",
      "           6       0.99      0.98      0.99       958\n",
      "           7       0.99      0.99      0.99      1028\n",
      "           8       0.99      0.96      0.97       974\n",
      "           9       0.99      0.97      0.98      1009\n",
      "\n",
      "    accuracy                           0.98     10000\n",
      "   macro avg       0.98      0.98      0.98     10000\n",
      "weighted avg       0.98      0.98      0.98     10000\n",
      "\n"
     ]
    }
   ],
   "source": [
    "print(metric_report)"
   ]
  },
  {
   "cell_type": "code",
   "execution_count": null,
   "metadata": {},
   "outputs": [],
   "source": []
  },
  {
   "cell_type": "code",
   "execution_count": 29,
   "metadata": {},
   "outputs": [],
   "source": [
    "epochs=5\n",
    "train_acc = history['accuracy'][epochs-1]\n",
    "test_acc = history['val_accuracy'][epochs-1]\n",
    "train_acc *= 100\n",
    "test_acc *= 100"
   ]
  },
  {
   "cell_type": "code",
   "execution_count": 30,
   "metadata": {},
   "outputs": [
    {
     "name": "stdout",
     "output_type": "stream",
     "text": [
      "Training Accuracy, last-epoch 99.52\n",
      "Testing Accuracy, last-epoch 98.45\n"
     ]
    }
   ],
   "source": [
    "print('Training Accuracy, last-epoch {:.2f}'.format(train_acc))\n",
    "print('Testing Accuracy, last-epoch {:.2f}'.format(test_acc))"
   ]
  },
  {
   "cell_type": "markdown",
   "metadata": {},
   "source": [
    "### Evaluation"
   ]
  },
  {
   "cell_type": "code",
   "execution_count": 31,
   "metadata": {},
   "outputs": [
    {
     "data": {
      "text/plain": [
       "Text(0.5, 1.0, 'label - [6]')"
      ]
     },
     "execution_count": 31,
     "metadata": {},
     "output_type": "execute_result"
    },
    {
     "data": {
      "image/png": "[encoded data removed]",
      "text/plain": [
       "<Figure size 432x288 with 1 Axes>"
      ]
     },
     "metadata": {},
     "output_type": "display_data"
    }
   ],
   "source": [
    "index = np.random.randint(1,10000,1)\n",
    "random_sample = x_test[index]\n",
    "label = np.argmax(y_test[index],1)\n",
    "plt.imshow(random_sample.reshape(28,28),cmap='binary')\n",
    "plt.title('label - {}'.format(label))"
   ]
  },
  {
   "cell_type": "code",
   "execution_count": 32,
   "metadata": {},
   "outputs": [
    {
     "name": "stdout",
     "output_type": "stream",
     "text": [
      "Model Thinks this is 6\n",
      "Which is True\n"
     ]
    }
   ],
   "source": [
    "# Evaluating the predicted value\n",
    "print('Model Thinks this is {}'.format(model.predict_classes(random_sample.reshape(1,28,28,1))[0]))\n",
    "if label[0] == model.predict_classes(random_sample.reshape(1,28,28,1))[0]:\n",
    "    print('Which is True')\n",
    "else:\n",
    "    print('It is incorrect')"
   ]
  },
  {
   "cell_type": "markdown",
   "metadata": {},
   "source": [
    "### Miscellaneous"
   ]
  },
  {
   "cell_type": "code",
   "execution_count": 33,
   "metadata": {},
   "outputs": [
    {
     "name": "stdout",
     "output_type": "stream",
     "text": [
      "\u001b[34mMNIST\u001b[m\u001b[m                   \u001b[31mpipeline.py\u001b[m\u001b[m             var-dict.txt\r\n",
      "PipeLine Testing .ipynb \u001b[31msample_data.py\u001b[m\u001b[m\r\n",
      "__init__.py             test.pt\r\n"
     ]
    }
   ],
   "source": [
    "! ls ../../"
   ]
  },
  {
   "cell_type": "code",
   "execution_count": 34,
   "metadata": {},
   "outputs": [],
   "source": [
    "# desc-----string\n",
    "# project_name-----string\n",
    "# framework-----string\n",
    "# prediction_type-----string\n",
    "# network_type-----string\n",
    "# architecture-----string\n",
    "# layers-----int\n",
    "# hidden_units-----int\n",
    "# activations-----string(list)\n",
    "# epochs-----int\n",
    "# metrics-----string\n",
    "# train_accuracy-----float%\n",
    "# test_accuracy-----float%\n",
    "# classification_report-----string\n",
    "# elapsed-----float\n",
    "# summary-----string\n",
    "# ipynb-----path\n",
    "# plots-----path"
   ]
  },
  {
   "cell_type": "code",
   "execution_count": 35,
   "metadata": {},
   "outputs": [],
   "source": [
    "summary = '''This implementation is slightly different that of the Pytorch's, in here there are only 5 layers with batch_size equal to the total X_train size which simply means that we are performing batchGD. Same as Pytorch's Version of the implementation, Even the Keras model slightly starts to overfit after the 2nd epoch in this case, but the difference is not prominent to be concerned with performance, the model is 98% accurate with unseen data.'''"
   ]
  },
  {
   "cell_type": "code",
   "execution_count": 36,
   "metadata": {},
   "outputs": [
    {
     "data": {
      "text/plain": [
       "\"This implementation is slightly different that of the Pytorch's, in here there are only 5 layers with batch_size equal to the total X_train size which simply means that we are performing batchGD. Same as Pytorch's Version of the implementation, Even the Keras model slightly starts to overfit after the 2nd epoch in this case, but the difference is not prominent to be concerned with performance, the model is 98% accurate with unseen data.\""
      ]
     },
     "execution_count": 36,
     "metadata": {},
     "output_type": "execute_result"
    }
   ],
   "source": [
    "summary"
   ]
  },
  {
   "cell_type": "code",
   "execution_count": 56,
   "metadata": {},
   "outputs": [],
   "source": [
    "desc = 'The MNIST database of handwritten digits, available from this page, has a training set of 60,000 examples, and a test set of 10,000 examples. It is a subset of a larger set available from NIST. The digits have been size-normalized and centered in a fixed-size image.'\n",
    "project_name = 'MNIST'\n",
    "framework = 'Keras'\n",
    "prediction_type = 'Multi-Class Classification - 10 Classes'\n",
    "network_type = 'Convolutional Neural Network'\n",
    "architecture = s\n",
    "layers = 5\n",
    "hidden_units = 'None'\n",
    "activations = \"['relu','softmax']\"\n",
    "epochs = 5\n",
    "metrics = str(model.metrics_names)\n",
    "loss = 'Categorical Cross-Entropy'\n",
    "optimizer = 'Adam'\n",
    "learning_rate = 'Alpha = 0.01'\n",
    "batch_size = 'Total Data as a Batch'\n",
    "train_accuracy = '{:.2f}'.format(train_acc)\n",
    "test_accuracy = '{:.2f}'.format(test_acc)\n",
    "classification_report = metric_report\n",
    "elapsed = '{:.2f}'.format(time_taken/60) + ' Mins'\n",
    "summary = summary\n",
    "ipynb = './Projects/MNIST/Keras/MNIST-Keras.pdf'\n",
    "plots = './Projects/MNIST/Keras/Plots'\n"
   ]
  },
  {
   "cell_type": "code",
   "execution_count": 57,
   "metadata": {},
   "outputs": [],
   "source": [
    "s = '''Model: \"sequential\"\n",
    "_________________________________________________________________\n",
    "Layer (type)                 Output Shape              Param #   \n",
    "=================================================================\n",
    "conv2d (Conv2D)              (None, 26, 26, 32)        320       \n",
    "_________________________________________________________________\n",
    "max_pooling2d (MaxPooling2D) (None, 13, 13, 32)        0         \n",
    "_________________________________________________________________\n",
    "flatten (Flatten)            (None, 5408)              0         \n",
    "_________________________________________________________________\n",
    "dense (Dense)                (None, 128)               692352    \n",
    "_________________________________________________________________\n",
    "dense_1 (Dense)              (None, 10)                1290      \n",
    "=================================================================\n",
    "Total params: 693,962\n",
    "Trainable params: 693,962\n",
    "Non-trainable params: 0\n",
    "_________________________________________________________________'''"
   ]
  },
  {
   "cell_type": "code",
   "execution_count": 58,
   "metadata": {},
   "outputs": [],
   "source": [
    "var = ['desc','project_name', 'framework','prediction_type','network_type',\n",
    "       'architecture','layers','hidden_units','activations','epochs',\n",
    "       'metrics','loss','optimiser','learning_rate','batch_size','train_accuracy','test_accuracy','classification_report','elapsed','summary'\n",
    "       ,'ipynb','plots']"
   ]
  },
  {
   "cell_type": "code",
   "execution_count": 59,
   "metadata": {},
   "outputs": [],
   "source": [
    "param = {}\n",
    "for val in var:\n",
    "    \n",
    "    try: \n",
    "        param[val] = eval(val)\n",
    "    except:\n",
    "        param[val] = val"
   ]
  },
  {
   "cell_type": "code",
   "execution_count": 63,
   "metadata": {},
   "outputs": [],
   "source": [
    "param['optimiser'] = 'Adam'"
   ]
  },
  {
   "cell_type": "code",
   "execution_count": 64,
   "metadata": {},
   "outputs": [],
   "source": [
    " \n",
    "import pickle\n",
    "file = open(\"artefacts.txt\", \"wb\") \n",
    "dictionary = param \n",
    "pickle.dump(dictionary, file) \n",
    "file.close() "
   ]
  },
  {
   "cell_type": "code",
   "execution_count": 51,
   "metadata": {},
   "outputs": [
    {
     "name": "stdout",
     "output_type": "stream",
     "text": [
      "\r\n",
      "\r\n",
      "preliminary - \r\n",
      "\r\n",
      "        * create - /Plots and save all the epoch-cycle plots \r\n",
      "        * create data for rendering # trail \r\n",
      "        \r\n",
      "step - 1, use ../../pipline -varl with 1 to get the var-dict to show the variables to be filled with \r\n",
      "step - 2 - use the following snippet after fetching ../../pipeline -varl with 2 \r\n",
      "    example: \r\n",
      "    var = ['desc','project_name', 'framework','prediction_type','network_type',\r\n",
      "    'architecture','layers','hidden_units','activations','epochs',\r\n",
      "    'metrics','train_accuracy','test_accuracy','classification_report','elapsed','summary'\r\n",
      "    ,'ipynb','plots']\r\n",
      "    param = {}\r\n",
      "    for val in var:\r\n",
      "\r\n",
      "        try: \r\n",
      "            param[val] = eval(val)\r\n",
      "\r\n",
      "        except:\r\n",
      "            param[val] = val\r\n",
      "step - 3 - pickle dump \r\n",
      "\r\n",
      "    import pickle\r\n",
      "    file = open(\"artefacts.txt\", \"wb\") \r\n",
      "    dictionary = param \r\n",
      "    pickle.dump(dictionary, file) \r\n",
      "    file.close() \r\n",
      "\r\n",
      "step - 4 - ./pipeline.py -np \r\n",
      "\r\n",
      "    * relative path to the project ex - ./MNIST\r\n",
      "    * choose framework \r\n",
      "    * done!\r\n",
      " \r\n",
      "    \r\n"
     ]
    }
   ],
   "source": [
    "! ../../pipeline.py --state"
   ]
  },
  {
   "cell_type": "code",
   "execution_count": null,
   "metadata": {},
   "outputs": [],
   "source": []
  }
 ],
 "metadata": {
  "kernelspec": {
   "display_name": "Python 3",
   "language": "python",
   "name": "python3"
  },
  "language_info": {
   "codemirror_mode": {
    "name": "ipython",
    "version": 3
   },
   "file_extension": ".py",
   "mimetype": "text/x-python",
   "name": "python",
   "nbconvert_exporter": "python",
   "pygments_lexer": "ipython3",
   "version": "3.8.5"
  }
 },
 "nbformat": 4,
 "nbformat_minor": 4
}
