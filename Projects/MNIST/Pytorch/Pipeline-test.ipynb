{
 "cells": [
  {
   "cell_type": "markdown",
   "metadata": {},
   "source": [
    "### Convolutional Neural Network "
   ]
  },
  {
   "cell_type": "code",
   "execution_count": 1,
   "metadata": {},
   "outputs": [],
   "source": [
    "import torch \n",
    "import torch.nn as nn\n",
    "import torch.nn.functional as F\n",
    "from torch.utils.data import DataLoader\n",
    "from torchvision import datasets, transforms\n",
    "from torchvision.utils import make_grid\n",
    "\n",
    "import numpy as np\n",
    "import matplotlib.pyplot as plt\n",
    "from sklearn.metrics import confusion_matrix, classification_report\n",
    "plt.style.use('seaborn-white')\n",
    "import warnings \n",
    "warnings.filterwarnings('ignore','DeprecatedWarnings')"
   ]
  },
  {
   "cell_type": "code",
   "execution_count": 2,
   "metadata": {},
   "outputs": [
    {
     "name": "stdout",
     "output_type": "stream",
     "text": [
      "/Users/rohan/opt/anaconda3/bin/python\r\n"
     ]
    }
   ],
   "source": [
    "! which python"
   ]
  },
  {
   "cell_type": "code",
   "execution_count": 3,
   "metadata": {},
   "outputs": [
    {
     "name": "stdout",
     "output_type": "stream",
     "text": [
      "Requirement already satisfied: tensorflow in /Users/rohan/opt/anaconda3/lib/python3.8/site-packages (2.4.1)\n",
      "Requirement already satisfied: gast==0.3.3 in /Users/rohan/opt/anaconda3/lib/python3.8/site-packages (from tensorflow) (0.3.3)\n",
      "Requirement already satisfied: wrapt~=1.12.1 in /Users/rohan/opt/anaconda3/lib/python3.8/site-packages (from tensorflow) (1.12.1)\n",
      "Requirement already satisfied: h5py~=2.10.0 in /Users/rohan/opt/anaconda3/lib/python3.8/site-packages (from tensorflow) (2.10.0)\n",
      "Requirement already satisfied: google-pasta~=0.2 in /Users/rohan/opt/anaconda3/lib/python3.8/site-packages (from tensorflow) (0.2.0)\n",
      "Requirement already satisfied: absl-py~=0.10 in /Users/rohan/opt/anaconda3/lib/python3.8/site-packages (from tensorflow) (0.11.0)\n",
      "Requirement already satisfied: termcolor~=1.1.0 in /Users/rohan/opt/anaconda3/lib/python3.8/site-packages (from tensorflow) (1.1.0)\n",
      "Requirement already satisfied: flatbuffers~=1.12.0 in /Users/rohan/opt/anaconda3/lib/python3.8/site-packages (from tensorflow) (1.12)\n",
      "Requirement already satisfied: six~=1.15.0 in /Users/rohan/opt/anaconda3/lib/python3.8/site-packages (from tensorflow) (1.15.0)\n",
      "Requirement already satisfied: wheel~=0.35 in /Users/rohan/opt/anaconda3/lib/python3.8/site-packages (from tensorflow) (0.35.1)\n",
      "Requirement already satisfied: tensorboard~=2.4 in /Users/rohan/opt/anaconda3/lib/python3.8/site-packages (from tensorflow) (2.4.1)\n",
      "Requirement already satisfied: tensorflow-estimator<2.5.0,>=2.4.0 in /Users/rohan/opt/anaconda3/lib/python3.8/site-packages (from tensorflow) (2.4.0)\n",
      "Requirement already satisfied: typing-extensions~=3.7.4 in /Users/rohan/opt/anaconda3/lib/python3.8/site-packages (from tensorflow) (3.7.4.3)\n",
      "Requirement already satisfied: numpy~=1.19.2 in /Users/rohan/opt/anaconda3/lib/python3.8/site-packages (from tensorflow) (1.19.2)\n",
      "Requirement already satisfied: grpcio~=1.32.0 in /Users/rohan/opt/anaconda3/lib/python3.8/site-packages (from tensorflow) (1.32.0)\n",
      "Requirement already satisfied: keras-preprocessing~=1.1.2 in /Users/rohan/opt/anaconda3/lib/python3.8/site-packages (from tensorflow) (1.1.2)\n",
      "Requirement already satisfied: opt-einsum~=3.3.0 in /Users/rohan/opt/anaconda3/lib/python3.8/site-packages (from tensorflow) (3.3.0)\n",
      "Requirement already satisfied: protobuf>=3.9.2 in /Users/rohan/opt/anaconda3/lib/python3.8/site-packages (from tensorflow) (3.14.0)\n",
      "Requirement already satisfied: astunparse~=1.6.3 in /Users/rohan/opt/anaconda3/lib/python3.8/site-packages (from tensorflow) (1.6.3)\n",
      "Requirement already satisfied: markdown>=2.6.8 in /Users/rohan/opt/anaconda3/lib/python3.8/site-packages (from tensorboard~=2.4->tensorflow) (3.3.3)\n",
      "Requirement already satisfied: google-auth-oauthlib<0.5,>=0.4.1 in /Users/rohan/opt/anaconda3/lib/python3.8/site-packages (from tensorboard~=2.4->tensorflow) (0.4.2)\n",
      "Requirement already satisfied: tensorboard-plugin-wit>=1.6.0 in /Users/rohan/opt/anaconda3/lib/python3.8/site-packages (from tensorboard~=2.4->tensorflow) (1.8.0)\n",
      "Requirement already satisfied: setuptools>=41.0.0 in /Users/rohan/opt/anaconda3/lib/python3.8/site-packages (from tensorboard~=2.4->tensorflow) (50.3.1.post20201107)\n",
      "Requirement already satisfied: google-auth<2,>=1.6.3 in /Users/rohan/opt/anaconda3/lib/python3.8/site-packages (from tensorboard~=2.4->tensorflow) (1.24.0)\n",
      "Requirement already satisfied: werkzeug>=0.11.15 in /Users/rohan/opt/anaconda3/lib/python3.8/site-packages (from tensorboard~=2.4->tensorflow) (1.0.1)\n",
      "Requirement already satisfied: requests<3,>=2.21.0 in /Users/rohan/opt/anaconda3/lib/python3.8/site-packages (from tensorboard~=2.4->tensorflow) (2.24.0)\n",
      "Requirement already satisfied: requests-oauthlib>=0.7.0 in /Users/rohan/opt/anaconda3/lib/python3.8/site-packages (from google-auth-oauthlib<0.5,>=0.4.1->tensorboard~=2.4->tensorflow) (1.3.0)\n",
      "Requirement already satisfied: pyasn1-modules>=0.2.1 in /Users/rohan/opt/anaconda3/lib/python3.8/site-packages (from google-auth<2,>=1.6.3->tensorboard~=2.4->tensorflow) (0.2.8)\n",
      "Requirement already satisfied: cachetools<5.0,>=2.0.0 in /Users/rohan/opt/anaconda3/lib/python3.8/site-packages (from google-auth<2,>=1.6.3->tensorboard~=2.4->tensorflow) (4.2.1)\n",
      "Requirement already satisfied: rsa<5,>=3.1.4; python_version >= \"3.6\" in /Users/rohan/opt/anaconda3/lib/python3.8/site-packages (from google-auth<2,>=1.6.3->tensorboard~=2.4->tensorflow) (4.7)\n",
      "Requirement already satisfied: idna<3,>=2.5 in /Users/rohan/opt/anaconda3/lib/python3.8/site-packages (from requests<3,>=2.21.0->tensorboard~=2.4->tensorflow) (2.10)\n",
      "Requirement already satisfied: urllib3!=1.25.0,!=1.25.1,<1.26,>=1.21.1 in /Users/rohan/opt/anaconda3/lib/python3.8/site-packages (from requests<3,>=2.21.0->tensorboard~=2.4->tensorflow) (1.25.11)\n",
      "Requirement already satisfied: certifi>=2017.4.17 in /Users/rohan/opt/anaconda3/lib/python3.8/site-packages (from requests<3,>=2.21.0->tensorboard~=2.4->tensorflow) (2020.6.20)\n",
      "Requirement already satisfied: chardet<4,>=3.0.2 in /Users/rohan/opt/anaconda3/lib/python3.8/site-packages (from requests<3,>=2.21.0->tensorboard~=2.4->tensorflow) (3.0.4)\n",
      "Requirement already satisfied: oauthlib>=3.0.0 in /Users/rohan/opt/anaconda3/lib/python3.8/site-packages (from requests-oauthlib>=0.7.0->google-auth-oauthlib<0.5,>=0.4.1->tensorboard~=2.4->tensorflow) (3.1.0)\n",
      "Requirement already satisfied: pyasn1<0.5.0,>=0.4.6 in /Users/rohan/opt/anaconda3/lib/python3.8/site-packages (from pyasn1-modules>=0.2.1->google-auth<2,>=1.6.3->tensorboard~=2.4->tensorflow) (0.4.8)\n"
     ]
    }
   ],
   "source": [
    "! pip install tensorflow"
   ]
  },
  {
   "cell_type": "code",
   "execution_count": 4,
   "metadata": {},
   "outputs": [
    {
     "name": "stdout",
     "output_type": "stream",
     "text": [
      "Requirement already satisfied: torch in /Users/rohan/opt/anaconda3/lib/python3.8/site-packages (1.7.1)\n",
      "Requirement already satisfied: numpy in /Users/rohan/opt/anaconda3/lib/python3.8/site-packages (from torch) (1.19.2)\n",
      "Requirement already satisfied: typing-extensions in /Users/rohan/opt/anaconda3/lib/python3.8/site-packages (from torch) (3.7.4.3)\n",
      "Requirement already satisfied: torchvision in /Users/rohan/opt/anaconda3/lib/python3.8/site-packages (0.8.2)\n",
      "Requirement already satisfied: torch==1.7.1 in /Users/rohan/opt/anaconda3/lib/python3.8/site-packages (from torchvision) (1.7.1)\n",
      "Requirement already satisfied: pillow>=4.1.1 in /Users/rohan/opt/anaconda3/lib/python3.8/site-packages (from torchvision) (8.0.1)\n",
      "Requirement already satisfied: numpy in /Users/rohan/opt/anaconda3/lib/python3.8/site-packages (from torchvision) (1.19.2)\n",
      "Requirement already satisfied: typing-extensions in /Users/rohan/opt/anaconda3/lib/python3.8/site-packages (from torch==1.7.1->torchvision) (3.7.4.3)\n"
     ]
    }
   ],
   "source": [
    "! pip install torch\n",
    "! pip install torchvision"
   ]
  },
  {
   "cell_type": "code",
   "execution_count": 5,
   "metadata": {
    "scrolled": true
   },
   "outputs": [
    {
     "data": {
      "text/plain": [
       "'1.7.1'"
      ]
     },
     "execution_count": 5,
     "metadata": {},
     "output_type": "execute_result"
    }
   ],
   "source": [
    "torch.__version__"
   ]
  },
  {
   "cell_type": "markdown",
   "metadata": {},
   "source": [
    "### Loading Datasets "
   ]
  },
  {
   "cell_type": "code",
   "execution_count": 6,
   "metadata": {
    "scrolled": true
   },
   "outputs": [],
   "source": [
    "# MNIST Is considered to be the Hello World of CNN's and Deep Learning in General, so it is \n",
    "# generally provided from as the inbuild go-to project for beginners \n",
    "transforms = transforms.ToTensor()\n",
    "train_data = datasets.MNIST(root='../Data', train=True, download=True, transform=transforms)\n",
    "test_data = datasets.MNIST(root='../Data', train=False, download=True, transform=transforms)"
   ]
  },
  {
   "cell_type": "code",
   "execution_count": 7,
   "metadata": {},
   "outputs": [
    {
     "data": {
      "text/plain": [
       "Dataset MNIST\n",
       "    Number of datapoints: 60000\n",
       "    Root location: ../Data\n",
       "    Split: Train\n",
       "    StandardTransform\n",
       "Transform: ToTensor()"
      ]
     },
     "execution_count": 7,
     "metadata": {},
     "output_type": "execute_result"
    }
   ],
   "source": [
    "train_data "
   ]
  },
  {
   "cell_type": "code",
   "execution_count": 8,
   "metadata": {},
   "outputs": [
    {
     "data": {
      "text/plain": [
       "Dataset MNIST\n",
       "    Number of datapoints: 10000\n",
       "    Root location: ../Data\n",
       "    Split: Test\n",
       "    StandardTransform\n",
       "Transform: ToTensor()"
      ]
     },
     "execution_count": 8,
     "metadata": {},
     "output_type": "execute_result"
    }
   ],
   "source": [
    "test_data "
   ]
  },
  {
   "cell_type": "markdown",
   "metadata": {},
   "source": [
    "### Data Loader Object"
   ]
  },
  {
   "cell_type": "code",
   "execution_count": 9,
   "metadata": {},
   "outputs": [],
   "source": [
    "# Pytorch's convention to create dataloader objects, to be used in the models train cycle \n",
    "batch_s = 10\n",
    "train_loader = DataLoader(train_data,batch_size=batch_s,shuffle=True)\n",
    "test_loader = DataLoader(test_data,batch_size=batch_s,shuffle=False) "
   ]
  },
  {
   "cell_type": "markdown",
   "metadata": {},
   "source": [
    "### What is the Data about? "
   ]
  },
  {
   "cell_type": "code",
   "execution_count": 10,
   "metadata": {},
   "outputs": [
    {
     "name": "stdout",
     "output_type": "stream",
     "text": [
      "\n",
      "The MNIST database of handwritten digits, available from this page, has a training set of 60,000 examples, and a test set of 10,000 examples. It is a subset of a larger set available from NIST. The digits have been size-normalized and centered in a fixed-size image.\n",
      "\n"
     ]
    }
   ],
   "source": [
    "# pipeline obj=1/\n",
    "desc = '''\n",
    "The MNIST database of handwritten digits, available from this page, has a training set of 60,000 examples, and a test set of 10,000 examples. It is a subset of a larger set available from NIST. The digits have been size-normalized and centered in a fixed-size image.\n",
    "'''\n",
    "print(desc)"
   ]
  },
  {
   "cell_type": "code",
   "execution_count": 11,
   "metadata": {},
   "outputs": [],
   "source": [
    "(x_train, y_train) = train_data[0] # one sample"
   ]
  },
  {
   "cell_type": "code",
   "execution_count": 12,
   "metadata": {},
   "outputs": [
    {
     "data": {
      "text/plain": [
       "5"
      ]
     },
     "execution_count": 12,
     "metadata": {},
     "output_type": "execute_result"
    }
   ],
   "source": [
    "y_train # label"
   ]
  },
  {
   "cell_type": "code",
   "execution_count": 13,
   "metadata": {},
   "outputs": [
    {
     "data": {
      "text/plain": [
       "Text(0.5, 1.0, 'label 5')"
      ]
     },
     "execution_count": 13,
     "metadata": {},
     "output_type": "execute_result"
    },
    {
     "data": {
      "image/png": "[encoded data removed]",
      "text/plain": [
       "<Figure size 432x288 with 1 Axes>"
      ]
     },
     "metadata": {},
     "output_type": "display_data"
    }
   ],
   "source": [
    "plt.imshow(x_train[0],cmap='binary')\n",
    "plt.title('label {}'.format(y_train))"
   ]
  },
  {
   "cell_type": "markdown",
   "metadata": {},
   "source": [
    "### Convolutional Neural Network Class"
   ]
  },
  {
   "cell_type": "markdown",
   "metadata": {},
   "source": [
    "### Buidling Model "
   ]
  },
  {
   "cell_type": "code",
   "execution_count": 14,
   "metadata": {},
   "outputs": [],
   "source": [
    "class convolutional(nn.Module):\n",
    "    \n",
    "    def __init__(self,in_channel=1,output=10): \n",
    "        super().__init__() # inheriting nn.Module\n",
    "        # defining Layer Functions \n",
    "        # input dimension = (b,28,28,1)\n",
    "        self.conv1 = nn.Conv2d(in_channels=in_channel, out_channels=6, kernel_size=(3,3), stride=1 )\n",
    "        # (b,26,26,6)\n",
    "        self.pool = nn.MaxPool2d(kernel_size=(2,2), stride=(2,2)) # f=2, s=2 \n",
    "        #  dimension (b,12,12,6)\n",
    "        self.conv2 = nn.Conv2d(in_channels=6,out_channels=16,kernel_size=(3,3),stride=1)\n",
    "        # dimension (b,10,10,16)\n",
    "        # we apply one more pool after this dimension so (b,5,5,16)\n",
    "        self.fc1 = nn.Linear(5*5*16,120)\n",
    "        self.fc2 = nn.Linear(120, 64)\n",
    "        self.fc3 = nn.Linear(in_features=64,out_features=output)\n",
    "\n",
    "    def forward(self,X):\n",
    "        # Construction of the Architecture \n",
    "        X = F.relu(self.conv1(X))\n",
    "        X = self.pool(X)\n",
    "        X = F.relu(self.conv2(X))\n",
    "        X = self.pool(X)\n",
    "        X = X.view(-1, 5*5*16) # Flatten\n",
    "        X = F.relu(self.fc1(X))\n",
    "        X = F.relu(self.fc2(X))\n",
    "        X = self.fc3(X)\n",
    "        return F.log_softmax(X, dim=1)\n",
    "    \n",
    "    \n",
    "        \n",
    "        \n"
   ]
  },
  {
   "cell_type": "code",
   "execution_count": 15,
   "metadata": {},
   "outputs": [],
   "source": [
    "net = convolutional()"
   ]
  },
  {
   "cell_type": "code",
   "execution_count": 16,
   "metadata": {},
   "outputs": [
    {
     "data": {
      "text/plain": [
       "convolutional(\n",
       "  (conv1): Conv2d(1, 6, kernel_size=(3, 3), stride=(1, 1))\n",
       "  (pool): MaxPool2d(kernel_size=(2, 2), stride=(2, 2), padding=0, dilation=1, ceil_mode=False)\n",
       "  (conv2): Conv2d(6, 16, kernel_size=(3, 3), stride=(1, 1))\n",
       "  (fc1): Linear(in_features=400, out_features=120, bias=True)\n",
       "  (fc2): Linear(in_features=120, out_features=64, bias=True)\n",
       "  (fc3): Linear(in_features=64, out_features=10, bias=True)\n",
       ")"
      ]
     },
     "execution_count": 16,
     "metadata": {},
     "output_type": "execute_result"
    }
   ],
   "source": [
    "net"
   ]
  },
  {
   "cell_type": "code",
   "execution_count": 17,
   "metadata": {
    "scrolled": true
   },
   "outputs": [
    {
     "name": "stdout",
     "output_type": "stream",
     "text": [
      "Total Learnable Params :\n",
      "        54\n",
      "         6\n",
      "       864\n",
      "        16\n",
      "     48000\n",
      "       120\n",
      "      7680\n",
      "        64\n",
      "       640\n",
      "        10\n",
      "___________\n",
      "     57454\n"
     ]
    }
   ],
   "source": [
    "print('Total Learnable Params :')\n",
    "params = [p.numel() for p in net.parameters() if p.requires_grad]\n",
    "for item in params:\n",
    "    print(f'{item:>10}')\n",
    "print(f'___________\\n{sum(params):>10}')"
   ]
  },
  {
   "cell_type": "code",
   "execution_count": 18,
   "metadata": {},
   "outputs": [],
   "source": [
    "# defining the loss function and optimizer \n",
    "criterion = nn.CrossEntropyLoss()\n",
    "optimizer = torch.optim.Adam(net.parameters(),lr=0.001)"
   ]
  },
  {
   "cell_type": "code",
   "execution_count": 19,
   "metadata": {
    "scrolled": false
   },
   "outputs": [
    {
     "name": "stdout",
     "output_type": "stream",
     "text": [
      "epoch:  0  batch:  600 [  6000/60000]  loss: 0.11527220  accuracy:  75.417%\n",
      "epoch:  0  batch: 1200 [ 12000/60000]  loss: 0.02267704  accuracy:  84.042%\n",
      "epoch:  0  batch: 1800 [ 18000/60000]  loss: 0.03113074  accuracy:  87.533%\n",
      "epoch:  0  batch: 2400 [ 24000/60000]  loss: 0.06842645  accuracy:  89.537%\n",
      "epoch:  0  batch: 3000 [ 30000/60000]  loss: 0.01015474  accuracy:  90.797%\n",
      "epoch:  0  batch: 3600 [ 36000/60000]  loss: 0.03443994  accuracy:  91.736%\n",
      "epoch:  0  batch: 4200 [ 42000/60000]  loss: 0.01772033  accuracy:  92.517%\n",
      "epoch:  0  batch: 4800 [ 48000/60000]  loss: 0.02657677  accuracy:  92.994%\n",
      "epoch:  0  batch: 5400 [ 54000/60000]  loss: 0.01951578  accuracy:  93.450%\n",
      "epoch:  0  batch: 6000 [ 60000/60000]  loss: 0.00621798  accuracy:  93.820%\n",
      "epoch:  1  batch:  600 [  6000/60000]  loss: 0.43192950  accuracy:  97.633%\n",
      "epoch:  1  batch: 1200 [ 12000/60000]  loss: 0.14040636  accuracy:  97.700%\n",
      "epoch:  1  batch: 1800 [ 18000/60000]  loss: 0.00198762  accuracy:  97.733%\n",
      "epoch:  1  batch: 2400 [ 24000/60000]  loss: 0.02071048  accuracy:  97.767%\n",
      "epoch:  1  batch: 3000 [ 30000/60000]  loss: 0.00675196  accuracy:  97.827%\n",
      "epoch:  1  batch: 3600 [ 36000/60000]  loss: 0.01509305  accuracy:  97.842%\n",
      "epoch:  1  batch: 4200 [ 42000/60000]  loss: 0.01606582  accuracy:  97.893%\n",
      "epoch:  1  batch: 4800 [ 48000/60000]  loss: 0.00222397  accuracy:  97.927%\n",
      "epoch:  1  batch: 5400 [ 54000/60000]  loss: 0.04510839  accuracy:  97.893%\n",
      "epoch:  1  batch: 6000 [ 60000/60000]  loss: 0.00008497  accuracy:  97.932%\n",
      "epoch:  2  batch:  600 [  6000/60000]  loss: 0.04105286  accuracy:  98.500%\n",
      "epoch:  2  batch: 1200 [ 12000/60000]  loss: 0.00205027  accuracy:  98.425%\n",
      "epoch:  2  batch: 1800 [ 18000/60000]  loss: 0.05700951  accuracy:  98.394%\n",
      "epoch:  2  batch: 2400 [ 24000/60000]  loss: 0.00154470  accuracy:  98.392%\n",
      "epoch:  2  batch: 3000 [ 30000/60000]  loss: 0.03366607  accuracy:  98.397%\n",
      "epoch:  2  batch: 3600 [ 36000/60000]  loss: 0.19799115  accuracy:  98.422%\n",
      "epoch:  2  batch: 4200 [ 42000/60000]  loss: 0.03382328  accuracy:  98.464%\n",
      "epoch:  2  batch: 4800 [ 48000/60000]  loss: 0.00015012  accuracy:  98.469%\n",
      "epoch:  2  batch: 5400 [ 54000/60000]  loss: 0.00035512  accuracy:  98.456%\n",
      "epoch:  2  batch: 6000 [ 60000/60000]  loss: 0.08212502  accuracy:  98.448%\n",
      "epoch:  3  batch:  600 [  6000/60000]  loss: 0.00711213  accuracy:  99.000%\n",
      "epoch:  3  batch: 1200 [ 12000/60000]  loss: 0.00590823  accuracy:  99.025%\n",
      "epoch:  3  batch: 1800 [ 18000/60000]  loss: 0.00139422  accuracy:  98.850%\n",
      "epoch:  3  batch: 2400 [ 24000/60000]  loss: 0.20148435  accuracy:  98.758%\n",
      "epoch:  3  batch: 3000 [ 30000/60000]  loss: 0.00056588  accuracy:  98.747%\n",
      "epoch:  3  batch: 3600 [ 36000/60000]  loss: 0.02570209  accuracy:  98.781%\n",
      "epoch:  3  batch: 4200 [ 42000/60000]  loss: 0.00272961  accuracy:  98.786%\n",
      "epoch:  3  batch: 4800 [ 48000/60000]  loss: 0.04248464  accuracy:  98.781%\n",
      "epoch:  3  batch: 5400 [ 54000/60000]  loss: 0.11501751  accuracy:  98.769%\n",
      "epoch:  3  batch: 6000 [ 60000/60000]  loss: 0.00112305  accuracy:  98.795%\n",
      "epoch:  4  batch:  600 [  6000/60000]  loss: 0.20364317  accuracy:  99.150%\n",
      "epoch:  4  batch: 1200 [ 12000/60000]  loss: 0.00117123  accuracy:  99.092%\n",
      "epoch:  4  batch: 1800 [ 18000/60000]  loss: 0.00068859  accuracy:  99.044%\n",
      "epoch:  4  batch: 2400 [ 24000/60000]  loss: 0.00093992  accuracy:  99.050%\n",
      "epoch:  4  batch: 3000 [ 30000/60000]  loss: 0.06344180  accuracy:  99.067%\n",
      "epoch:  4  batch: 3600 [ 36000/60000]  loss: 0.25284547  accuracy:  99.058%\n",
      "epoch:  4  batch: 4200 [ 42000/60000]  loss: 0.00471812  accuracy:  99.060%\n",
      "epoch:  4  batch: 4800 [ 48000/60000]  loss: 0.40078646  accuracy:  99.040%\n",
      "epoch:  4  batch: 5400 [ 54000/60000]  loss: 0.00007059  accuracy:  99.026%\n",
      "epoch:  4  batch: 6000 [ 60000/60000]  loss: 0.03752404  accuracy:  99.013%\n",
      "ELAPSED 2.39\n"
     ]
    }
   ],
   "source": [
    "# The TRAIN CYCLE \n",
    "import time \n",
    "start = time.perf_counter()\n",
    "# trackers, for post evaluation\n",
    "epochs = 5\n",
    "train_losses = []\n",
    "test_losses = []\n",
    "train_correct = []\n",
    "test_correct = []\n",
    "accuracy = []\n",
    "\n",
    "for i in range(epochs):\n",
    "    trn_corr = 0\n",
    "    tst_corr = 0\n",
    "    \n",
    "    # Run the training batches\n",
    "    for b, (X_train, y_train) in enumerate(train_loader):\n",
    "        b+=1\n",
    "        \n",
    "        # Apply the model\n",
    "        y_pred = net(X_train)  # we don't flatten X-train here\n",
    "        loss = criterion(y_pred, y_train)\n",
    " \n",
    "        # Tally the number of correct predictions\n",
    "        _, predicted = y_pred.max(1)\n",
    "        batch_corr = (predicted == y_train).sum()\n",
    "        trn_corr += batch_corr\n",
    "        \n",
    "        # Update parameters\n",
    "        optimizer.zero_grad()\n",
    "        loss.backward()\n",
    "        optimizer.step()\n",
    "        \n",
    "        # Print interim results\n",
    "        if b%600 == 0:\n",
    "            print(f'epoch: {i:2}  batch: {b:4} [{10*b:6}/60000]  loss: {loss.item():10.8f}  \\\n",
    "accuracy: {trn_corr.item()*100/(10*b):7.3f}%')\n",
    "            accuracy.append(trn_corr.item()*100/(10*b))\n",
    "        \n",
    "    train_losses.append(loss)\n",
    "    train_correct.append(trn_corr)\n",
    "        \n",
    "    # Run the testing batches\n",
    "    with torch.no_grad():\n",
    "        for b, (X_test, y_test) in enumerate(test_loader):\n",
    "\n",
    "            # Apply the model\n",
    "            y_val = net(X_test)\n",
    "\n",
    "            # Tally the number of correct predictions\n",
    "            predicted = torch.max(y_val.data, 1)[1] \n",
    "            tst_corr += (predicted == y_test).sum()\n",
    "            \n",
    "    loss = criterion(y_val, y_test)\n",
    "    test_losses.append(loss)\n",
    "    test_correct.append(tst_corr)\n",
    "    \n",
    "elapsed = (time.perf_counter() - start)/60\n",
    "print('ELAPSED {:.2f}'.format(elapsed))\n",
    "        \n"
   ]
  },
  {
   "cell_type": "code",
   "execution_count": 20,
   "metadata": {},
   "outputs": [
    {
     "data": {
      "image/png": "[encoded data removed]",
      "text/plain": [
       "<Figure size 432x288 with 1 Axes>"
      ]
     },
     "metadata": {},
     "output_type": "display_data"
    }
   ],
   "source": [
    "plt.plot(train_losses, label='training loss')\n",
    "plt.title('Loss at the end of each epoch')\n",
    "plt.xlabel('epochs')\n",
    "plt.legend();"
   ]
  },
  {
   "cell_type": "code",
   "execution_count": 21,
   "metadata": {},
   "outputs": [
    {
     "data": {
      "image/png": "[encoded data removed]",
      "text/plain": [
       "<Figure size 432x288 with 1 Axes>"
      ]
     },
     "metadata": {},
     "output_type": "display_data"
    }
   ],
   "source": [
    "plt.plot(test_losses, label='validation loss')\n",
    "plt.title('Loss at the end of each epoch')\n",
    "plt.xlabel('epochs')\n",
    "plt.legend();"
   ]
  },
  {
   "cell_type": "code",
   "execution_count": 22,
   "metadata": {},
   "outputs": [
    {
     "data": {
      "image/png": "[encoded data removed]",
      "text/plain": [
       "<Figure size 432x288 with 1 Axes>"
      ]
     },
     "metadata": {},
     "output_type": "display_data"
    }
   ],
   "source": [
    "plt.plot([t/600 for t in train_correct], label='training accuracy')\n",
    "\n",
    "plt.title('Accuracy at the end of each epoch')\n",
    "plt.legend();"
   ]
  },
  {
   "cell_type": "code",
   "execution_count": 23,
   "metadata": {},
   "outputs": [
    {
     "data": {
      "image/png": "[encoded data removed]",
      "text/plain": [
       "<Figure size 432x288 with 1 Axes>"
      ]
     },
     "metadata": {},
     "output_type": "display_data"
    }
   ],
   "source": [
    "plt.plot([t/100 for t in test_correct], label='validation accuracy')\n",
    "plt.title('Accuracy at the end of each epoch')\n",
    "plt.legend();"
   ]
  },
  {
   "cell_type": "markdown",
   "metadata": {},
   "source": [
    "### Overall Evaluation"
   ]
  },
  {
   "cell_type": "code",
   "execution_count": 24,
   "metadata": {},
   "outputs": [],
   "source": [
    "test_load = DataLoader(test_data,batch_size=10000, shuffle=False)"
   ]
  },
  {
   "cell_type": "code",
   "execution_count": 25,
   "metadata": {},
   "outputs": [
    {
     "name": "stdout",
     "output_type": "stream",
     "text": [
      "Test accuracy: 9861/10000 =  98.610%\n"
     ]
    }
   ],
   "source": [
    "with torch.no_grad():\n",
    "    correct = 0\n",
    "    for x_test, y_test in test_load:\n",
    "        y_val = net(x_test)\n",
    "        _, predicted = y_val.max(1)\n",
    "        correct += (predicted == y_test).sum()\n",
    "        \n",
    "print(f'Test accuracy: {correct.item()}/{len(test_data)} = {correct.item()*100/(len(test_data)):7.3f}%')"
   ]
  },
  {
   "cell_type": "code",
   "execution_count": 26,
   "metadata": {
    "scrolled": true
   },
   "outputs": [
    {
     "data": {
      "text/plain": [
       "tensor([7, 2, 1,  ..., 4, 5, 6])"
      ]
     },
     "execution_count": 26,
     "metadata": {},
     "output_type": "execute_result"
    }
   ],
   "source": [
    "predicted"
   ]
  },
  {
   "cell_type": "code",
   "execution_count": 27,
   "metadata": {},
   "outputs": [
    {
     "name": "stdout",
     "output_type": "stream",
     "text": [
      "              precision    recall  f1-score   support\n",
      "\n",
      "           0       1.00      0.99      0.99       980\n",
      "           1       1.00      0.99      0.99      1135\n",
      "           2       0.98      0.99      0.99      1032\n",
      "           3       0.98      0.99      0.98      1010\n",
      "           4       0.99      0.99      0.99       982\n",
      "           5       0.99      0.98      0.98       892\n",
      "           6       0.99      0.99      0.99       958\n",
      "           7       0.98      0.98      0.98      1028\n",
      "           8       0.98      0.98      0.98       974\n",
      "           9       0.98      0.99      0.98      1009\n",
      "\n",
      "    accuracy                           0.99     10000\n",
      "   macro avg       0.99      0.99      0.99     10000\n",
      "weighted avg       0.99      0.99      0.99     10000\n",
      "\n"
     ]
    }
   ],
   "source": [
    "# Classification Report\n",
    "class_report = classification_report(y_test,predicted)\n",
    "print(class_report)"
   ]
  },
  {
   "cell_type": "code",
   "execution_count": 28,
   "metadata": {},
   "outputs": [
    {
     "data": {
      "text/plain": [
       "array([ 115,  326,  340,  412,  449,  582,  625,  691,  740,  844,  846,\n",
       "        900,  947, 1014, 1039, 1112, 1182, 1226, 1242, 1247, 1292, 1299,\n",
       "       1328, 1393, 1459, 1522, 1530, 1621, 1709, 1737, 1790, 1878, 1901,\n",
       "       1955, 1987, 2018, 2024, 2035, 2070, 2109, 2130, 2135, 2185, 2188,\n",
       "       2195, 2258, 2293, 2300, 2447, 2488, 2597, 2654, 2770, 2771, 2894,\n",
       "       2921, 2927, 2953, 3023, 3073, 3225, 3288, 3441, 3520, 3597, 3626,\n",
       "       3727, 3762, 3767, 3806, 3808, 3850, 3871, 3906, 3926, 3968, 4007,\n",
       "       4078, 4123, 4176, 4211, 4256, 4306, 4350, 4360, 4369, 4497, 4507,\n",
       "       4536, 4571, 4639, 4731, 4761, 4837, 4838, 4860, 4880, 4911, 5246,\n",
       "       5331, 5642, 5734, 5870, 5937, 5981, 5997, 6101, 6532, 6560, 6571,\n",
       "       6597, 6625, 6651, 6662, 6783, 6954, 7432, 7847, 7856, 7899, 7928,\n",
       "       8094, 8128, 8316, 8325, 8382, 8408, 8520, 9009, 9015, 9019, 9024,\n",
       "       9540, 9692, 9729, 9770, 9781, 9792, 9850])"
      ]
     },
     "execution_count": 28,
     "metadata": {},
     "output_type": "execute_result"
    }
   ],
   "source": [
    "# Missed Pictures and their indexes\n",
    "misses = np.array([])\n",
    "\n",
    "for i in range(len(predicted.view(-1))):\n",
    "    \n",
    "    if predicted[i] != y_test[i]:\n",
    "        misses = np.append(misses,i).astype('int64')\n",
    "    \n",
    "misses"
   ]
  },
  {
   "cell_type": "markdown",
   "metadata": {},
   "source": [
    "### Single Image Test"
   ]
  },
  {
   "cell_type": "code",
   "execution_count": 29,
   "metadata": {},
   "outputs": [
    {
     "data": {
      "text/plain": [
       "Text(0.5, 1.0, 'Label 3')"
      ]
     },
     "execution_count": 29,
     "metadata": {},
     "output_type": "execute_result"
    },
    {
     "data": {
      "image/png": "[encoded data removed]",
      "text/plain": [
       "<Figure size 288x288 with 1 Axes>"
      ]
     },
     "metadata": {},
     "output_type": "display_data"
    }
   ],
   "source": [
    "index = 2020\n",
    "plt.figure(figsize=(4,4))\n",
    "plt.imshow(x_test[index].reshape(28,28),cmap='binary')\n",
    "plt.title('Label {}'.format(y_test[2020]))"
   ]
  },
  {
   "cell_type": "code",
   "execution_count": 30,
   "metadata": {},
   "outputs": [
    {
     "name": "stdout",
     "output_type": "stream",
     "text": [
      "Prediction ~ 3\n",
      "Reality - 3\n"
     ]
    }
   ],
   "source": [
    "net.eval()\n",
    "with torch.no_grad():\n",
    "    yhat = net(x_test[index][0].view(1,1,28,28))\n",
    "    print('Prediction ~ {}'.format(yhat.argmax()))\n",
    "    print('Reality - {}'.format(y_test[index]))"
   ]
  },
  {
   "cell_type": "markdown",
   "metadata": {},
   "source": [
    "### Miscellaneous"
   ]
  },
  {
   "cell_type": "code",
   "execution_count": 31,
   "metadata": {},
   "outputs": [],
   "source": [
    "# PipeLine Script Data  "
   ]
  },
  {
   "cell_type": "code",
   "execution_count": 32,
   "metadata": {},
   "outputs": [],
   "source": [
    "note = '''Considering the Visualisations concerning train-cycle and test-cycle, after the 3rd epoch the training error starts increasing ever-so slightly which determines that after 3rd epoch with this network architecture the model overfits the data. This is evident in the difference between train-accuracy and test-accuracy. But this problem is not prominent to work on reducing that difference, if we are supposed to reduce that error we can try using dropout layers and early-stopping techniques'''\n"
   ]
  },
  {
   "cell_type": "code",
   "execution_count": 33,
   "metadata": {
    "scrolled": true
   },
   "outputs": [],
   "source": [
    "note = note.strip()"
   ]
  },
  {
   "cell_type": "code",
   "execution_count": 34,
   "metadata": {},
   "outputs": [
    {
     "data": {
      "text/plain": [
       "96.66"
      ]
     },
     "execution_count": 34,
     "metadata": {},
     "output_type": "execute_result"
    }
   ],
   "source": [
    "np.round(np.mean(accuracy),2)"
   ]
  },
  {
   "cell_type": "code",
   "execution_count": 101,
   "metadata": {},
   "outputs": [],
   "source": [
    "desc = desc.strip()\n",
    "project_name = 'MNIST'\n",
    "framework = 'Pytorch'\n",
    "prediction_type = 'Multi-Class Classification - 10 Classes'\n",
    "network_type = 'Convolutional Neural Network'\n",
    "architecture = str(net)\n",
    "layers = 6\n",
    "hidden_units = None \n",
    "activations = \"['relu','softmax']\"\n",
    "epochs = 5\n",
    "metrics = 'Accuracy'\n",
    "loss = 'Categorical Cross-Entropy'\n",
    "optimiser = 'Adam'\n",
    "learning_rate = 'Alpha = 0.001'\n",
    "batch_size = 16\n",
    "train_accuracy = np.round(np.mean(accuracy),2)\n",
    "test_accuracy = 98.720\n",
    "classification_report = class_report\n",
    "elapsed = '2.48 Min'\n",
    "summary = note\n",
    "ipynb = './Projects/MNIST/Pytorch/MNIST-Pytorch.pdf'\n",
    "plots = './Projects/MNIST/Pytorch/Plots'\n"
   ]
  },
  {
   "cell_type": "code",
   "execution_count": 102,
   "metadata": {},
   "outputs": [
    {
     "name": "stdout",
     "output_type": "stream",
     "text": [
      "Enter Dtype for desc: string\n",
      "Enter Dtype for project_name: string\n",
      "Enter Dtype for framework: string\n",
      "Enter Dtype for prediction_type: string\n",
      "Enter Dtype for network_type: string\n",
      "Enter Dtype for architecture: string\n",
      "Enter Dtype for layers: int\n",
      "Enter Dtype for hidden_units: int\n",
      "Enter Dtype for activations: string(list)\n",
      "Enter Dtype for epochs: int\n",
      "Enter Dtype for metrics: string(list)\n",
      "Enter Dtype for loss: string\n",
      "Enter Dtype for optimiser: string\n",
      "Enter Dtype for learning_rate: float\n",
      "Enter Dtype for batch_size: int/string\n",
      "Enter Dtype for train_accuracy: float%\n",
      "Enter Dtype for test_accuracy: float%\n",
      "Enter Dtype for classification_report: string\n",
      "Enter Dtype for elapsed: float\n",
      "Enter Dtype for summary: string\n",
      "Enter Dtype for ipynb: path\n",
      "Enter Dtype for plots: path\n"
     ]
    }
   ],
   "source": [
    "param = dict()\n",
    "var_dict = {}\n",
    "var = ['desc','project_name', 'framework','prediction_type','network_type',\n",
    "       'architecture','layers','hidden_units','activations','epochs',\n",
    "       'metrics','loss','optimiser','learning_rate','batch_size','train_accuracy','test_accuracy','classification_report','elapsed','summary'\n",
    "       ,'ipynb','plots']\n",
    "\n",
    "for i in var:\n",
    "    var_dict[i] = input(f'Enter Dtype for {i}: ')\n",
    "\n"
   ]
  },
  {
   "cell_type": "code",
   "execution_count": 103,
   "metadata": {
    "scrolled": true
   },
   "outputs": [
    {
     "data": {
      "text/plain": [
       "22"
      ]
     },
     "execution_count": 103,
     "metadata": {},
     "output_type": "execute_result"
    }
   ],
   "source": [
    "len(var_dict.keys())"
   ]
  },
  {
   "cell_type": "code",
   "execution_count": 104,
   "metadata": {},
   "outputs": [],
   "source": [
    "import pickle\n",
    "with open('../../var-dict.txt','wb') as f:\n",
    "    pickle.dump(var_dict,f)"
   ]
  },
  {
   "cell_type": "code",
   "execution_count": 105,
   "metadata": {},
   "outputs": [
    {
     "name": "stdout",
     "output_type": "stream",
     "text": [
      "\u001b[34mMNIST\u001b[m\u001b[m                   \u001b[31mpipeline.py\u001b[m\u001b[m             var-dict.txt\r\n",
      "PipeLine Testing .ipynb \u001b[31msample_data.py\u001b[m\u001b[m\r\n",
      "__init__.py             test.pt\r\n"
     ]
    }
   ],
   "source": [
    "! ls ../../"
   ]
  },
  {
   "cell_type": "code",
   "execution_count": 106,
   "metadata": {},
   "outputs": [],
   "source": [
    "for val in var:\n",
    "    try:\n",
    "        param[val] = eval(val)\n",
    "    except:\n",
    "        param[val] = val"
   ]
  },
  {
   "cell_type": "code",
   "execution_count": 107,
   "metadata": {},
   "outputs": [
    {
     "data": {
      "text/plain": [
       "{'desc': 'The MNIST database of handwritten digits, available from this page, has a training set of 60,000 examples, and a test set of 10,000 examples. It is a subset of a larger set available from NIST. The digits have been size-normalized and centered in a fixed-size image.',\n",
       " 'project_name': 'MNIST',\n",
       " 'framework': 'Pytorch',\n",
       " 'prediction_type': 'Multi-Class Classification - 10 Classes',\n",
       " 'network_type': 'Convolutional Neural Network',\n",
       " 'architecture': 'convolutional(\\n  (conv1): Conv2d(1, 6, kernel_size=(3, 3), stride=(1, 1))\\n  (pool): MaxPool2d(kernel_size=(2, 2), stride=(2, 2), padding=0, dilation=1, ceil_mode=False)\\n  (conv2): Conv2d(6, 16, kernel_size=(3, 3), stride=(1, 1))\\n  (fc1): Linear(in_features=400, out_features=120, bias=True)\\n  (fc2): Linear(in_features=120, out_features=64, bias=True)\\n  (fc3): Linear(in_features=64, out_features=10, bias=True)\\n)',\n",
       " 'layers': 6,\n",
       " 'hidden_units': None,\n",
       " 'activations': \"['relu','softmax']\",\n",
       " 'epochs': 5,\n",
       " 'metrics': 'Accuracy',\n",
       " 'loss': 'Categorical Cross-Entropy',\n",
       " 'optimiser': 'Adam',\n",
       " 'learning_rate': 'Alpha = 0.001',\n",
       " 'batch_size': 16,\n",
       " 'train_accuracy': 96.66,\n",
       " 'test_accuracy': 98.72,\n",
       " 'classification_report': '              precision    recall  f1-score   support\\n\\n           0       1.00      0.99      0.99       980\\n           1       1.00      0.99      0.99      1135\\n           2       0.98      0.99      0.99      1032\\n           3       0.98      0.99      0.98      1010\\n           4       0.99      0.99      0.99       982\\n           5       0.99      0.98      0.98       892\\n           6       0.99      0.99      0.99       958\\n           7       0.98      0.98      0.98      1028\\n           8       0.98      0.98      0.98       974\\n           9       0.98      0.99      0.98      1009\\n\\n    accuracy                           0.99     10000\\n   macro avg       0.99      0.99      0.99     10000\\nweighted avg       0.99      0.99      0.99     10000\\n',\n",
       " 'elapsed': '2.48 Min',\n",
       " 'summary': 'Considering the Visualisations concerning train-cycle and test-cycle, after the 3rd epoch the training error starts increasing ever-so slightly which determines that after 3rd epoch with this network architecture the model overfits the data. This is evident in the difference between train-accuracy and test-accuracy. But this problem is not prominent to work on reducing that difference, if we are supposed to reduce that error we can try using dropout layers and early-stopping techniques',\n",
       " 'ipynb': './Projects/MNIST/Pytorch/MNIST-Pytorch.pdf',\n",
       " 'plots': './Projects/MNIST/Pytorch/Plots'}"
      ]
     },
     "execution_count": 107,
     "metadata": {},
     "output_type": "execute_result"
    }
   ],
   "source": [
    "param"
   ]
  },
  {
   "cell_type": "code",
   "execution_count": 109,
   "metadata": {},
   "outputs": [
    {
     "data": {
      "text/plain": [
       "'Adam'"
      ]
     },
     "execution_count": 109,
     "metadata": {},
     "output_type": "execute_result"
    }
   ],
   "source": [
    "param['optimiser']"
   ]
  },
  {
   "cell_type": "code",
   "execution_count": 110,
   "metadata": {},
   "outputs": [],
   "source": [
    "import pickle\n",
    "file = open(\"artefacts.txt\", \"wb\") \n",
    "  \n",
    "dictionary = param \n",
    "pickle.dump(dictionary, file) \n",
    "file.close() \n"
   ]
  },
  {
   "cell_type": "code",
   "execution_count": 83,
   "metadata": {},
   "outputs": [
    {
     "data": {
      "text/plain": [
       "{'desc': 'The MNIST database of handwritten digits, available from this page, has a training set of 60,000 examples, and a test set of 10,000 examples. It is a subset of a larger set available from NIST. The digits have been size-normalized and centered in a fixed-size image.',\n",
       " 'project_name': 'MNIST',\n",
       " 'framework': 'Pytorch',\n",
       " 'prediction_type': 'Classification',\n",
       " 'network_type': 'Convolutional Neural Network',\n",
       " 'architecture': 'convolutional(\\n  (conv1): Conv2d(1, 6, kernel_size=(3, 3), stride=(1, 1))\\n  (pool): MaxPool2d(kernel_size=(2, 2), stride=(2, 2), padding=0, dilation=1, ceil_mode=False)\\n  (conv2): Conv2d(6, 16, kernel_size=(3, 3), stride=(1, 1))\\n  (fc1): Linear(in_features=400, out_features=120, bias=True)\\n  (fc2): Linear(in_features=120, out_features=64, bias=True)\\n  (fc3): Linear(in_features=64, out_features=10, bias=True)\\n)',\n",
       " 'layers': 6,\n",
       " 'hidden_units': None,\n",
       " 'activations': \"['relu','softmax']\",\n",
       " 'epochs': 5,\n",
       " 'metrics': 'Accuracy',\n",
       " 'loss': 'Categorical Cross-Entropy',\n",
       " 'train_accuracy': 96.66,\n",
       " 'test_accuracy': 98.72,\n",
       " 'classification_report': '              precision    recall  f1-score   support\\n\\n           0       1.00      0.99      0.99       980\\n           1       1.00      0.99      0.99      1135\\n           2       0.98      0.99      0.99      1032\\n           3       0.98      0.99      0.98      1010\\n           4       0.99      0.99      0.99       982\\n           5       0.99      0.98      0.98       892\\n           6       0.99      0.99      0.99       958\\n           7       0.98      0.98      0.98      1028\\n           8       0.98      0.98      0.98       974\\n           9       0.98      0.99      0.98      1009\\n\\n    accuracy                           0.99     10000\\n   macro avg       0.99      0.99      0.99     10000\\nweighted avg       0.99      0.99      0.99     10000\\n',\n",
       " 'elapsed': '2.48 Min',\n",
       " 'summary': 'Considering the Visualisations concerning train-cycle and test-cycle, after the 3rd epoch the training error starts increasing ever-so slightly which determines that after 3rd epoch with this network architecture the model overfits the data. This is evident in the difference between train-accuracy and test-accuracy. But this problem is not prominent to work on reducing that difference, if we are supposed to reduce that error we can try using dropout layers and early-stopping techniques',\n",
       " 'ipynb': './Projects/MNIST/Pytorch/MNIST-Pytorch.pdf',\n",
       " 'plots': './Projects/MNIST/Pytorch/Plots'}"
      ]
     },
     "execution_count": 83,
     "metadata": {},
     "output_type": "execute_result"
    }
   ],
   "source": [
    "jsondata"
   ]
  },
  {
   "cell_type": "code",
   "execution_count": 47,
   "metadata": {},
   "outputs": [
    {
     "data": {
      "text/html": [
       "<div>\n",
       "<style scoped>\n",
       "    .dataframe tbody tr th:only-of-type {\n",
       "        vertical-align: middle;\n",
       "    }\n",
       "\n",
       "    .dataframe tbody tr th {\n",
       "        vertical-align: top;\n",
       "    }\n",
       "\n",
       "    .dataframe thead th {\n",
       "        text-align: right;\n",
       "    }\n",
       "</style>\n",
       "<table border=\"1\" class=\"dataframe\">\n",
       "  <thead>\n",
       "    <tr style=\"text-align: right;\">\n",
       "      <th></th>\n",
       "      <th>desc</th>\n",
       "      <th>project_name</th>\n",
       "      <th>framework</th>\n",
       "      <th>prediction_type</th>\n",
       "      <th>network_type</th>\n",
       "      <th>architecture</th>\n",
       "      <th>layers</th>\n",
       "      <th>hidden_units</th>\n",
       "      <th>activations</th>\n",
       "      <th>epochs</th>\n",
       "      <th>metrics</th>\n",
       "      <th>loss</th>\n",
       "      <th>train_accuracy</th>\n",
       "      <th>test_accuracy</th>\n",
       "      <th>classification_report</th>\n",
       "      <th>elapsed</th>\n",
       "      <th>summary</th>\n",
       "      <th>ipynb</th>\n",
       "      <th>plots</th>\n",
       "    </tr>\n",
       "  </thead>\n",
       "  <tbody>\n",
       "    <tr>\n",
       "      <th>0</th>\n",
       "      <td>The MNIST database of handwritten digits, avai...</td>\n",
       "      <td>MNIST</td>\n",
       "      <td>Pytorch</td>\n",
       "      <td>Classification</td>\n",
       "      <td>Convolutional Neural Network</td>\n",
       "      <td>convolutional(\\n  (conv1): Conv2d(1, 6, kernel...</td>\n",
       "      <td>6</td>\n",
       "      <td>None</td>\n",
       "      <td>['relu','softmax']</td>\n",
       "      <td>5</td>\n",
       "      <td>Accuracy</td>\n",
       "      <td>tensor(0.0004)</td>\n",
       "      <td>96.66</td>\n",
       "      <td>98.72</td>\n",
       "      <td>precision    recall  f1-score   ...</td>\n",
       "      <td>2.48 Min</td>\n",
       "      <td>Considering the Visualisations concerning trai...</td>\n",
       "      <td>./Projects/MNIST/Pytorch/MNIST-Pytorch.pdf</td>\n",
       "      <td>./Projects/MNIST/Pytorch/Plots</td>\n",
       "    </tr>\n",
       "  </tbody>\n",
       "</table>\n",
       "</div>"
      ],
      "text/plain": [
       "                                                desc project_name framework  \\\n",
       "0  The MNIST database of handwritten digits, avai...        MNIST   Pytorch   \n",
       "\n",
       "  prediction_type                  network_type  \\\n",
       "0  Classification  Convolutional Neural Network   \n",
       "\n",
       "                                        architecture layers hidden_units  \\\n",
       "0  convolutional(\\n  (conv1): Conv2d(1, 6, kernel...      6         None   \n",
       "\n",
       "          activations epochs   metrics            loss train_accuracy  \\\n",
       "0  ['relu','softmax']      5  Accuracy  tensor(0.0004)          96.66   \n",
       "\n",
       "  test_accuracy                              classification_report   elapsed  \\\n",
       "0         98.72                precision    recall  f1-score   ...  2.48 Min   \n",
       "\n",
       "                                             summary  \\\n",
       "0  Considering the Visualisations concerning trai...   \n",
       "\n",
       "                                        ipynb                           plots  \n",
       "0  ./Projects/MNIST/Pytorch/MNIST-Pytorch.pdf  ./Projects/MNIST/Pytorch/Plots  "
      ]
     },
     "execution_count": 47,
     "metadata": {},
     "output_type": "execute_result"
    }
   ],
   "source": [
    "import pandas as pd\n",
    "pd.DataFrame(pd.Series(param)).T"
   ]
  },
  {
   "cell_type": "code",
   "execution_count": 69,
   "metadata": {},
   "outputs": [
    {
     "data": {
      "text/plain": [
       "['prediction_type',\n",
       " 'network_type',\n",
       " 'architecture',\n",
       " 'layers',\n",
       " 'hidden_units',\n",
       " 'activations',\n",
       " 'epochs',\n",
       " 'metrics',\n",
       " 'loss',\n",
       " 'train_accuracy',\n",
       " 'test_accuracy',\n",
       " 'classification_report',\n",
       " 'elapsed',\n",
       " 'summary',\n",
       " 'ipynb']"
      ]
     },
     "execution_count": 69,
     "metadata": {},
     "output_type": "execute_result"
    }
   ],
   "source": [
    "list(param.keys())[3:-1]"
   ]
  },
  {
   "cell_type": "code",
   "execution_count": 66,
   "metadata": {},
   "outputs": [
    {
     "data": {
      "text/plain": [
       "'The MNIST database of handwritten digits, available from this page, has a training set of 60,000 examples, and a test set of 10,000 examples. It is a subset of a larger set available from NIST. The digits have been size-normalized and centered in a fixed-size image.'"
      ]
     },
     "execution_count": 66,
     "metadata": {},
     "output_type": "execute_result"
    }
   ],
   "source": [
    "list(param.values())[0]"
   ]
  },
  {
   "cell_type": "code",
   "execution_count": 111,
   "metadata": {},
   "outputs": [
    {
     "data": {
      "text/plain": [
       "dict_keys(['desc', 'project_name', 'framework', 'prediction_type', 'network_type', 'architecture', 'layers', 'hidden_units', 'activations', 'epochs', 'metrics', 'loss', 'optimiser', 'learning_rate', 'batch_size', 'train_accuracy', 'test_accuracy', 'classification_report', 'elapsed', 'summary', 'ipynb', 'plots'])"
      ]
     },
     "execution_count": 111,
     "metadata": {},
     "output_type": "execute_result"
    }
   ],
   "source": [
    "param.keys()"
   ]
  },
  {
   "cell_type": "code",
   "execution_count": null,
   "metadata": {},
   "outputs": [],
   "source": []
  },
  {
   "cell_type": "code",
   "execution_count": null,
   "metadata": {},
   "outputs": [],
   "source": []
  },
  {
   "cell_type": "code",
   "execution_count": null,
   "metadata": {},
   "outputs": [],
   "source": [
    "# import os \n",
    "# string = '/Users/Shared/Relocated/Security/Code/Deep_Learning/DeepLearning-Conjunction/Git/Dev/Projects/MNIST/Pytorch'.split('/')\n",
    "# os.path.join('./',*string[-3:])"
   ]
  },
  {
   "cell_type": "code",
   "execution_count": 112,
   "metadata": {},
   "outputs": [],
   "source": [
    "import pickle\n",
    "prompt_list = ['Prediction Type : ','Network Type : ', 'Network Architecture : ', 'Number of Layers : ', \n",
    "'Number of Hidden Units :', 'Activations Used : ', 'Number of Epochs : ', 'Metrics: ','Loss Function: ',\n",
    "'Optimizer : ','Learning Rate : ','Batch Size : ','Train Accuracy:','Test Accuracy : ','Classification Report: ', 'Elapsed Time for Training : '] \n",
    "f_pl = open('../../../prompt-list.txt','wb')\n",
    "\n",
    "pickle.dump(prompt_list, f_pl)\n",
    "f_pl.close()\n"
   ]
  },
  {
   "cell_type": "code",
   "execution_count": null,
   "metadata": {},
   "outputs": [],
   "source": [
    "# prompt_list"
   ]
  },
  {
   "cell_type": "code",
   "execution_count": 52,
   "metadata": {},
   "outputs": [],
   "source": [
    "\n",
    "\n",
    "with open('../../../prompt-list.txt', 'rb') as f:\n",
    "    \n",
    "    data = f.read() \n",
    "        \n",
    "\n",
    "d = pickle.loads(data) "
   ]
  },
  {
   "cell_type": "code",
   "execution_count": 53,
   "metadata": {},
   "outputs": [
    {
     "data": {
      "text/plain": [
       "['Prediction Type : ',\n",
       " 'Network Type : ',\n",
       " 'Network Architecture : ',\n",
       " 'Number of Layers : ',\n",
       " 'Number of Hidden Units :',\n",
       " 'Activations Used : ',\n",
       " 'Number of Epochs : ',\n",
       " 'Metrics: ',\n",
       " 'Loss Function: ',\n",
       " 'Train and Test Accuracy : ',\n",
       " 'Elapsed Time for Training : ']"
      ]
     },
     "execution_count": 53,
     "metadata": {},
     "output_type": "execute_result"
    }
   ],
   "source": [
    "d"
   ]
  },
  {
   "cell_type": "code",
   "execution_count": 39,
   "metadata": {},
   "outputs": [
    {
     "data": {
      "text/plain": [
       "datetime.datetime(2021, 1, 30, 2, 19, 55, 508952)"
      ]
     },
     "execution_count": 39,
     "metadata": {},
     "output_type": "execute_result"
    }
   ],
   "source": [
    "import datetime\n",
    "datetime.datetime.now()"
   ]
  },
  {
   "cell_type": "code",
   "execution_count": null,
   "metadata": {},
   "outputs": [],
   "source": []
  }
 ],
 "metadata": {
  "kernelspec": {
   "display_name": "Python 3",
   "language": "python",
   "name": "python3"
  },
  "language_info": {
   "codemirror_mode": {
    "name": "ipython",
    "version": 3
   },
   "file_extension": ".py",
   "mimetype": "text/x-python",
   "name": "python",
   "nbconvert_exporter": "python",
   "pygments_lexer": "ipython3",
   "version": "3.8.5"
  }
 },
 "nbformat": 4,
 "nbformat_minor": 4
}
