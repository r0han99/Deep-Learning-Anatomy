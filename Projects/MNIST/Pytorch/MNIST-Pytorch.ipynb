{
 "cells": [
  {
   "cell_type": "markdown",
   "metadata": {},
   "source": [
    "### Convolutional Neural Network "
   ]
  },
  {
   "cell_type": "code",
   "execution_count": 25,
   "metadata": {},
   "outputs": [],
   "source": [
    "import torch \n",
    "import torch.nn as nn\n",
    "import torch.nn.functional as F\n",
    "from torch.utils.data import DataLoader\n",
    "from torchvision import datasets, transforms\n",
    "from torchvision.utils import make_grid\n",
    "\n",
    "import numpy as np\n",
    "import matplotlib.pyplot as plt\n",
    "from sklearn.metrics import confusion_matrix, classification_report\n",
    "plt.style.use('seaborn-white')\n",
    "import warnings \n",
    "warnings.filterwarnings('ignore','DeprecatedWarnings')"
   ]
  },
  {
   "cell_type": "code",
   "execution_count": 26,
   "metadata": {
    "scrolled": true
   },
   "outputs": [
    {
     "data": {
      "text/plain": [
       "'1.7.1'"
      ]
     },
     "execution_count": 26,
     "metadata": {},
     "output_type": "execute_result"
    }
   ],
   "source": [
    "torch.__version__"
   ]
  },
  {
   "cell_type": "markdown",
   "metadata": {},
   "source": [
    "### Loading Datasets "
   ]
  },
  {
   "cell_type": "code",
   "execution_count": 27,
   "metadata": {
    "scrolled": true
   },
   "outputs": [],
   "source": [
    "# MNIST Is considered to be the Hello World of CNN's and Deep Learning in General, so it is \n",
    "# generally provided from as the inbuild go-to project for beginners \n",
    "transforms = transforms.ToTensor()\n",
    "train_data = datasets.MNIST(root='../Data', train=True, download=True, transform=transforms)\n",
    "test_data = datasets.MNIST(root='../Data', train=False, download=True, transform=transforms)"
   ]
  },
  {
   "cell_type": "code",
   "execution_count": 28,
   "metadata": {},
   "outputs": [
    {
     "data": {
      "text/plain": [
       "Dataset MNIST\n",
       "    Number of datapoints: 60000\n",
       "    Root location: ../Data\n",
       "    Split: Train\n",
       "    StandardTransform\n",
       "Transform: ToTensor()"
      ]
     },
     "execution_count": 28,
     "metadata": {},
     "output_type": "execute_result"
    }
   ],
   "source": [
    "train_data "
   ]
  },
  {
   "cell_type": "code",
   "execution_count": 29,
   "metadata": {},
   "outputs": [
    {
     "data": {
      "text/plain": [
       "Dataset MNIST\n",
       "    Number of datapoints: 10000\n",
       "    Root location: ../Data\n",
       "    Split: Test\n",
       "    StandardTransform\n",
       "Transform: ToTensor()"
      ]
     },
     "execution_count": 29,
     "metadata": {},
     "output_type": "execute_result"
    }
   ],
   "source": [
    "test_data "
   ]
  },
  {
   "cell_type": "markdown",
   "metadata": {},
   "source": [
    "### Data Loader Object"
   ]
  },
  {
   "cell_type": "code",
   "execution_count": 30,
   "metadata": {},
   "outputs": [],
   "source": [
    "# Pytorch's convention to create dataloader objects, to be used in the models train cycle \n",
    "batch_s = 10\n",
    "train_loader = DataLoader(train_data,batch_size=batch_s,shuffle=True)\n",
    "test_loader = DataLoader(test_data,batch_size=batch_s,shuffle=False) "
   ]
  },
  {
   "cell_type": "markdown",
   "metadata": {},
   "source": [
    "### What is the Data about? "
   ]
  },
  {
   "cell_type": "code",
   "execution_count": 31,
   "metadata": {},
   "outputs": [
    {
     "name": "stdout",
     "output_type": "stream",
     "text": [
      "\n",
      "The MNIST database of handwritten digits, available from this page, has a training set of 60,000 examples, and a test set of 10,000 examples. It is a subset of a larger set available from NIST. The digits have been size-normalized and centered in a fixed-size image.\n",
      "\n"
     ]
    }
   ],
   "source": [
    "# pipeline obj=1/\n",
    "desc = '''\n",
    "The MNIST database of handwritten digits, available from this page, has a training set of 60,000 examples, and a test set of 10,000 examples. It is a subset of a larger set available from NIST. The digits have been size-normalized and centered in a fixed-size image.\n",
    "'''\n",
    "print(desc)"
   ]
  },
  {
   "cell_type": "code",
   "execution_count": 32,
   "metadata": {},
   "outputs": [],
   "source": [
    "(x_train, y_train) = train_data[0] # one sample"
   ]
  },
  {
   "cell_type": "code",
   "execution_count": 33,
   "metadata": {},
   "outputs": [
    {
     "data": {
      "text/plain": [
       "5"
      ]
     },
     "execution_count": 33,
     "metadata": {},
     "output_type": "execute_result"
    }
   ],
   "source": [
    "y_train # label"
   ]
  },
  {
   "cell_type": "code",
   "execution_count": 34,
   "metadata": {},
   "outputs": [
    {
     "data": {
      "text/plain": [
       "Text(0.5, 1.0, 'label 5')"
      ]
     },
     "execution_count": 34,
     "metadata": {},
     "output_type": "execute_result"
    },
    {
     "data": {
      "image/png": "[encoded data removed]",
      "text/plain": [
       "<Figure size 432x288 with 1 Axes>"
      ]
     },
     "metadata": {},
     "output_type": "display_data"
    }
   ],
   "source": [
    "plt.imshow(x_train[0],cmap='binary')\n",
    "plt.title('label {}'.format(y_train))"
   ]
  },
  {
   "cell_type": "markdown",
   "metadata": {},
   "source": [
    "### Convolutional Neural Network Class"
   ]
  },
  {
   "cell_type": "markdown",
   "metadata": {},
   "source": [
    "### Buidling Model "
   ]
  },
  {
   "cell_type": "code",
   "execution_count": 35,
   "metadata": {},
   "outputs": [],
   "source": [
    "class convolutional(nn.Module):\n",
    "    \n",
    "    def __init__(self,in_channel=1,output=10): \n",
    "        super().__init__() # inheriting nn.Module\n",
    "        # defining Layer Functions \n",
    "        # input dimension = (b,28,28,1)\n",
    "        self.conv1 = nn.Conv2d(in_channels=in_channel, out_channels=6, kernel_size=(3,3), stride=1 )\n",
    "        # (b,26,26,6)\n",
    "        self.pool = nn.MaxPool2d(kernel_size=(2,2), stride=(2,2)) # f=2, s=2 \n",
    "        #  dimension (b,12,12,6)\n",
    "        self.conv2 = nn.Conv2d(in_channels=6,out_channels=16,kernel_size=(3,3),stride=1)\n",
    "        # dimension (b,10,10,16)\n",
    "        # we apply one more pool after this dimension so (b,5,5,16)\n",
    "        self.fc1 = nn.Linear(5*5*16,120)\n",
    "        self.fc2 = nn.Linear(120, 64)\n",
    "        self.fc3 = nn.Linear(in_features=64,out_features=output)\n",
    "\n",
    "    def forward(self,X):\n",
    "        # Construction of the Architecture \n",
    "        X = F.relu(self.conv1(X))\n",
    "        X = self.pool(X)\n",
    "        X = F.relu(self.conv2(X))\n",
    "        X = self.pool(X)\n",
    "        X = X.view(-1, 5*5*16) # Flatten\n",
    "        X = F.relu(self.fc1(X))\n",
    "        X = F.relu(self.fc2(X))\n",
    "        X = self.fc3(X)\n",
    "        return F.log_softmax(X, dim=1)\n",
    "    \n",
    "    \n",
    "        \n",
    "        \n"
   ]
  },
  {
   "cell_type": "code",
   "execution_count": 36,
   "metadata": {},
   "outputs": [],
   "source": [
    "net = convolutional()"
   ]
  },
  {
   "cell_type": "code",
   "execution_count": 37,
   "metadata": {},
   "outputs": [
    {
     "data": {
      "text/plain": [
       "convolutional(\n",
       "  (conv1): Conv2d(1, 6, kernel_size=(3, 3), stride=(1, 1))\n",
       "  (pool): MaxPool2d(kernel_size=(2, 2), stride=(2, 2), padding=0, dilation=1, ceil_mode=False)\n",
       "  (conv2): Conv2d(6, 16, kernel_size=(3, 3), stride=(1, 1))\n",
       "  (fc1): Linear(in_features=400, out_features=120, bias=True)\n",
       "  (fc2): Linear(in_features=120, out_features=64, bias=True)\n",
       "  (fc3): Linear(in_features=64, out_features=10, bias=True)\n",
       ")"
      ]
     },
     "execution_count": 37,
     "metadata": {},
     "output_type": "execute_result"
    }
   ],
   "source": [
    "net"
   ]
  },
  {
   "cell_type": "code",
   "execution_count": 38,
   "metadata": {
    "scrolled": true
   },
   "outputs": [
    {
     "name": "stdout",
     "output_type": "stream",
     "text": [
      "Total Learnable Params :\n",
      "        54\n",
      "         6\n",
      "       864\n",
      "        16\n",
      "     48000\n",
      "       120\n",
      "      7680\n",
      "        64\n",
      "       640\n",
      "        10\n",
      "___________\n",
      "     57454\n"
     ]
    }
   ],
   "source": [
    "print('Total Learnable Params :')\n",
    "params = [p.numel() for p in net.parameters() if p.requires_grad]\n",
    "for item in params:\n",
    "    print(f'{item:>10}')\n",
    "print(f'___________\\n{sum(params):>10}')"
   ]
  },
  {
   "cell_type": "code",
   "execution_count": 39,
   "metadata": {},
   "outputs": [],
   "source": [
    "# defining the loss function and optimizer \n",
    "criterion = nn.CrossEntropyLoss()\n",
    "optimizer = torch.optim.Adam(net.parameters(),lr=0.001)"
   ]
  },
  {
   "cell_type": "code",
   "execution_count": 40,
   "metadata": {
    "scrolled": false
   },
   "outputs": [
    {
     "name": "stdout",
     "output_type": "stream",
     "text": [
      "epoch:  0  batch:  600 [  6000/60000]  loss: 0.13196187  accuracy:  77.617%\n",
      "epoch:  0  batch: 1200 [ 12000/60000]  loss: 0.01571199  accuracy:  85.200%\n",
      "epoch:  0  batch: 1800 [ 18000/60000]  loss: 0.39610186  accuracy:  88.583%\n",
      "epoch:  0  batch: 2400 [ 24000/60000]  loss: 0.02174448  accuracy:  90.396%\n",
      "epoch:  0  batch: 3000 [ 30000/60000]  loss: 0.28220776  accuracy:  91.537%\n",
      "epoch:  0  batch: 3600 [ 36000/60000]  loss: 0.00760804  accuracy:  92.372%\n",
      "epoch:  0  batch: 4200 [ 42000/60000]  loss: 0.00093206  accuracy:  93.000%\n",
      "epoch:  0  batch: 4800 [ 48000/60000]  loss: 0.22920069  accuracy:  93.556%\n",
      "epoch:  0  batch: 5400 [ 54000/60000]  loss: 0.13263322  accuracy:  93.974%\n",
      "epoch:  0  batch: 6000 [ 60000/60000]  loss: 0.00078909  accuracy:  94.302%\n",
      "epoch:  1  batch:  600 [  6000/60000]  loss: 0.01727303  accuracy:  97.633%\n",
      "epoch:  1  batch: 1200 [ 12000/60000]  loss: 0.00111780  accuracy:  97.700%\n",
      "epoch:  1  batch: 1800 [ 18000/60000]  loss: 0.14143839  accuracy:  97.778%\n",
      "epoch:  1  batch: 2400 [ 24000/60000]  loss: 0.00200118  accuracy:  97.833%\n",
      "epoch:  1  batch: 3000 [ 30000/60000]  loss: 0.06039294  accuracy:  97.880%\n",
      "epoch:  1  batch: 3600 [ 36000/60000]  loss: 0.00546763  accuracy:  97.911%\n",
      "epoch:  1  batch: 4200 [ 42000/60000]  loss: 0.07990759  accuracy:  97.976%\n",
      "epoch:  1  batch: 4800 [ 48000/60000]  loss: 0.00128695  accuracy:  97.971%\n",
      "epoch:  1  batch: 5400 [ 54000/60000]  loss: 0.00905622  accuracy:  97.983%\n",
      "epoch:  1  batch: 6000 [ 60000/60000]  loss: 0.06234871  accuracy:  97.988%\n",
      "epoch:  2  batch:  600 [  6000/60000]  loss: 0.00015227  accuracy:  98.867%\n",
      "epoch:  2  batch: 1200 [ 12000/60000]  loss: 0.00166400  accuracy:  98.592%\n",
      "epoch:  2  batch: 1800 [ 18000/60000]  loss: 0.01097059  accuracy:  98.628%\n",
      "epoch:  2  batch: 2400 [ 24000/60000]  loss: 0.00347566  accuracy:  98.679%\n",
      "epoch:  2  batch: 3000 [ 30000/60000]  loss: 0.11795505  accuracy:  98.630%\n",
      "epoch:  2  batch: 3600 [ 36000/60000]  loss: 0.00831796  accuracy:  98.642%\n",
      "epoch:  2  batch: 4200 [ 42000/60000]  loss: 0.00020762  accuracy:  98.619%\n",
      "epoch:  2  batch: 4800 [ 48000/60000]  loss: 0.00506593  accuracy:  98.606%\n",
      "epoch:  2  batch: 5400 [ 54000/60000]  loss: 0.00113765  accuracy:  98.602%\n",
      "epoch:  2  batch: 6000 [ 60000/60000]  loss: 0.00099086  accuracy:  98.635%\n",
      "epoch:  3  batch:  600 [  6000/60000]  loss: 0.00003506  accuracy:  98.917%\n",
      "epoch:  3  batch: 1200 [ 12000/60000]  loss: 0.00199563  accuracy:  98.775%\n",
      "epoch:  3  batch: 1800 [ 18000/60000]  loss: 0.00011157  accuracy:  98.956%\n",
      "epoch:  3  batch: 2400 [ 24000/60000]  loss: 0.01397157  accuracy:  98.925%\n",
      "epoch:  3  batch: 3000 [ 30000/60000]  loss: 0.00029257  accuracy:  98.903%\n",
      "epoch:  3  batch: 3600 [ 36000/60000]  loss: 0.00114717  accuracy:  98.872%\n",
      "epoch:  3  batch: 4200 [ 42000/60000]  loss: 0.00014421  accuracy:  98.845%\n",
      "epoch:  3  batch: 4800 [ 48000/60000]  loss: 0.00540665  accuracy:  98.852%\n",
      "epoch:  3  batch: 5400 [ 54000/60000]  loss: 0.03060150  accuracy:  98.831%\n",
      "epoch:  3  batch: 6000 [ 60000/60000]  loss: 0.06771175  accuracy:  98.827%\n",
      "epoch:  4  batch:  600 [  6000/60000]  loss: 0.00388076  accuracy:  99.067%\n",
      "epoch:  4  batch: 1200 [ 12000/60000]  loss: 0.00105174  accuracy:  99.117%\n",
      "epoch:  4  batch: 1800 [ 18000/60000]  loss: 0.00021829  accuracy:  99.189%\n",
      "epoch:  4  batch: 2400 [ 24000/60000]  loss: 0.13824742  accuracy:  99.121%\n",
      "epoch:  4  batch: 3000 [ 30000/60000]  loss: 0.00053280  accuracy:  99.073%\n",
      "epoch:  4  batch: 3600 [ 36000/60000]  loss: 0.00021251  accuracy:  99.036%\n",
      "epoch:  4  batch: 4200 [ 42000/60000]  loss: 0.00011948  accuracy:  99.038%\n",
      "epoch:  4  batch: 4800 [ 48000/60000]  loss: 0.10282958  accuracy:  99.029%\n",
      "epoch:  4  batch: 5400 [ 54000/60000]  loss: 0.00021275  accuracy:  99.046%\n",
      "epoch:  4  batch: 6000 [ 60000/60000]  loss: 0.00086987  accuracy:  99.022%\n",
      "ELAPSED 2.47\n"
     ]
    }
   ],
   "source": [
    "# The TRAIN CYCLE \n",
    "import time \n",
    "start = time.perf_counter()\n",
    "# trackers, for post evaluation\n",
    "epochs = 5\n",
    "train_losses = []\n",
    "test_losses = []\n",
    "train_correct = []\n",
    "test_correct = []\n",
    "accuracy = []\n",
    "\n",
    "for i in range(epochs):\n",
    "    trn_corr = 0\n",
    "    tst_corr = 0\n",
    "    \n",
    "    # Run the training batches\n",
    "    for b, (X_train, y_train) in enumerate(train_loader):\n",
    "        b+=1\n",
    "        \n",
    "        # Apply the model\n",
    "        y_pred = net(X_train)  # we don't flatten X-train here\n",
    "        loss = criterion(y_pred, y_train)\n",
    " \n",
    "        # Tally the number of correct predictions\n",
    "        _, predicted = y_pred.max(1)\n",
    "        batch_corr = (predicted == y_train).sum()\n",
    "        trn_corr += batch_corr\n",
    "        \n",
    "        # Update parameters\n",
    "        optimizer.zero_grad()\n",
    "        loss.backward()\n",
    "        optimizer.step()\n",
    "        \n",
    "        # Print interim results\n",
    "        if b%600 == 0:\n",
    "            print(f'epoch: {i:2}  batch: {b:4} [{10*b:6}/60000]  loss: {loss.item():10.8f}  \\\n",
    "accuracy: {trn_corr.item()*100/(10*b):7.3f}%')\n",
    "            accuracy.append(trn_corr.item()*100/(10*b))\n",
    "        \n",
    "    train_losses.append(loss)\n",
    "    train_correct.append(trn_corr)\n",
    "        \n",
    "    # Run the testing batches\n",
    "    with torch.no_grad():\n",
    "        for b, (X_test, y_test) in enumerate(test_loader):\n",
    "\n",
    "            # Apply the model\n",
    "            y_val = net(X_test)\n",
    "\n",
    "            # Tally the number of correct predictions\n",
    "            predicted = torch.max(y_val.data, 1)[1] \n",
    "            tst_corr += (predicted == y_test).sum()\n",
    "            \n",
    "    loss = criterion(y_val, y_test)\n",
    "    test_losses.append(loss)\n",
    "    test_correct.append(tst_corr)\n",
    "    \n",
    "elapsed = (time.perf_counter() - start)/60\n",
    "print('ELAPSED {:.2f}'.format(elapsed))\n",
    "        \n"
   ]
  },
  {
   "cell_type": "code",
   "execution_count": 41,
   "metadata": {},
   "outputs": [
    {
     "data": {
      "image/png": "[encoded data removed]",
      "text/plain": [
       "<Figure size 432x288 with 1 Axes>"
      ]
     },
     "metadata": {},
     "output_type": "display_data"
    }
   ],
   "source": [
    "plt.plot(train_losses, label='training loss')\n",
    "plt.title('Loss at the end of each epoch')\n",
    "plt.xlabel('epochs')\n",
    "plt.legend();"
   ]
  },
  {
   "cell_type": "code",
   "execution_count": 42,
   "metadata": {},
   "outputs": [
    {
     "data": {
      "image/png": "[encoded data removed]",
      "text/plain": [
       "<Figure size 432x288 with 1 Axes>"
      ]
     },
     "metadata": {},
     "output_type": "display_data"
    }
   ],
   "source": [
    "plt.plot(test_losses, label='validation loss')\n",
    "plt.title('Loss at the end of each epoch')\n",
    "plt.xlabel('epochs')\n",
    "plt.legend();"
   ]
  },
  {
   "cell_type": "code",
   "execution_count": 43,
   "metadata": {},
   "outputs": [
    {
     "data": {
      "image/png": "[encoded data removed]",
      "text/plain": [
       "<Figure size 432x288 with 1 Axes>"
      ]
     },
     "metadata": {},
     "output_type": "display_data"
    }
   ],
   "source": [
    "plt.plot([t/600 for t in train_correct], label='training accuracy')\n",
    "\n",
    "plt.title('Accuracy at the end of each epoch')\n",
    "plt.legend();"
   ]
  },
  {
   "cell_type": "code",
   "execution_count": 44,
   "metadata": {},
   "outputs": [
    {
     "data": {
      "image/png": "[encoded data removed]",
      "text/plain": [
       "<Figure size 432x288 with 1 Axes>"
      ]
     },
     "metadata": {},
     "output_type": "display_data"
    }
   ],
   "source": [
    "plt.plot([t/100 for t in test_correct], label='validation accuracy')\n",
    "plt.title('Accuracy at the end of each epoch')\n",
    "plt.legend();"
   ]
  },
  {
   "cell_type": "markdown",
   "metadata": {},
   "source": [
    "### Overall Evaluation"
   ]
  },
  {
   "cell_type": "code",
   "execution_count": 45,
   "metadata": {},
   "outputs": [],
   "source": [
    "test_load = DataLoader(test_data,batch_size=10000, shuffle=False)"
   ]
  },
  {
   "cell_type": "code",
   "execution_count": 46,
   "metadata": {},
   "outputs": [
    {
     "name": "stdout",
     "output_type": "stream",
     "text": [
      "Test accuracy: 9874/10000 =  98.740%\n"
     ]
    }
   ],
   "source": [
    "with torch.no_grad():\n",
    "    correct = 0\n",
    "    for x_test, y_test in test_load:\n",
    "        y_val = net(x_test)\n",
    "        _, predicted = y_val.max(1)\n",
    "        correct += (predicted == y_test).sum()\n",
    "        \n",
    "print(f'Test accuracy: {correct.item()}/{len(test_data)} = {correct.item()*100/(len(test_data)):7.3f}%')"
   ]
  },
  {
   "cell_type": "code",
   "execution_count": 47,
   "metadata": {
    "scrolled": true
   },
   "outputs": [
    {
     "data": {
      "text/plain": [
       "tensor([7, 2, 1,  ..., 4, 5, 6])"
      ]
     },
     "execution_count": 47,
     "metadata": {},
     "output_type": "execute_result"
    }
   ],
   "source": [
    "predicted"
   ]
  },
  {
   "cell_type": "code",
   "execution_count": 78,
   "metadata": {},
   "outputs": [
    {
     "name": "stdout",
     "output_type": "stream",
     "text": [
      "              precision    recall  f1-score   support\n",
      "\n",
      "           0       0.98      1.00      0.99       980\n",
      "           1       1.00      0.99      0.99      1135\n",
      "           2       0.99      0.99      0.99      1032\n",
      "           3       0.99      0.98      0.99      1010\n",
      "           4       0.99      0.99      0.99       982\n",
      "           5       0.99      0.98      0.99       892\n",
      "           6       0.99      0.98      0.99       958\n",
      "           7       0.98      0.99      0.99      1028\n",
      "           8       0.99      0.97      0.98       974\n",
      "           9       0.97      1.00      0.98      1009\n",
      "\n",
      "    accuracy                           0.99     10000\n",
      "   macro avg       0.99      0.99      0.99     10000\n",
      "weighted avg       0.99      0.99      0.99     10000\n",
      "\n"
     ]
    }
   ],
   "source": [
    "# Classification Report\n",
    "class_report = classification_report(y_test,predicted)\n",
    "print(class_report)"
   ]
  },
  {
   "cell_type": "code",
   "execution_count": 48,
   "metadata": {},
   "outputs": [
    {
     "data": {
      "text/plain": [
       "array([ 158,  321,  326,  340,  435,  445,  495,  582,  659,  716,  740,\n",
       "        938,  947, 1014, 1021, 1032, 1033, 1062, 1182, 1226, 1242, 1319,\n",
       "       1393, 1425, 1530, 1641, 1681, 1773, 1782, 1790, 1878, 1901, 2018,\n",
       "       2035, 2070, 2109, 2118, 2130, 2182, 2195, 2462, 2597, 2654, 2771,\n",
       "       2896, 2921, 2927, 2939, 2953, 3073, 3225, 3289, 3333, 3422, 3448,\n",
       "       3490, 3520, 3558, 3662, 3726, 3727, 3762, 3767, 3778, 3796, 3893,\n",
       "       3906, 3951, 4007, 4075, 4163, 4176, 4256, 4265, 4359, 4360, 4382,\n",
       "       4497, 4507, 4551, 4620, 4639, 4731, 4807, 4823, 4860, 4956, 4978,\n",
       "       5176, 5265, 5734, 5877, 5887, 5937, 5955, 5973, 5997, 6023, 6093,\n",
       "       6555, 6572, 6576, 6597, 6603, 6625, 6847, 7928, 8094, 8156, 8326,\n",
       "       8408, 8520, 8527, 9636, 9642, 9664, 9679, 9729, 9770, 9777, 9839,\n",
       "       9888, 9904, 9922, 9976, 9982])"
      ]
     },
     "execution_count": 48,
     "metadata": {},
     "output_type": "execute_result"
    }
   ],
   "source": [
    "# Missed Pictures and their indexes\n",
    "misses = np.array([])\n",
    "\n",
    "for i in range(len(predicted.view(-1))):\n",
    "    \n",
    "    if predicted[i] != y_test[i]:\n",
    "        misses = np.append(misses,i).astype('int64')\n",
    "    \n",
    "misses"
   ]
  },
  {
   "cell_type": "markdown",
   "metadata": {},
   "source": [
    "### Single Image Test"
   ]
  },
  {
   "cell_type": "code",
   "execution_count": 49,
   "metadata": {},
   "outputs": [
    {
     "data": {
      "text/plain": [
       "Text(0.5, 1.0, 'Label 3')"
      ]
     },
     "execution_count": 49,
     "metadata": {},
     "output_type": "execute_result"
    },
    {
     "data": {
      "image/png": "[encoded data removed]",
      "text/plain": [
       "<Figure size 288x288 with 1 Axes>"
      ]
     },
     "metadata": {},
     "output_type": "display_data"
    }
   ],
   "source": [
    "index = 2020\n",
    "plt.figure(figsize=(4,4))\n",
    "plt.imshow(x_test[index].reshape(28,28),cmap='binary')\n",
    "plt.title('Label {}'.format(y_test[2020]))"
   ]
  },
  {
   "cell_type": "code",
   "execution_count": 50,
   "metadata": {},
   "outputs": [
    {
     "name": "stdout",
     "output_type": "stream",
     "text": [
      "Prediction ~ 3\n",
      "Reality - 3\n"
     ]
    }
   ],
   "source": [
    "net.eval()\n",
    "with torch.no_grad():\n",
    "    yhat = net(x_test[index][0].view(1,1,28,28))\n",
    "    print('Prediction ~ {}'.format(yhat.argmax()))\n",
    "    print('Reality - {}'.format(y_test[index]))"
   ]
  },
  {
   "cell_type": "markdown",
   "metadata": {},
   "source": [
    "### Miscellaneous"
   ]
  },
  {
   "cell_type": "code",
   "execution_count": 51,
   "metadata": {},
   "outputs": [],
   "source": [
    "# PipeLine Script Data  "
   ]
  },
  {
   "cell_type": "code",
   "execution_count": 108,
   "metadata": {},
   "outputs": [],
   "source": [
    "desc = desc.strip()\n",
    "project_name = 'MNIST'\n",
    "framework = 'Pytorch'\n",
    "prediction_type = 'Classification'\n",
    "network_type = 'Convolutional Neural Network'\n",
    "architecture = str(net)\n",
    "layers = 6\n",
    "hidden_units = None \n",
    "activations = \"['relu','softmax']\"\n",
    "epochs = 5\n",
    "metrics = 'Accuracy'\n",
    "train_accuracy = np.mean(accuracy)\n",
    "test_accuracy = 98.720\n",
    "classification_report = class_report\n",
    "elapsed = '2.48 Min'\n",
    "plots = './Projects/MNIST/Pytorch/Plots'\n",
    "ipynb = './Projects/MNIST/Pytorch/MNIST-Pytorch.pdf'"
   ]
  },
  {
   "cell_type": "code",
   "execution_count": 109,
   "metadata": {
    "scrolled": false
   },
   "outputs": [
    {
     "name": "stdout",
     "output_type": "stream",
     "text": [
      "Enter Dtype for desc: string\n",
      "Enter Dtype for project_name: string\n",
      "Enter Dtype for framework: string\n",
      "Enter Dtype for prediction_type: string\n",
      "Enter Dtype for network_type: string\n",
      "Enter Dtype for architecture: string\n",
      "Enter Dtype for layers: int\n",
      "Enter Dtype for hidden_units: int\n",
      "Enter Dtype for activations: string(list)\n",
      "Enter Dtype for epochs: int\n",
      "Enter Dtype for metrics: string\n",
      "Enter Dtype for train_accuracy: float%\n",
      "Enter Dtype for test_accuracy: float%\n",
      "Enter Dtype for classification_report: string\n",
      "Enter Dtype for elapsed: float\n",
      "Enter Dtype for ipynb: path\n",
      "Enter Dtype for plots: path\n"
     ]
    }
   ],
   "source": [
    "param = dict()\n",
    "var_dict = {}\n",
    "var = ['desc','project_name', 'framework','prediction_type','network_type',\n",
    "       'architecture','layers','hidden_units','activations','epochs',\n",
    "       'metrics','train_accuracy','test_accuracy','classification_report','elapsed'\n",
    "       ,'ipynb','plots']\n",
    "\n",
    "for i in var:\n",
    "    var_dict[i] = input(f'Enter Dtype for {i}: ')\n",
    "\n"
   ]
  },
  {
   "cell_type": "code",
   "execution_count": 110,
   "metadata": {
    "scrolled": true
   },
   "outputs": [
    {
     "data": {
      "text/plain": [
       "{'desc': 'string',\n",
       " 'project_name': 'string',\n",
       " 'framework': 'string',\n",
       " 'prediction_type': 'string',\n",
       " 'network_type': 'string',\n",
       " 'architecture': 'string',\n",
       " 'layers': 'int',\n",
       " 'hidden_units': 'int',\n",
       " 'activations': 'string(list)',\n",
       " 'epochs': 'int',\n",
       " 'metrics': 'string',\n",
       " 'train_accuracy': 'float%',\n",
       " 'test_accuracy': 'float%',\n",
       " 'classification_report': 'string',\n",
       " 'elapsed': 'float',\n",
       " 'ipynb': 'path',\n",
       " 'plots': 'path'}"
      ]
     },
     "execution_count": 110,
     "metadata": {},
     "output_type": "execute_result"
    }
   ],
   "source": [
    "var_dict"
   ]
  },
  {
   "cell_type": "code",
   "execution_count": 111,
   "metadata": {},
   "outputs": [],
   "source": [
    "with open('../../var-dict.txt','wb') as f:\n",
    "    pickle.dump(var_dict,f)"
   ]
  },
  {
   "cell_type": "code",
   "execution_count": 112,
   "metadata": {},
   "outputs": [
    {
     "name": "stdout",
     "output_type": "stream",
     "text": [
      "\u001b[34mMNIST\u001b[m\u001b[m                   \u001b[31mpipeline.py\u001b[m\u001b[m\r\n",
      "PipeLine Testing .ipynb var-dict.txt\r\n"
     ]
    }
   ],
   "source": [
    "! ls ../../"
   ]
  },
  {
   "cell_type": "code",
   "execution_count": 113,
   "metadata": {},
   "outputs": [],
   "source": [
    "for val in var:\n",
    "    param[val] = eval(val)"
   ]
  },
  {
   "cell_type": "code",
   "execution_count": 114,
   "metadata": {},
   "outputs": [],
   "source": [
    "import pickle\n",
    "file = open(\"artefacts.txt\", \"wb\") \n",
    "  \n",
    "dictionary = param \n",
    "pickle.dump(dictionary, file) \n",
    "file.close() \n"
   ]
  },
  {
   "cell_type": "code",
   "execution_count": 57,
   "metadata": {},
   "outputs": [
    {
     "data": {
      "text/html": [
       "<div>\n",
       "<style scoped>\n",
       "    .dataframe tbody tr th:only-of-type {\n",
       "        vertical-align: middle;\n",
       "    }\n",
       "\n",
       "    .dataframe tbody tr th {\n",
       "        vertical-align: top;\n",
       "    }\n",
       "\n",
       "    .dataframe thead th {\n",
       "        text-align: right;\n",
       "    }\n",
       "</style>\n",
       "<table border=\"1\" class=\"dataframe\">\n",
       "  <thead>\n",
       "    <tr style=\"text-align: right;\">\n",
       "      <th></th>\n",
       "      <th>project_name</th>\n",
       "      <th>framework</th>\n",
       "      <th>prediction_type</th>\n",
       "      <th>network_type</th>\n",
       "      <th>Architecture</th>\n",
       "      <th>layers</th>\n",
       "      <th>hidden_units</th>\n",
       "      <th>Activations</th>\n",
       "      <th>epochs</th>\n",
       "      <th>metrics</th>\n",
       "      <th>Train_Accuracy</th>\n",
       "      <th>Test_Accuracy</th>\n",
       "      <th>elapsed</th>\n",
       "      <th>Desc</th>\n",
       "    </tr>\n",
       "  </thead>\n",
       "  <tbody>\n",
       "    <tr>\n",
       "      <th>0</th>\n",
       "      <td>MNIST</td>\n",
       "      <td>Pytorch</td>\n",
       "      <td>Classification</td>\n",
       "      <td>Convolutional Neural Network</td>\n",
       "      <td>convolutional(\\n  (conv1): Conv2d(1, 6, kernel...</td>\n",
       "      <td>6</td>\n",
       "      <td>None</td>\n",
       "      <td>['relu','softmax']</td>\n",
       "      <td>5</td>\n",
       "      <td>Accuracy</td>\n",
       "      <td>96.9026</td>\n",
       "      <td>98.72</td>\n",
       "      <td>2.48 Min</td>\n",
       "      <td>The MNIST database of handwritten digits, avai...</td>\n",
       "    </tr>\n",
       "  </tbody>\n",
       "</table>\n",
       "</div>"
      ],
      "text/plain": [
       "  project_name framework prediction_type                  network_type  \\\n",
       "0        MNIST   Pytorch  Classification  Convolutional Neural Network   \n",
       "\n",
       "                                        Architecture layers hidden_units  \\\n",
       "0  convolutional(\\n  (conv1): Conv2d(1, 6, kernel...      6         None   \n",
       "\n",
       "          Activations epochs   metrics Train_Accuracy Test_Accuracy   elapsed  \\\n",
       "0  ['relu','softmax']      5  Accuracy        96.9026         98.72  2.48 Min   \n",
       "\n",
       "                                                Desc  \n",
       "0  The MNIST database of handwritten digits, avai...  "
      ]
     },
     "execution_count": 57,
     "metadata": {},
     "output_type": "execute_result"
    }
   ],
   "source": [
    "import pandas as pd\n",
    "pd.DataFrame(pd.Series(param)).T"
   ]
  },
  {
   "cell_type": "code",
   "execution_count": 58,
   "metadata": {},
   "outputs": [
    {
     "name": "stdout",
     "output_type": "stream",
     "text": [
      "/Users/Shared/Relocated/Security/Code/Deep_Learning/DeepLearning-Conjunction/Git/Dev/Projects/MNIST/Pytorch\r\n"
     ]
    }
   ],
   "source": [
    "! pwd"
   ]
  },
  {
   "cell_type": "code",
   "execution_count": 59,
   "metadata": {},
   "outputs": [
    {
     "data": {
      "text/plain": [
       "'./Projects/MNIST/Pytorch'"
      ]
     },
     "execution_count": 59,
     "metadata": {},
     "output_type": "execute_result"
    }
   ],
   "source": [
    "import os \n",
    "string = '/Users/Shared/Relocated/Security/Code/Deep_Learning/DeepLearning-Conjunction/Git/Dev/Projects/MNIST/Pytorch'.split('/')\n",
    "os.path.join('./',*string[-3:])"
   ]
  },
  {
   "cell_type": "code",
   "execution_count": 60,
   "metadata": {},
   "outputs": [],
   "source": [
    "import pickle\n",
    "prompt_list = ['Network Type : ','Prediction Type : ', 'Network Architecture : ', 'Number of Layers : ', \n",
    "'Number of Hidden Units :', 'Activations Used : ', 'Number of Epochs : ', 'Metrics: ',\n",
    "'Train and Test Accuracy : ', 'Elapsed Time for Training : '] \n",
    "f_pl = open('../../../prompt-list.txt','wb')\n",
    "\n",
    "pickle.dump(prompt_list, f_pl)\n",
    "f_pl.close()\n"
   ]
  },
  {
   "cell_type": "code",
   "execution_count": 61,
   "metadata": {},
   "outputs": [
    {
     "name": "stdout",
     "output_type": "stream",
     "text": [
      "\u001b[34mMicellaneous\u001b[m\u001b[m         catalog.csv          prompt-list.txt\r\n",
      "\u001b[34mProjects\u001b[m\u001b[m             deep-learning.png    tesseract.png\r\n",
      "README.md            \u001b[31mdynamic-prompt.py\u001b[m\u001b[m\r\n",
      "\u001b[31mcatalog-test.numbers\u001b[m\u001b[m main.py\r\n"
     ]
    }
   ],
   "source": [
    "! ls ../../../"
   ]
  },
  {
   "cell_type": "code",
   "execution_count": 62,
   "metadata": {},
   "outputs": [
    {
     "data": {
      "text/plain": [
       "['Network Type : ',\n",
       " 'Prediction Type : ',\n",
       " 'Network Architecture : ',\n",
       " 'Number of Layers : ',\n",
       " 'Number of Hidden Units :',\n",
       " 'Activations Used : ',\n",
       " 'Number of Epochs : ',\n",
       " 'Metrics: ',\n",
       " 'Train and Test Accuracy : ',\n",
       " 'Elapsed Time for Training : ']"
      ]
     },
     "execution_count": 62,
     "metadata": {},
     "output_type": "execute_result"
    }
   ],
   "source": [
    "prompt_list"
   ]
  },
  {
   "cell_type": "code",
   "execution_count": 63,
   "metadata": {},
   "outputs": [],
   "source": [
    "# with open(, 'rb') as f:\n",
    "#     data = f.read()\n",
    "# test_list = pickle.load(data)\n",
    "# test_list\n",
    "\n",
    "with open('../../../prompt-list.txt', 'rb') as f:\n",
    "    \n",
    "    data = f.read() \n",
    "        \n",
    "\n",
    "d = pickle.loads(data) "
   ]
  },
  {
   "cell_type": "code",
   "execution_count": 64,
   "metadata": {},
   "outputs": [
    {
     "data": {
      "text/plain": [
       "['Network Type : ',\n",
       " 'Prediction Type : ',\n",
       " 'Network Architecture : ',\n",
       " 'Number of Layers : ',\n",
       " 'Number of Hidden Units :',\n",
       " 'Activations Used : ',\n",
       " 'Number of Epochs : ',\n",
       " 'Metrics: ',\n",
       " 'Train and Test Accuracy : ',\n",
       " 'Elapsed Time for Training : ']"
      ]
     },
     "execution_count": 64,
     "metadata": {},
     "output_type": "execute_result"
    }
   ],
   "source": [
    "d"
   ]
  },
  {
   "cell_type": "code",
   "execution_count": null,
   "metadata": {},
   "outputs": [],
   "source": []
  }
 ],
 "metadata": {
  "kernelspec": {
   "display_name": "Python 3",
   "language": "python",
   "name": "python3"
  },
  "language_info": {
   "codemirror_mode": {
    "name": "ipython",
    "version": 3
   },
   "file_extension": ".py",
   "mimetype": "text/x-python",
   "name": "python",
   "nbconvert_exporter": "python",
   "pygments_lexer": "ipython3",
   "version": "3.8.5"
  }
 },
 "nbformat": 4,
 "nbformat_minor": 4
}
