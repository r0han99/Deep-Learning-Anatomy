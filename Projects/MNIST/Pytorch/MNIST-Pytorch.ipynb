{
 "cells": [
  {
   "cell_type": "markdown",
   "metadata": {},
   "source": [
    "### Convolutional Neural Network "
   ]
  },
  {
   "cell_type": "code",
   "execution_count": 1,
   "metadata": {},
   "outputs": [],
   "source": [
    "import torch \n",
    "import torch.nn as nn\n",
    "import torch.nn.functional as F\n",
    "from torch.utils.data import DataLoader\n",
    "from torchvision import datasets, transforms\n",
    "from torchvision.utils import make_grid\n",
    "\n",
    "import numpy as np\n",
    "import matplotlib.pyplot as plt\n",
    "from sklearn.metrics import confusion_matrix, classification_report\n",
    "plt.style.use('seaborn-white')\n",
    "import warnings \n",
    "warnings.filterwarnings('ignore','DeprecatedWarnings')"
   ]
  },
  {
   "cell_type": "code",
   "execution_count": 2,
   "metadata": {
    "scrolled": true
   },
   "outputs": [
    {
     "data": {
      "text/plain": [
       "'1.7.1'"
      ]
     },
     "execution_count": 2,
     "metadata": {},
     "output_type": "execute_result"
    }
   ],
   "source": [
    "torch.__version__"
   ]
  },
  {
   "cell_type": "markdown",
   "metadata": {},
   "source": [
    "### Loading Datasets "
   ]
  },
  {
   "cell_type": "code",
   "execution_count": 3,
   "metadata": {
    "scrolled": true
   },
   "outputs": [],
   "source": [
    "# MNIST Is considered to be the Hello World of CNN's and Deep Learning in General, so it is \n",
    "# generally provided from as the inbuild go-to project for beginners \n",
    "transforms = transforms.ToTensor()\n",
    "train_data = datasets.MNIST(root='../Data', train=True, download=True, transform=transforms)\n",
    "test_data = datasets.MNIST(root='../Data', train=False, download=True, transform=transforms)"
   ]
  },
  {
   "cell_type": "code",
   "execution_count": 4,
   "metadata": {},
   "outputs": [
    {
     "data": {
      "text/plain": [
       "Dataset MNIST\n",
       "    Number of datapoints: 60000\n",
       "    Root location: ../Data\n",
       "    Split: Train\n",
       "    StandardTransform\n",
       "Transform: ToTensor()"
      ]
     },
     "execution_count": 4,
     "metadata": {},
     "output_type": "execute_result"
    }
   ],
   "source": [
    "train_data "
   ]
  },
  {
   "cell_type": "code",
   "execution_count": 5,
   "metadata": {},
   "outputs": [
    {
     "data": {
      "text/plain": [
       "Dataset MNIST\n",
       "    Number of datapoints: 10000\n",
       "    Root location: ../Data\n",
       "    Split: Test\n",
       "    StandardTransform\n",
       "Transform: ToTensor()"
      ]
     },
     "execution_count": 5,
     "metadata": {},
     "output_type": "execute_result"
    }
   ],
   "source": [
    "test_data "
   ]
  },
  {
   "cell_type": "markdown",
   "metadata": {},
   "source": [
    "### Data Loader Object"
   ]
  },
  {
   "cell_type": "code",
   "execution_count": 6,
   "metadata": {},
   "outputs": [],
   "source": [
    "# Pytorch's convention to create dataloader objects, to be used in the models train cycle \n",
    "batch_s = 10\n",
    "train_loader = DataLoader(train_data,batch_size=batch_s,shuffle=True)\n",
    "test_loader = DataLoader(test_data,batch_size=batch_s,shuffle=False) "
   ]
  },
  {
   "cell_type": "markdown",
   "metadata": {},
   "source": [
    "### What is the Data about? "
   ]
  },
  {
   "cell_type": "code",
   "execution_count": 7,
   "metadata": {},
   "outputs": [
    {
     "name": "stdout",
     "output_type": "stream",
     "text": [
      "\n",
      "The MNIST database of handwritten digits, available from this page, has a training set of 60,000 examples, and a test set of 10,000 examples. It is a subset of a larger set available from NIST. The digits have been size-normalized and centered in a fixed-size image.\n",
      "\n"
     ]
    }
   ],
   "source": [
    "# pipeline obj=1/\n",
    "desc = '''\n",
    "The MNIST database of handwritten digits, available from this page, has a training set of 60,000 examples, and a test set of 10,000 examples. It is a subset of a larger set available from NIST. The digits have been size-normalized and centered in a fixed-size image.\n",
    "'''\n",
    "print(desc)"
   ]
  },
  {
   "cell_type": "code",
   "execution_count": 8,
   "metadata": {},
   "outputs": [],
   "source": [
    "(x_train, y_train) = train_data[0] # one sample"
   ]
  },
  {
   "cell_type": "code",
   "execution_count": 9,
   "metadata": {},
   "outputs": [
    {
     "data": {
      "text/plain": [
       "5"
      ]
     },
     "execution_count": 9,
     "metadata": {},
     "output_type": "execute_result"
    }
   ],
   "source": [
    "y_train # label"
   ]
  },
  {
   "cell_type": "code",
   "execution_count": 10,
   "metadata": {},
   "outputs": [
    {
     "data": {
      "text/plain": [
       "Text(0.5, 1.0, 'label 5')"
      ]
     },
     "execution_count": 10,
     "metadata": {},
     "output_type": "execute_result"
    },
    {
     "data": {
      "image/png": "[encoded data removed]",
      "text/plain": [
       "<Figure size 432x288 with 1 Axes>"
      ]
     },
     "metadata": {},
     "output_type": "display_data"
    }
   ],
   "source": [
    "plt.imshow(x_train[0],cmap='binary')\n",
    "plt.title('label {}'.format(y_train))"
   ]
  },
  {
   "cell_type": "markdown",
   "metadata": {},
   "source": [
    "### Convolutional Neural Network Class"
   ]
  },
  {
   "cell_type": "markdown",
   "metadata": {},
   "source": [
    "### Buidling Model "
   ]
  },
  {
   "cell_type": "code",
   "execution_count": 11,
   "metadata": {},
   "outputs": [],
   "source": [
    "class convolutional(nn.Module):\n",
    "    \n",
    "    def __init__(self,in_channel=1,output=10): \n",
    "        super().__init__() # inheriting nn.Module\n",
    "        # defining Layer Functions \n",
    "        # input dimension = (b,28,28,1)\n",
    "        self.conv1 = nn.Conv2d(in_channels=in_channel, out_channels=6, kernel_size=(3,3), stride=1 )\n",
    "        # (b,26,26,6)\n",
    "        self.pool = nn.MaxPool2d(kernel_size=(2,2), stride=(2,2)) # f=2, s=2 \n",
    "        #  dimension (b,12,12,6)\n",
    "        self.conv2 = nn.Conv2d(in_channels=6,out_channels=16,kernel_size=(3,3),stride=1)\n",
    "        # dimension (b,10,10,16)\n",
    "        # we apply one more pool after this dimension so (b,5,5,16)\n",
    "        self.fc1 = nn.Linear(5*5*16,120)\n",
    "        self.fc2 = nn.Linear(120, 64)\n",
    "        self.fc3 = nn.Linear(in_features=64,out_features=output)\n",
    "\n",
    "    def forward(self,X):\n",
    "        # Construction of the Architecture \n",
    "        X = F.relu(self.conv1(X))\n",
    "        X = self.pool(X)\n",
    "        X = F.relu(self.conv2(X))\n",
    "        X = self.pool(X)\n",
    "        X = X.view(-1, 5*5*16) # Flatten\n",
    "        X = F.relu(self.fc1(X))\n",
    "        X = F.relu(self.fc2(X))\n",
    "        X = self.fc3(X)\n",
    "        return F.log_softmax(X, dim=1)\n",
    "    \n",
    "    \n",
    "        \n",
    "        \n"
   ]
  },
  {
   "cell_type": "code",
   "execution_count": 12,
   "metadata": {},
   "outputs": [],
   "source": [
    "net = convolutional()"
   ]
  },
  {
   "cell_type": "code",
   "execution_count": 13,
   "metadata": {},
   "outputs": [
    {
     "data": {
      "text/plain": [
       "convolutional(\n",
       "  (conv1): Conv2d(1, 6, kernel_size=(3, 3), stride=(1, 1))\n",
       "  (pool): MaxPool2d(kernel_size=(2, 2), stride=(2, 2), padding=0, dilation=1, ceil_mode=False)\n",
       "  (conv2): Conv2d(6, 16, kernel_size=(3, 3), stride=(1, 1))\n",
       "  (fc1): Linear(in_features=400, out_features=120, bias=True)\n",
       "  (fc2): Linear(in_features=120, out_features=64, bias=True)\n",
       "  (fc3): Linear(in_features=64, out_features=10, bias=True)\n",
       ")"
      ]
     },
     "execution_count": 13,
     "metadata": {},
     "output_type": "execute_result"
    }
   ],
   "source": [
    "net"
   ]
  },
  {
   "cell_type": "code",
   "execution_count": 14,
   "metadata": {
    "scrolled": true
   },
   "outputs": [
    {
     "name": "stdout",
     "output_type": "stream",
     "text": [
      "Total Learnable Params :\n",
      "        54\n",
      "         6\n",
      "       864\n",
      "        16\n",
      "     48000\n",
      "       120\n",
      "      7680\n",
      "        64\n",
      "       640\n",
      "        10\n",
      "___________\n",
      "     57454\n"
     ]
    }
   ],
   "source": [
    "print('Total Learnable Params :')\n",
    "params = [p.numel() for p in net.parameters() if p.requires_grad]\n",
    "for item in params:\n",
    "    print(f'{item:>10}')\n",
    "print(f'___________\\n{sum(params):>10}')"
   ]
  },
  {
   "cell_type": "code",
   "execution_count": 15,
   "metadata": {},
   "outputs": [],
   "source": [
    "# defining the loss function and optimizer \n",
    "criterion = nn.CrossEntropyLoss()\n",
    "optimizer = torch.optim.Adam(net.parameters(),lr=0.001)"
   ]
  },
  {
   "cell_type": "code",
   "execution_count": 17,
   "metadata": {
    "scrolled": false
   },
   "outputs": [
    {
     "name": "stdout",
     "output_type": "stream",
     "text": [
      "epoch:  0  batch:  600 [  6000/60000]  loss: 0.11924569  accuracy:  75.550%\n",
      "epoch:  0  batch: 1200 [ 12000/60000]  loss: 0.12763628  accuracy:  84.292%\n",
      "epoch:  0  batch: 1800 [ 18000/60000]  loss: 0.04454534  accuracy:  87.811%\n",
      "epoch:  0  batch: 2400 [ 24000/60000]  loss: 0.00629141  accuracy:  89.662%\n",
      "epoch:  0  batch: 3000 [ 30000/60000]  loss: 0.05193086  accuracy:  90.840%\n",
      "epoch:  0  batch: 3600 [ 36000/60000]  loss: 0.02835705  accuracy:  91.792%\n",
      "epoch:  0  batch: 4200 [ 42000/60000]  loss: 0.56388974  accuracy:  92.493%\n",
      "epoch:  0  batch: 4800 [ 48000/60000]  loss: 0.00274723  accuracy:  93.071%\n",
      "epoch:  0  batch: 5400 [ 54000/60000]  loss: 0.08888493  accuracy:  93.496%\n",
      "epoch:  0  batch: 6000 [ 60000/60000]  loss: 0.00419691  accuracy:  93.852%\n",
      "epoch:  1  batch:  600 [  6000/60000]  loss: 0.00491270  accuracy:  97.450%\n",
      "epoch:  1  batch: 1200 [ 12000/60000]  loss: 0.00427231  accuracy:  97.458%\n",
      "epoch:  1  batch: 1800 [ 18000/60000]  loss: 0.04439243  accuracy:  97.544%\n",
      "epoch:  1  batch: 2400 [ 24000/60000]  loss: 0.01586340  accuracy:  97.588%\n",
      "epoch:  1  batch: 3000 [ 30000/60000]  loss: 0.02111457  accuracy:  97.633%\n",
      "epoch:  1  batch: 3600 [ 36000/60000]  loss: 0.00026605  accuracy:  97.717%\n",
      "epoch:  1  batch: 4200 [ 42000/60000]  loss: 0.26243860  accuracy:  97.743%\n",
      "epoch:  1  batch: 4800 [ 48000/60000]  loss: 0.29612529  accuracy:  97.783%\n",
      "epoch:  1  batch: 5400 [ 54000/60000]  loss: 0.13613828  accuracy:  97.850%\n",
      "epoch:  1  batch: 6000 [ 60000/60000]  loss: 0.16438568  accuracy:  97.848%\n",
      "epoch:  2  batch:  600 [  6000/60000]  loss: 0.00097367  accuracy:  98.367%\n",
      "epoch:  2  batch: 1200 [ 12000/60000]  loss: 0.00730920  accuracy:  98.342%\n",
      "epoch:  2  batch: 1800 [ 18000/60000]  loss: 0.44688016  accuracy:  98.356%\n",
      "epoch:  2  batch: 2400 [ 24000/60000]  loss: 0.02830379  accuracy:  98.350%\n",
      "epoch:  2  batch: 3000 [ 30000/60000]  loss: 0.16491416  accuracy:  98.333%\n",
      "epoch:  2  batch: 3600 [ 36000/60000]  loss: 0.31121570  accuracy:  98.328%\n",
      "epoch:  2  batch: 4200 [ 42000/60000]  loss: 0.83973742  accuracy:  98.360%\n",
      "epoch:  2  batch: 4800 [ 48000/60000]  loss: 0.02205916  accuracy:  98.369%\n",
      "epoch:  2  batch: 5400 [ 54000/60000]  loss: 0.01329469  accuracy:  98.387%\n",
      "epoch:  2  batch: 6000 [ 60000/60000]  loss: 0.01703760  accuracy:  98.410%\n",
      "epoch:  3  batch:  600 [  6000/60000]  loss: 0.00008939  accuracy:  98.950%\n",
      "epoch:  3  batch: 1200 [ 12000/60000]  loss: 0.00989255  accuracy:  98.833%\n",
      "epoch:  3  batch: 1800 [ 18000/60000]  loss: 0.01814078  accuracy:  98.850%\n",
      "epoch:  3  batch: 2400 [ 24000/60000]  loss: 0.00006347  accuracy:  98.867%\n",
      "epoch:  3  batch: 3000 [ 30000/60000]  loss: 0.08430563  accuracy:  98.833%\n",
      "epoch:  3  batch: 3600 [ 36000/60000]  loss: 0.00083146  accuracy:  98.814%\n",
      "epoch:  3  batch: 4200 [ 42000/60000]  loss: 0.00024983  accuracy:  98.790%\n",
      "epoch:  3  batch: 4800 [ 48000/60000]  loss: 0.04406525  accuracy:  98.785%\n",
      "epoch:  3  batch: 5400 [ 54000/60000]  loss: 0.00120888  accuracy:  98.794%\n",
      "epoch:  3  batch: 6000 [ 60000/60000]  loss: 0.00479843  accuracy:  98.792%\n",
      "epoch:  4  batch:  600 [  6000/60000]  loss: 0.03544014  accuracy:  98.967%\n",
      "epoch:  4  batch: 1200 [ 12000/60000]  loss: 0.00299220  accuracy:  99.017%\n",
      "epoch:  4  batch: 1800 [ 18000/60000]  loss: 0.02138555  accuracy:  99.000%\n",
      "epoch:  4  batch: 2400 [ 24000/60000]  loss: 0.00595939  accuracy:  98.971%\n",
      "epoch:  4  batch: 3000 [ 30000/60000]  loss: 0.00030641  accuracy:  98.980%\n",
      "epoch:  4  batch: 3600 [ 36000/60000]  loss: 0.00556433  accuracy:  99.000%\n",
      "epoch:  4  batch: 4200 [ 42000/60000]  loss: 0.07285134  accuracy:  98.936%\n",
      "epoch:  4  batch: 4800 [ 48000/60000]  loss: 0.00090826  accuracy:  98.973%\n",
      "epoch:  4  batch: 5400 [ 54000/60000]  loss: 0.00183687  accuracy:  98.954%\n",
      "epoch:  4  batch: 6000 [ 60000/60000]  loss: 0.00166669  accuracy:  98.988%\n",
      "ELAPSED 2.48\n"
     ]
    }
   ],
   "source": [
    "# The TRAIN CYCLE \n",
    "import time \n",
    "start = time.perf_counter()\n",
    "# trackers, for post evaluation\n",
    "epochs = 5\n",
    "train_losses = []\n",
    "test_losses = []\n",
    "train_correct = []\n",
    "test_correct = []\n",
    "accuracy = []\n",
    "\n",
    "for i in range(epochs):\n",
    "    trn_corr = 0\n",
    "    tst_corr = 0\n",
    "    \n",
    "    # Run the training batches\n",
    "    for b, (X_train, y_train) in enumerate(train_loader):\n",
    "        b+=1\n",
    "        \n",
    "        # Apply the model\n",
    "        y_pred = net(X_train)  # we don't flatten X-train here\n",
    "        loss = criterion(y_pred, y_train)\n",
    " \n",
    "        # Tally the number of correct predictions\n",
    "        _, predicted = y_pred.max(1)\n",
    "        batch_corr = (predicted == y_train).sum()\n",
    "        trn_corr += batch_corr\n",
    "        \n",
    "        # Update parameters\n",
    "        optimizer.zero_grad()\n",
    "        loss.backward()\n",
    "        optimizer.step()\n",
    "        \n",
    "        # Print interim results\n",
    "        if b%600 == 0:\n",
    "            print(f'epoch: {i:2}  batch: {b:4} [{10*b:6}/60000]  loss: {loss.item():10.8f}  \\\n",
    "accuracy: {trn_corr.item()*100/(10*b):7.3f}%')\n",
    "            accuracy.append(trn_corr.item()*100/(10*b))\n",
    "        \n",
    "    train_losses.append(loss)\n",
    "    train_correct.append(trn_corr)\n",
    "        \n",
    "    # Run the testing batches\n",
    "    with torch.no_grad():\n",
    "        for b, (X_test, y_test) in enumerate(test_loader):\n",
    "\n",
    "            # Apply the model\n",
    "            y_val = net(X_test)\n",
    "\n",
    "            # Tally the number of correct predictions\n",
    "            predicted = torch.max(y_val.data, 1)[1] \n",
    "            tst_corr += (predicted == y_test).sum()\n",
    "            \n",
    "    loss = criterion(y_val, y_test)\n",
    "    test_losses.append(loss)\n",
    "    test_correct.append(tst_corr)\n",
    "    \n",
    "elapsed = (time.perf_counter() - start)/60\n",
    "print('ELAPSED {:.2f}'.format(elapsed))\n",
    "        \n"
   ]
  },
  {
   "cell_type": "code",
   "execution_count": 18,
   "metadata": {},
   "outputs": [
    {
     "data": {
      "image/png": "[encoded data removed]",
      "text/plain": [
       "<Figure size 432x288 with 1 Axes>"
      ]
     },
     "metadata": {},
     "output_type": "display_data"
    }
   ],
   "source": [
    "plt.plot(train_losses, label='training loss')\n",
    "plt.title('Loss at the end of each epoch')\n",
    "plt.xlabel('epochs')\n",
    "plt.legend();"
   ]
  },
  {
   "cell_type": "code",
   "execution_count": 19,
   "metadata": {},
   "outputs": [
    {
     "data": {
      "image/png": "[encoded data removed]",
      "text/plain": [
       "<Figure size 432x288 with 1 Axes>"
      ]
     },
     "metadata": {},
     "output_type": "display_data"
    }
   ],
   "source": [
    "plt.plot(test_losses, label='validation loss')\n",
    "plt.title('Loss at the end of each epoch')\n",
    "plt.xlabel('epochs')\n",
    "plt.legend();"
   ]
  },
  {
   "cell_type": "code",
   "execution_count": 20,
   "metadata": {},
   "outputs": [
    {
     "data": {
      "image/png": "[encoded data removed]",
      "text/plain": [
       "<Figure size 432x288 with 1 Axes>"
      ]
     },
     "metadata": {},
     "output_type": "display_data"
    }
   ],
   "source": [
    "plt.plot([t/600 for t in train_correct], label='training accuracy')\n",
    "\n",
    "plt.title('Accuracy at the end of each epoch')\n",
    "plt.legend();"
   ]
  },
  {
   "cell_type": "code",
   "execution_count": 21,
   "metadata": {},
   "outputs": [
    {
     "data": {
      "image/png": "[encoded data removed]",
      "text/plain": [
       "<Figure size 432x288 with 1 Axes>"
      ]
     },
     "metadata": {},
     "output_type": "display_data"
    }
   ],
   "source": [
    "plt.plot([t/100 for t in test_correct], label='validation accuracy')\n",
    "plt.title('Accuracy at the end of each epoch')\n",
    "plt.legend();"
   ]
  },
  {
   "cell_type": "markdown",
   "metadata": {},
   "source": [
    "### Overall Evaluation"
   ]
  },
  {
   "cell_type": "code",
   "execution_count": 22,
   "metadata": {},
   "outputs": [],
   "source": [
    "test_load = DataLoader(test_data,batch_size=10000, shuffle=False)"
   ]
  },
  {
   "cell_type": "code",
   "execution_count": 23,
   "metadata": {},
   "outputs": [
    {
     "name": "stdout",
     "output_type": "stream",
     "text": [
      "Test accuracy: 9872/10000 =  98.720%\n"
     ]
    }
   ],
   "source": [
    "with torch.no_grad():\n",
    "    correct = 0\n",
    "    for x_test, y_test in test_load:\n",
    "        y_val = net(x_test)\n",
    "        _, predicted = y_val.max(1)\n",
    "        correct += (predicted == y_test).sum()\n",
    "        \n",
    "print(f'Test accuracy: {correct.item()}/{len(test_data)} = {correct.item()*100/(len(test_data)):7.3f}%')"
   ]
  },
  {
   "cell_type": "code",
   "execution_count": 24,
   "metadata": {},
   "outputs": [
    {
     "data": {
      "text/plain": [
       "tensor([7, 2, 1,  ..., 4, 5, 6])"
      ]
     },
     "execution_count": 24,
     "metadata": {},
     "output_type": "execute_result"
    }
   ],
   "source": [
    "predicted"
   ]
  },
  {
   "cell_type": "code",
   "execution_count": 25,
   "metadata": {},
   "outputs": [
    {
     "data": {
      "text/plain": [
       "array([  18,   62,  115,  158,  340,  359,  551,  582,  619,  629,  659,\n",
       "        684,  716,  720,  740,  924,  947, 1014, 1039, 1112, 1226, 1242,\n",
       "       1247, 1299, 1328, 1393, 1500, 1522, 1621, 1709, 1721, 1737, 1782,\n",
       "       1790, 1878, 1901, 1909, 2018, 2024, 2035, 2070, 2090, 2130, 2135,\n",
       "       2293, 2343, 2447, 2488, 2496, 2582, 2597, 2648, 2654, 2743, 2771,\n",
       "       2927, 2939, 2953, 2959, 2970, 3030, 3225, 3289, 3448, 3520, 3702,\n",
       "       3726, 3756, 3762, 3767, 3778, 3806, 3808, 3902, 3906, 3941, 4163,\n",
       "       4176, 4194, 4201, 4284, 4360, 4497, 4504, 4536, 4571, 4740, 4783,\n",
       "       4838, 4860, 4880, 4911, 5127, 5457, 5634, 5642, 5937, 5955, 5973,\n",
       "       5981, 5997, 6101, 6560, 6571, 6576, 6597, 6625, 6651, 6783, 6883,\n",
       "       7216, 7574, 7899, 7928, 7990, 8279, 8325, 8469, 8509, 8520, 9009,\n",
       "       9540, 9669, 9729, 9839, 9891, 9904, 9905])"
      ]
     },
     "execution_count": 25,
     "metadata": {},
     "output_type": "execute_result"
    }
   ],
   "source": [
    "# Missed Pictures and their indexes\n",
    "misses = np.array([])\n",
    "\n",
    "for i in range(len(predicted.view(-1))):\n",
    "    \n",
    "    if predicted[i] != y_test[i]:\n",
    "        misses = np.append(misses,i).astype('int64')\n",
    "    \n",
    "misses"
   ]
  },
  {
   "cell_type": "markdown",
   "metadata": {},
   "source": [
    "### Single Image Test"
   ]
  },
  {
   "cell_type": "code",
   "execution_count": 26,
   "metadata": {},
   "outputs": [
    {
     "data": {
      "text/plain": [
       "Text(0.5, 1.0, 'Label 3')"
      ]
     },
     "execution_count": 26,
     "metadata": {},
     "output_type": "execute_result"
    },
    {
     "data": {
      "image/png": "[encoded data removed]",
      "text/plain": [
       "<Figure size 288x288 with 1 Axes>"
      ]
     },
     "metadata": {},
     "output_type": "display_data"
    }
   ],
   "source": [
    "index = 2020\n",
    "plt.figure(figsize=(4,4))\n",
    "plt.imshow(x_test[index].reshape(28,28),cmap='binary')\n",
    "plt.title('Label {}'.format(y_test[2020]))"
   ]
  },
  {
   "cell_type": "code",
   "execution_count": 27,
   "metadata": {},
   "outputs": [
    {
     "name": "stdout",
     "output_type": "stream",
     "text": [
      "Prediction ~ 3\n",
      "Reality - 3\n"
     ]
    }
   ],
   "source": [
    "net.eval()\n",
    "with torch.no_grad():\n",
    "    yhat = net(x_test[index][0].view(1,1,28,28))\n",
    "    print('Prediction ~ {}'.format(yhat.argmax()))\n",
    "    print('Reality - {}'.format(y_test[index]))"
   ]
  },
  {
   "cell_type": "markdown",
   "metadata": {},
   "source": [
    "### Miscellaneous"
   ]
  },
  {
   "cell_type": "code",
   "execution_count": 28,
   "metadata": {},
   "outputs": [],
   "source": [
    "# PipeLine Script Data  "
   ]
  },
  {
   "cell_type": "code",
   "execution_count": 89,
   "metadata": {},
   "outputs": [],
   "source": [
    "project_name = 'MNIST'\n",
    "framework = 'Pytorch'\n",
    "prediction_type = 'Classification'\n",
    "network_type = 'Convolutional Neural Network'\n",
    "Architecture = str(net)\n",
    "layers = 6\n",
    "hidden_units = None \n",
    "Activations = \"['relu','softmax']\"\n",
    "epochs = 5\n",
    "metrics = 'Accuracy'\n",
    "Train_Accuracy = np.mean(accuracy)\n",
    "Test_Accuracy = 98.720\n",
    "elapsed = '2.48 Min'\n",
    "Desc = desc.strip()\n"
   ]
  },
  {
   "cell_type": "code",
   "execution_count": 90,
   "metadata": {},
   "outputs": [],
   "source": [
    "param = dict()\n",
    "var = ['project_name', 'framework','prediction_type','network_type',\n",
    "       'Architecture','layers','hidden_units','Activations','epochs',\n",
    "       'metrics','Train_Accuracy','Test_Accuracy','elapsed','Desc']"
   ]
  },
  {
   "cell_type": "code",
   "execution_count": 91,
   "metadata": {},
   "outputs": [],
   "source": [
    "for val in var:\n",
    "    param[val] = eval(val)"
   ]
  },
  {
   "cell_type": "code",
   "execution_count": 92,
   "metadata": {},
   "outputs": [],
   "source": [
    "import pickle\n",
    "file = open(\"state_dict.txt\", \"wb\") \n",
    "  \n",
    "dictionary = param \n",
    "  \n",
    "pickle.dump(dictionary, file) \n",
    "file.close() \n"
   ]
  },
  {
   "cell_type": "code",
   "execution_count": 95,
   "metadata": {},
   "outputs": [
    {
     "data": {
      "text/plain": [
       "{'project_name': 'MNIST',\n",
       " 'framework': 'Pytorch',\n",
       " 'prediction_type': 'Classification',\n",
       " 'network_type': 'Convolutional Neural Network',\n",
       " 'Architecture': 'convolutional(\\n  (conv1): Conv2d(1, 6, kernel_size=(3, 3), stride=(1, 1))\\n  (pool): MaxPool2d(kernel_size=(2, 2), stride=(2, 2), padding=0, dilation=1, ceil_mode=False)\\n  (conv2): Conv2d(6, 16, kernel_size=(3, 3), stride=(1, 1))\\n  (fc1): Linear(in_features=400, out_features=120, bias=True)\\n  (fc2): Linear(in_features=120, out_features=64, bias=True)\\n  (fc3): Linear(in_features=64, out_features=10, bias=True)\\n)',\n",
       " 'layers': 6,\n",
       " 'hidden_units': None,\n",
       " 'Activations': \"['relu','softmax']\",\n",
       " 'epochs': 5,\n",
       " 'metrics': 'Accuracy',\n",
       " 'Train_Accuracy': 96.62335542328043,\n",
       " 'Test_Accuracy': 98.72,\n",
       " 'elapsed': '2.48 Min',\n",
       " 'Desc': 'The MNIST database of handwritten digits, available from this page, has a training set of 60,000 examples, and a test set of 10,000 examples. It is a subset of a larger set available from NIST. The digits have been size-normalized and centered in a fixed-size image.'}"
      ]
     },
     "execution_count": 95,
     "metadata": {},
     "output_type": "execute_result"
    }
   ],
   "source": [
    "param"
   ]
  },
  {
   "cell_type": "code",
   "execution_count": 99,
   "metadata": {},
   "outputs": [
    {
     "data": {
      "text/html": [
       "<div>\n",
       "<style scoped>\n",
       "    .dataframe tbody tr th:only-of-type {\n",
       "        vertical-align: middle;\n",
       "    }\n",
       "\n",
       "    .dataframe tbody tr th {\n",
       "        vertical-align: top;\n",
       "    }\n",
       "\n",
       "    .dataframe thead th {\n",
       "        text-align: right;\n",
       "    }\n",
       "</style>\n",
       "<table border=\"1\" class=\"dataframe\">\n",
       "  <thead>\n",
       "    <tr style=\"text-align: right;\">\n",
       "      <th></th>\n",
       "      <th>project_name</th>\n",
       "      <th>framework</th>\n",
       "      <th>prediction_type</th>\n",
       "      <th>network_type</th>\n",
       "      <th>Architecture</th>\n",
       "      <th>layers</th>\n",
       "      <th>hidden_units</th>\n",
       "      <th>Activations</th>\n",
       "      <th>epochs</th>\n",
       "      <th>metrics</th>\n",
       "      <th>Train_Accuracy</th>\n",
       "      <th>Test_Accuracy</th>\n",
       "      <th>elapsed</th>\n",
       "      <th>Desc</th>\n",
       "    </tr>\n",
       "  </thead>\n",
       "  <tbody>\n",
       "    <tr>\n",
       "      <th>0</th>\n",
       "      <td>MNIST</td>\n",
       "      <td>Pytorch</td>\n",
       "      <td>Classification</td>\n",
       "      <td>Convolutional Neural Network</td>\n",
       "      <td>convolutional(\\n  (conv1): Conv2d(1, 6, kernel...</td>\n",
       "      <td>6</td>\n",
       "      <td>None</td>\n",
       "      <td>['relu','softmax']</td>\n",
       "      <td>5</td>\n",
       "      <td>Accuracy</td>\n",
       "      <td>96.6234</td>\n",
       "      <td>98.72</td>\n",
       "      <td>2.48 Min</td>\n",
       "      <td>The MNIST database of handwritten digits, avai...</td>\n",
       "    </tr>\n",
       "  </tbody>\n",
       "</table>\n",
       "</div>"
      ],
      "text/plain": [
       "  project_name framework prediction_type                  network_type  \\\n",
       "0        MNIST   Pytorch  Classification  Convolutional Neural Network   \n",
       "\n",
       "                                        Architecture layers hidden_units  \\\n",
       "0  convolutional(\\n  (conv1): Conv2d(1, 6, kernel...      6         None   \n",
       "\n",
       "          Activations epochs   metrics Train_Accuracy Test_Accuracy   elapsed  \\\n",
       "0  ['relu','softmax']      5  Accuracy        96.6234         98.72  2.48 Min   \n",
       "\n",
       "                                                Desc  \n",
       "0  The MNIST database of handwritten digits, avai...  "
      ]
     },
     "execution_count": 99,
     "metadata": {},
     "output_type": "execute_result"
    }
   ],
   "source": [
    "import pandas as pd\n",
    "pd.DataFrame(pd.Series(param)).T"
   ]
  },
  {
   "cell_type": "code",
   "execution_count": null,
   "metadata": {},
   "outputs": [],
   "source": []
  }
 ],
 "metadata": {
  "kernelspec": {
   "display_name": "Python 3",
   "language": "python",
   "name": "python3"
  },
  "language_info": {
   "codemirror_mode": {
    "name": "ipython",
    "version": 3
   },
   "file_extension": ".py",
   "mimetype": "text/x-python",
   "name": "python",
   "nbconvert_exporter": "python",
   "pygments_lexer": "ipython3",
   "version": "3.8.5"
  }
 },
 "nbformat": 4,
 "nbformat_minor": 4
}
