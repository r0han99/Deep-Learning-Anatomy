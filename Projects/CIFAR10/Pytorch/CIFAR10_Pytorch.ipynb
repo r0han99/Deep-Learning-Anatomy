{
  "nbformat": 4,
  "nbformat_minor": 0,
  "metadata": {
    "kernelspec": {
      "display_name": "Python 3",
      "language": "python",
      "name": "python3"
    },
    "language_info": {
      "codemirror_mode": {
        "name": "ipython",
        "version": 3
      },
      "file_extension": ".py",
      "mimetype": "text/x-python",
      "name": "python",
      "nbconvert_exporter": "python",
      "pygments_lexer": "ipython3",
      "version": "3.8.5"
    },
    "colab": {
      "name": "CIFAR10-Pytorch.ipynb",
      "provenance": [],
      "toc_visible": true
    },
    "accelerator": "GPU",
    "widgets": {
      "application/vnd.jupyter.widget-state+json": {
        "d2462ef9b45a43b6b860579bc34f50d1": {
          "model_module": "@jupyter-widgets/controls",
          "model_name": "HBoxModel",
          "state": {
            "_view_name": "HBoxView",
            "_dom_classes": [],
            "_model_name": "HBoxModel",
            "_view_module": "@jupyter-widgets/controls",
            "_model_module_version": "1.5.0",
            "_view_count": null,
            "_view_module_version": "1.5.0",
            "box_style": "",
            "layout": "IPY_MODEL_2884e8d0cee74138bcf581d212c0827e",
            "_model_module": "@jupyter-widgets/controls",
            "children": [
              "IPY_MODEL_bcbd26aba27445e2b7ea0ce2e57f5242",
              "IPY_MODEL_f81f189f9ffa4008bb66be0d4fa45193"
            ]
          }
        },
        "2884e8d0cee74138bcf581d212c0827e": {
          "model_module": "@jupyter-widgets/base",
          "model_name": "LayoutModel",
          "state": {
            "_view_name": "LayoutView",
            "grid_template_rows": null,
            "right": null,
            "justify_content": null,
            "_view_module": "@jupyter-widgets/base",
            "overflow": null,
            "_model_module_version": "1.2.0",
            "_view_count": null,
            "flex_flow": null,
            "width": null,
            "min_width": null,
            "border": null,
            "align_items": null,
            "bottom": null,
            "_model_module": "@jupyter-widgets/base",
            "top": null,
            "grid_column": null,
            "overflow_y": null,
            "overflow_x": null,
            "grid_auto_flow": null,
            "grid_area": null,
            "grid_template_columns": null,
            "flex": null,
            "_model_name": "LayoutModel",
            "justify_items": null,
            "grid_row": null,
            "max_height": null,
            "align_content": null,
            "visibility": null,
            "align_self": null,
            "height": null,
            "min_height": null,
            "padding": null,
            "grid_auto_rows": null,
            "grid_gap": null,
            "max_width": null,
            "order": null,
            "_view_module_version": "1.2.0",
            "grid_template_areas": null,
            "object_position": null,
            "object_fit": null,
            "grid_auto_columns": null,
            "margin": null,
            "display": null,
            "left": null
          }
        },
        "bcbd26aba27445e2b7ea0ce2e57f5242": {
          "model_module": "@jupyter-widgets/controls",
          "model_name": "FloatProgressModel",
          "state": {
            "_view_name": "ProgressView",
            "style": "IPY_MODEL_c46910c0b98c42aaa7ba4014a04b37bc",
            "_dom_classes": [],
            "description": "",
            "_model_name": "FloatProgressModel",
            "bar_style": "success",
            "max": 1,
            "_view_module": "@jupyter-widgets/controls",
            "_model_module_version": "1.5.0",
            "value": 1,
            "_view_count": null,
            "_view_module_version": "1.5.0",
            "orientation": "horizontal",
            "min": 0,
            "description_tooltip": null,
            "_model_module": "@jupyter-widgets/controls",
            "layout": "IPY_MODEL_b44a15c5c03d4e8688698f7d5ed997b9"
          }
        },
        "f81f189f9ffa4008bb66be0d4fa45193": {
          "model_module": "@jupyter-widgets/controls",
          "model_name": "HTMLModel",
          "state": {
            "_view_name": "HTMLView",
            "style": "IPY_MODEL_a6bbdbcc6eca4fc59b13266128e989c2",
            "_dom_classes": [],
            "description": "",
            "_model_name": "HTMLModel",
            "placeholder": "​",
            "_view_module": "@jupyter-widgets/controls",
            "_model_module_version": "1.5.0",
            "value": " 170500096/? [00:05&lt;00:00, 28900232.67it/s]",
            "_view_count": null,
            "_view_module_version": "1.5.0",
            "description_tooltip": null,
            "_model_module": "@jupyter-widgets/controls",
            "layout": "IPY_MODEL_fc37f938707b474e93a8e70bdff4e6da"
          }
        },
        "c46910c0b98c42aaa7ba4014a04b37bc": {
          "model_module": "@jupyter-widgets/controls",
          "model_name": "ProgressStyleModel",
          "state": {
            "_view_name": "StyleView",
            "_model_name": "ProgressStyleModel",
            "description_width": "initial",
            "_view_module": "@jupyter-widgets/base",
            "_model_module_version": "1.5.0",
            "_view_count": null,
            "_view_module_version": "1.2.0",
            "bar_color": null,
            "_model_module": "@jupyter-widgets/controls"
          }
        },
        "b44a15c5c03d4e8688698f7d5ed997b9": {
          "model_module": "@jupyter-widgets/base",
          "model_name": "LayoutModel",
          "state": {
            "_view_name": "LayoutView",
            "grid_template_rows": null,
            "right": null,
            "justify_content": null,
            "_view_module": "@jupyter-widgets/base",
            "overflow": null,
            "_model_module_version": "1.2.0",
            "_view_count": null,
            "flex_flow": null,
            "width": null,
            "min_width": null,
            "border": null,
            "align_items": null,
            "bottom": null,
            "_model_module": "@jupyter-widgets/base",
            "top": null,
            "grid_column": null,
            "overflow_y": null,
            "overflow_x": null,
            "grid_auto_flow": null,
            "grid_area": null,
            "grid_template_columns": null,
            "flex": null,
            "_model_name": "LayoutModel",
            "justify_items": null,
            "grid_row": null,
            "max_height": null,
            "align_content": null,
            "visibility": null,
            "align_self": null,
            "height": null,
            "min_height": null,
            "padding": null,
            "grid_auto_rows": null,
            "grid_gap": null,
            "max_width": null,
            "order": null,
            "_view_module_version": "1.2.0",
            "grid_template_areas": null,
            "object_position": null,
            "object_fit": null,
            "grid_auto_columns": null,
            "margin": null,
            "display": null,
            "left": null
          }
        },
        "a6bbdbcc6eca4fc59b13266128e989c2": {
          "model_module": "@jupyter-widgets/controls",
          "model_name": "DescriptionStyleModel",
          "state": {
            "_view_name": "StyleView",
            "_model_name": "DescriptionStyleModel",
            "description_width": "",
            "_view_module": "@jupyter-widgets/base",
            "_model_module_version": "1.5.0",
            "_view_count": null,
            "_view_module_version": "1.2.0",
            "_model_module": "@jupyter-widgets/controls"
          }
        },
        "fc37f938707b474e93a8e70bdff4e6da": {
          "model_module": "@jupyter-widgets/base",
          "model_name": "LayoutModel",
          "state": {
            "_view_name": "LayoutView",
            "grid_template_rows": null,
            "right": null,
            "justify_content": null,
            "_view_module": "@jupyter-widgets/base",
            "overflow": null,
            "_model_module_version": "1.2.0",
            "_view_count": null,
            "flex_flow": null,
            "width": null,
            "min_width": null,
            "border": null,
            "align_items": null,
            "bottom": null,
            "_model_module": "@jupyter-widgets/base",
            "top": null,
            "grid_column": null,
            "overflow_y": null,
            "overflow_x": null,
            "grid_auto_flow": null,
            "grid_area": null,
            "grid_template_columns": null,
            "flex": null,
            "_model_name": "LayoutModel",
            "justify_items": null,
            "grid_row": null,
            "max_height": null,
            "align_content": null,
            "visibility": null,
            "align_self": null,
            "height": null,
            "min_height": null,
            "padding": null,
            "grid_auto_rows": null,
            "grid_gap": null,
            "max_width": null,
            "order": null,
            "_view_module_version": "1.2.0",
            "grid_template_areas": null,
            "object_position": null,
            "object_fit": null,
            "grid_auto_columns": null,
            "margin": null,
            "display": null,
            "left": null
          }
        }
      }
    }
  },
  "cells": [
    {
      "cell_type": "markdown",
      "metadata": {
        "id": "Flg5F9RpwYwh"
      },
      "source": [
        "### CIFAR-10 Using Pytorch"
      ]
    },
    {
      "cell_type": "code",
      "metadata": {
        "id": "LiiV9tmiwYwo"
      },
      "source": [
        "import torch\n",
        "import torch.nn as nn\n",
        "import torch.nn.functional as F\n",
        "from torch.utils.data import DataLoader\n",
        "from torchvision import datasets, transforms\n",
        "from torchvision.utils import make_grid\n",
        "from sklearn.metrics import confusion_matrix\n",
        "import matplotlib.pyplot as plt\n",
        "\n",
        "\n",
        "import numpy as np"
      ],
      "execution_count": 1,
      "outputs": []
    },
    {
      "cell_type": "code",
      "metadata": {
        "colab": {
          "base_uri": "https://localhost:8080/",
          "height": 100,
          "referenced_widgets": [
            "d2462ef9b45a43b6b860579bc34f50d1",
            "2884e8d0cee74138bcf581d212c0827e",
            "bcbd26aba27445e2b7ea0ce2e57f5242",
            "f81f189f9ffa4008bb66be0d4fa45193",
            "c46910c0b98c42aaa7ba4014a04b37bc",
            "b44a15c5c03d4e8688698f7d5ed997b9",
            "a6bbdbcc6eca4fc59b13266128e989c2",
            "fc37f938707b474e93a8e70bdff4e6da"
          ]
        },
        "id": "Ti_at_frwYwp",
        "outputId": "84bfc192-6d60-4a3d-abb6-1a5bfd3324f1"
      },
      "source": [
        "transform = transforms.ToTensor()\n",
        "\n",
        "train_data = datasets.CIFAR10(root='../Data', train=True, download=True, transform=transform)\n",
        "test_data = datasets.CIFAR10(root='../Data', train=False, download=True, transform=transform)"
      ],
      "execution_count": 2,
      "outputs": [
        {
          "output_type": "stream",
          "text": [
            "Downloading https://www.cs.toronto.edu/~kriz/cifar-10-python.tar.gz to ../Data/cifar-10-python.tar.gz\n"
          ],
          "name": "stdout"
        },
        {
          "output_type": "display_data",
          "data": {
            "application/vnd.jupyter.widget-view+json": {
              "model_id": "d2462ef9b45a43b6b860579bc34f50d1",
              "version_minor": 0,
              "version_major": 2
            },
            "text/plain": [
              "HBox(children=(FloatProgress(value=1.0, bar_style='info', max=1.0), HTML(value='')))"
            ]
          },
          "metadata": {
            "tags": []
          }
        },
        {
          "output_type": "stream",
          "text": [
            "Extracting ../Data/cifar-10-python.tar.gz to ../Data\n",
            "Files already downloaded and verified\n"
          ],
          "name": "stdout"
        }
      ]
    },
    {
      "cell_type": "code",
      "metadata": {
        "colab": {
          "base_uri": "https://localhost:8080/"
        },
        "id": "dOEK2PPFwYwq",
        "outputId": "cfb2b702-0afa-4cb8-b724-79ef56117e66"
      },
      "source": [
        "train_data"
      ],
      "execution_count": 3,
      "outputs": [
        {
          "output_type": "execute_result",
          "data": {
            "text/plain": [
              "Dataset CIFAR10\n",
              "    Number of datapoints: 50000\n",
              "    Root location: ../Data\n",
              "    Split: Train\n",
              "    StandardTransform\n",
              "Transform: ToTensor()"
            ]
          },
          "metadata": {
            "tags": []
          },
          "execution_count": 3
        }
      ]
    },
    {
      "cell_type": "code",
      "metadata": {
        "colab": {
          "base_uri": "https://localhost:8080/"
        },
        "id": "6FkajlGGwYwq",
        "outputId": "bbd85f17-6962-496c-8b45-f0f264293516"
      },
      "source": [
        "test_data"
      ],
      "execution_count": 4,
      "outputs": [
        {
          "output_type": "execute_result",
          "data": {
            "text/plain": [
              "Dataset CIFAR10\n",
              "    Number of datapoints: 10000\n",
              "    Root location: ../Data\n",
              "    Split: Test\n",
              "    StandardTransform\n",
              "Transform: ToTensor()"
            ]
          },
          "metadata": {
            "tags": []
          },
          "execution_count": 4
        }
      ]
    },
    {
      "cell_type": "code",
      "metadata": {
        "id": "yGSpc0SpwYwq"
      },
      "source": [
        "# torch.manual_seed(101)\n",
        "train_loader = DataLoader(train_data, batch_size=10, shuffle=True)\n",
        "test_loader = DataLoader(test_data, batch_size=10, shuffle=False)"
      ],
      "execution_count": 21,
      "outputs": []
    },
    {
      "cell_type": "code",
      "metadata": {
        "id": "3eICVfV4wYwr"
      },
      "source": [
        "for images,labels in train_loader:\n",
        "    break"
      ],
      "execution_count": 6,
      "outputs": []
    },
    {
      "cell_type": "code",
      "metadata": {
        "id": "0VaXoLRkwYwr"
      },
      "source": [
        "class_names = ['plane', '  car', ' bird', '  cat', ' deer', '  dog', ' frog', 'horse', ' ship', 'truck']"
      ],
      "execution_count": 7,
      "outputs": []
    },
    {
      "cell_type": "code",
      "metadata": {
        "colab": {
          "base_uri": "https://localhost:8080/",
          "height": 768
        },
        "id": "dtRcxdaUwYwr",
        "outputId": "69b65b48-84f8-45fb-e295-132a02e4b7db"
      },
      "source": [
        "for images,labels in train_loader: \n",
        "    break\n",
        "\n",
        "# Print the labels\n",
        "print('Label:', labels.numpy())\n",
        "print('Class:', *np.array([class_names[i] for i in labels]))\n",
        "\n",
        "# Print the images\n",
        "im = make_grid(images, nrow=5)  \n",
        "plt.figure(figsize=(10,10))\n",
        "plt.imshow(np.transpose(im.numpy(), (1, 2, 0)));"
      ],
      "execution_count": 8,
      "outputs": [
        {
          "output_type": "stream",
          "text": [
            "Label: [1 7 0 8 5 5 4 1 6 5 0 0 0 8 4 8 6 4 3 7 3 2 9 6 2 8 5 3 6 1 7 7 0 3 9 4 2\n",
            " 4 2 6 3 0 1 4 4 4 2 9 0 3 2 9 5 6 0 3 7 2 5 8 7 4 3 5 2 0 2 7 5 2 4 3 6 7\n",
            " 3 2 5 1 5 9 3 3 5 8 0 2 2 8 6 4 2 4 5 4 6 3 2 9 5 0 1 4 1 2 9 9 9 7 4 8 8\n",
            " 0 2 6 0 8 0 4 2 0 2 4 2 5 1 7 9 2 4 8 4 0 2 9 6 2 7 4 4 9 2 1 0 5 2 7 2 6\n",
            " 1 9 3 3 5 6 8 3 7 1 8 9 1 6 2 9 1 3 6 6 1 1 4 8 6 2 6 5 4 9 7 6 7 2 8 1 1\n",
            " 5 9 3 2 9 2 4 8 9 6 1 2 7 2 1 6 0 6 5 2 6 3 2 6 0 9 0 7 1 9 7 4 2 5 4 8 6\n",
            " 6 0 2 8 4 2 2 6 7 9 6 1 3 5 0 5 2 9 7 0 7 3 5 6 8 3 9 5 9 6 9 9 9 0]\n",
            "Class:   car horse plane  ship   dog   dog  deer   car  frog   dog plane plane plane  ship  deer  ship  frog  deer   cat horse   cat  bird truck  frog  bird  ship   dog   cat  frog   car horse horse plane   cat truck  deer  bird  deer  bird  frog   cat plane   car  deer  deer  deer  bird truck plane   cat  bird truck   dog  frog plane   cat horse  bird   dog  ship horse  deer   cat   dog  bird plane  bird horse   dog  bird  deer   cat  frog horse   cat  bird   dog   car   dog truck   cat   cat   dog  ship plane  bird  bird  ship  frog  deer  bird  deer   dog  deer  frog   cat  bird truck   dog plane   car  deer   car  bird truck truck truck horse  deer  ship  ship plane  bird  frog plane  ship plane  deer  bird plane  bird  deer  bird   dog   car horse truck  bird  deer  ship  deer plane  bird truck  frog  bird horse  deer  deer truck  bird   car plane   dog  bird horse  bird  frog   car truck   cat   cat   dog  frog  ship   cat horse   car  ship truck   car  frog  bird truck   car   cat  frog  frog   car   car  deer  ship  frog  bird  frog   dog  deer truck horse  frog horse  bird  ship   car   car   dog truck   cat  bird truck  bird  deer  ship truck  frog   car  bird horse  bird   car  frog plane  frog   dog  bird  frog   cat  bird  frog plane truck plane horse   car truck horse  deer  bird   dog  deer  ship  frog  frog plane  bird  ship  deer  bird  bird  frog horse truck  frog   car   cat   dog plane   dog  bird truck horse plane horse   cat   dog  frog  ship   cat truck   dog truck  frog truck truck truck plane\n"
          ],
          "name": "stdout"
        },
        {
          "output_type": "display_data",
          "data": {
            "image/png": "[encoded data removed]",
            "text/plain": [
              "<Figure size 720x720 with 1 Axes>"
            ]
          },
          "metadata": {
            "tags": [],
            "needs_background": "light"
          }
        },
        {
          "output_type": "stream",
          "text": [
            "\n"
          ],
          "name": "stdout"
        }
      ]
    },
    {
      "cell_type": "code",
      "metadata": {
        "id": "XXQRus_OwYws"
      },
      "source": [
        "class convnet(nn.Module):\n",
        "    \n",
        "    def __init__(self):\n",
        "        super().__init__()\n",
        "        # input dims - (b,32,32,3)\n",
        "        self.conv3_32 = nn.Conv2d(3, 32, 3, 1) # channels_in =3, # filters = 32 (3,3) stride =1\n",
        "        self.conv32_32 = nn.Conv2d(32,32, 3, 1) # channels_in =16, # filters = 32 (3,3) stride =1\n",
        "        self.pool = nn.MaxPool2d(kernel_size=(2,2), stride=(2,2))\n",
        "        self.drop_4 = nn.Dropout2d(p=0.4)\n",
        "        self.conv32_64 = nn.Conv2d(32,64,3,1)\n",
        "        self.conv64_64 = nn.Conv2d(64,64,3,1)\n",
        "        self.fc1 = nn.Linear(5*5*64,512)\n",
        "        self.drop_5 = nn.Dropout2d(p=0.5)\n",
        "        self.fc2 = nn.Linear(512,10)\n",
        "        \n",
        "    \n",
        "    def forward(self,X):\n",
        "        \n",
        "        X = F.relu(self.conv3_32(X)) # dims 32,32,3 c-> 30,30,32 \n",
        "        X = F.relu(self.conv32_32(X)) # 30,30,32 c-> 28,28,32\n",
        "        X = self.pool(X) # 15,15,32 \n",
        "        X = self.drop_4(X)\n",
        "        \n",
        "        X = F.relu(self.conv32_64(X)) # 13,13,64\n",
        "        X = F.relu(self.conv64_64(X)) # 11,11,64\n",
        "        X = self.pool(X) # 5,5,64\n",
        "        X = self.drop_4(X)\n",
        "        \n",
        "        X = X.view(-1,5*5*64)\n",
        "\n",
        "        X = F.relu(self.fc1(X))\n",
        "        X = self.drop_5(X)\n",
        "        X = F.relu(self.fc2(X))\n",
        "        \n",
        "        return F.log_softmax(X, dim=1)\n",
        "\n",
        "        \n",
        "        \n",
        "        \n",
        "        \n",
        "        \n",
        "        \n",
        "\n",
        "        "
      ],
      "execution_count": 9,
      "outputs": []
    },
    {
      "cell_type": "code",
      "metadata": {
        "id": "1fJxWiyizqeK"
      },
      "source": [
        "class ConvolutionalNetwork(nn.Module):\n",
        "    def __init__(self):\n",
        "        super().__init__()\n",
        "        self.conv1 = nn.Conv2d(3, 6, 3, 1)  # changed from (1, 6, 5, 1)\n",
        "        self.conv2 = nn.Conv2d(6, 16, 3, 1)\n",
        "        self.fc1 = nn.Linear(6*6*16, 120)   # changed from (4*4*16) to fit 32x32 images with 3x3 filters\n",
        "        self.fc2 = nn.Linear(120,84)\n",
        "        self.fc3 = nn.Linear(84, 10)\n",
        "\n",
        "    def forward(self, X):\n",
        "        X = F.relu(self.conv1(X))\n",
        "        X = F.max_pool2d(X, 2, 2)\n",
        "        X = F.relu(self.conv2(X))\n",
        "        X = F.max_pool2d(X, 2, 2)\n",
        "        X = X.view(-1, 6*6*16)\n",
        "        X = F.relu(self.fc1(X))\n",
        "        X = F.relu(self.fc2(X))\n",
        "        X = self.fc3(X)\n",
        "        return F.log_softmax(X, dim=1)"
      ],
      "execution_count": 15,
      "outputs": []
    },
    {
      "cell_type": "code",
      "metadata": {
        "colab": {
          "base_uri": "https://localhost:8080/"
        },
        "id": "xUMDT_73wYws",
        "outputId": "54930562-2ece-40da-e896-70331aac893f"
      },
      "source": [
        "model = ConvolutionalNetwork()\n",
        "model"
      ],
      "execution_count": 16,
      "outputs": [
        {
          "output_type": "execute_result",
          "data": {
            "text/plain": [
              "ConvolutionalNetwork(\n",
              "  (conv1): Conv2d(3, 6, kernel_size=(3, 3), stride=(1, 1))\n",
              "  (conv2): Conv2d(6, 16, kernel_size=(3, 3), stride=(1, 1))\n",
              "  (fc1): Linear(in_features=576, out_features=120, bias=True)\n",
              "  (fc2): Linear(in_features=120, out_features=84, bias=True)\n",
              "  (fc3): Linear(in_features=84, out_features=10, bias=True)\n",
              ")"
            ]
          },
          "metadata": {
            "tags": []
          },
          "execution_count": 16
        }
      ]
    },
    {
      "cell_type": "code",
      "metadata": {
        "id": "vWUQOYZ9wYwt"
      },
      "source": [
        "def count_parameters(model):\n",
        "    params = [p.numel() for p in model.parameters() if p.requires_grad]\n",
        "    for item in params:\n",
        "        print(f'{item:>6}')\n",
        "    print(f'______\\n{sum(params):>6}')"
      ],
      "execution_count": 17,
      "outputs": []
    },
    {
      "cell_type": "code",
      "metadata": {
        "colab": {
          "base_uri": "https://localhost:8080/"
        },
        "id": "Vie5JwylwYwt",
        "outputId": "f7964063-2725-45a2-d820-1d010b538a92"
      },
      "source": [
        "count_parameters(model)"
      ],
      "execution_count": 18,
      "outputs": [
        {
          "output_type": "stream",
          "text": [
            "   162\n",
            "     6\n",
            "   864\n",
            "    16\n",
            " 69120\n",
            "   120\n",
            " 10080\n",
            "    84\n",
            "   840\n",
            "    10\n",
            "______\n",
            " 81302\n"
          ],
          "name": "stdout"
        }
      ]
    },
    {
      "cell_type": "code",
      "metadata": {
        "id": "DGb4khO7wYwt"
      },
      "source": [
        "criterion = nn.CrossEntropyLoss()\n",
        "optimizer = torch.optim.Adam(model.parameters(), lr=0.001)"
      ],
      "execution_count": 19,
      "outputs": []
    },
    {
      "cell_type": "code",
      "metadata": {
        "id": "qf4dr8cxwYwt",
        "colab": {
          "base_uri": "https://localhost:8080/"
        },
        "outputId": "c2f72498-f420-48db-ab14-9db32aa10f4e"
      },
      "source": [
        "import time\n",
        "start_time = time.time()\n",
        "\n",
        "epochs = 10\n",
        "train_losses = []\n",
        "test_losses = []\n",
        "train_correct = []\n",
        "test_correct = []\n",
        "\n",
        "for i in range(epochs):\n",
        "    trn_corr = 0\n",
        "    tst_corr = 0\n",
        "    \n",
        "    # Run the training batches\n",
        "    for b, (X_train, y_train) in enumerate(train_loader):\n",
        "        b+=1\n",
        "        \n",
        "        # Apply the model\n",
        "        y_pred = model(X_train)\n",
        "        loss = criterion(y_pred, y_train)\n",
        " \n",
        "        # Tally the number of correct predictions\n",
        "        predicted = torch.max(y_pred.data, 1)[1]\n",
        "        batch_corr = (predicted == y_train).sum()\n",
        "        trn_corr += batch_corr\n",
        "        \n",
        "        # Update parameters\n",
        "        optimizer.zero_grad()\n",
        "        loss.backward()\n",
        "        optimizer.step()\n",
        "        \n",
        "        # Print interim results\n",
        "        if b%1000 == 0:\n",
        "            print(f'epoch: {i:2}  batch: {b:4} [{10*b:6}/50000]  loss: {loss.item():10.8f}  \\\n",
        "accuracy: {trn_corr.item()*100/(10*b):7.3f}%')\n",
        "        \n",
        "    train_losses.append(loss)\n",
        "    train_correct.append(trn_corr)\n",
        "        \n",
        "    # Run the testing batches\n",
        "    with torch.no_grad():\n",
        "        for b, (X_test, y_test) in enumerate(test_loader):\n",
        "\n",
        "            # Apply the model\n",
        "            y_val = model(X_test)\n",
        "\n",
        "            # Tally the number of correct predictions\n",
        "            predicted = torch.max(y_val.data, 1)[1] \n",
        "            tst_corr += (predicted == y_test).sum()\n",
        "            \n",
        "    loss = criterion(y_val, y_test)\n",
        "    test_losses.append(loss)\n",
        "    test_correct.append(tst_corr)\n",
        "        \n",
        "print(f'\\nDuration: {time.time() - start_time:.0f} seconds') # print the time elapsed  "
      ],
      "execution_count": 22,
      "outputs": [
        {
          "output_type": "stream",
          "text": [
            "epoch:  0  batch: 1000 [ 10000/50000]  loss: 1.89164162  accuracy:  19.990%\n",
            "epoch:  0  batch: 2000 [ 20000/50000]  loss: 1.96288300  accuracy:  24.840%\n",
            "epoch:  0  batch: 3000 [ 30000/50000]  loss: 1.70142329  accuracy:  28.890%\n",
            "epoch:  0  batch: 4000 [ 40000/50000]  loss: 1.66476595  accuracy:  31.883%\n",
            "epoch:  0  batch: 5000 [ 50000/50000]  loss: 1.86574590  accuracy:  34.372%\n",
            "epoch:  1  batch: 1000 [ 10000/50000]  loss: 1.21670413  accuracy:  46.000%\n",
            "epoch:  1  batch: 2000 [ 20000/50000]  loss: 1.05400300  accuracy:  47.020%\n",
            "epoch:  1  batch: 3000 [ 30000/50000]  loss: 1.29527164  accuracy:  47.450%\n",
            "epoch:  1  batch: 4000 [ 40000/50000]  loss: 1.35281777  accuracy:  47.737%\n",
            "epoch:  1  batch: 5000 [ 50000/50000]  loss: 1.83255422  accuracy:  48.104%\n",
            "epoch:  2  batch: 1000 [ 10000/50000]  loss: 1.22697711  accuracy:  50.970%\n",
            "epoch:  2  batch: 2000 [ 20000/50000]  loss: 1.57502091  accuracy:  51.580%\n",
            "epoch:  2  batch: 3000 [ 30000/50000]  loss: 1.19532812  accuracy:  51.977%\n",
            "epoch:  2  batch: 4000 [ 40000/50000]  loss: 1.14105761  accuracy:  52.523%\n",
            "epoch:  2  batch: 5000 [ 50000/50000]  loss: 1.36394191  accuracy:  52.664%\n",
            "epoch:  3  batch: 1000 [ 10000/50000]  loss: 0.92818469  accuracy:  55.530%\n",
            "epoch:  3  batch: 2000 [ 20000/50000]  loss: 0.80076277  accuracy:  55.465%\n",
            "epoch:  3  batch: 3000 [ 30000/50000]  loss: 1.36580706  accuracy:  55.547%\n",
            "epoch:  3  batch: 4000 [ 40000/50000]  loss: 0.82417744  accuracy:  55.650%\n",
            "epoch:  3  batch: 5000 [ 50000/50000]  loss: 1.17501962  accuracy:  55.690%\n",
            "epoch:  4  batch: 1000 [ 10000/50000]  loss: 1.39251065  accuracy:  56.910%\n",
            "epoch:  4  batch: 2000 [ 20000/50000]  loss: 0.99688131  accuracy:  57.210%\n",
            "epoch:  4  batch: 3000 [ 30000/50000]  loss: 0.82587993  accuracy:  57.333%\n",
            "epoch:  4  batch: 4000 [ 40000/50000]  loss: 0.80687761  accuracy:  57.422%\n",
            "epoch:  4  batch: 5000 [ 50000/50000]  loss: 2.18534207  accuracy:  57.462%\n",
            "epoch:  5  batch: 1000 [ 10000/50000]  loss: 1.31028116  accuracy:  58.830%\n",
            "epoch:  5  batch: 2000 [ 20000/50000]  loss: 0.82267439  accuracy:  58.645%\n",
            "epoch:  5  batch: 3000 [ 30000/50000]  loss: 1.49071050  accuracy:  58.710%\n",
            "epoch:  5  batch: 4000 [ 40000/50000]  loss: 1.14826274  accuracy:  58.830%\n",
            "epoch:  5  batch: 5000 [ 50000/50000]  loss: 1.47134364  accuracy:  58.848%\n",
            "epoch:  6  batch: 1000 [ 10000/50000]  loss: 0.90562975  accuracy:  60.830%\n",
            "epoch:  6  batch: 2000 [ 20000/50000]  loss: 0.92834234  accuracy:  60.510%\n",
            "epoch:  6  batch: 3000 [ 30000/50000]  loss: 1.49637830  accuracy:  60.237%\n",
            "epoch:  6  batch: 4000 [ 40000/50000]  loss: 0.56900907  accuracy:  60.138%\n",
            "epoch:  6  batch: 5000 [ 50000/50000]  loss: 1.62848318  accuracy:  60.076%\n",
            "epoch:  7  batch: 1000 [ 10000/50000]  loss: 1.13429558  accuracy:  61.500%\n",
            "epoch:  7  batch: 2000 [ 20000/50000]  loss: 1.35038400  accuracy:  61.795%\n",
            "epoch:  7  batch: 3000 [ 30000/50000]  loss: 1.42212355  accuracy:  61.700%\n",
            "epoch:  7  batch: 4000 [ 40000/50000]  loss: 1.20174861  accuracy:  61.305%\n",
            "epoch:  7  batch: 5000 [ 50000/50000]  loss: 1.23338234  accuracy:  61.154%\n",
            "epoch:  8  batch: 1000 [ 10000/50000]  loss: 1.40404129  accuracy:  63.320%\n",
            "epoch:  8  batch: 2000 [ 20000/50000]  loss: 1.08743787  accuracy:  62.780%\n",
            "epoch:  8  batch: 3000 [ 30000/50000]  loss: 1.14728999  accuracy:  62.583%\n",
            "epoch:  8  batch: 4000 [ 40000/50000]  loss: 0.55971062  accuracy:  62.185%\n",
            "epoch:  8  batch: 5000 [ 50000/50000]  loss: 1.95044363  accuracy:  62.128%\n",
            "epoch:  9  batch: 1000 [ 10000/50000]  loss: 1.65478325  accuracy:  63.720%\n",
            "epoch:  9  batch: 2000 [ 20000/50000]  loss: 1.12745035  accuracy:  63.680%\n",
            "epoch:  9  batch: 3000 [ 30000/50000]  loss: 0.83709019  accuracy:  63.413%\n",
            "epoch:  9  batch: 4000 [ 40000/50000]  loss: 0.92037696  accuracy:  63.248%\n",
            "epoch:  9  batch: 5000 [ 50000/50000]  loss: 1.32076097  accuracy:  62.990%\n",
            "\n",
            "Duration: 300 seconds\n"
          ],
          "name": "stdout"
        }
      ]
    },
    {
      "cell_type": "code",
      "metadata": {
        "colab": {
          "base_uri": "https://localhost:8080/"
        },
        "id": "yTlMnqO7z7CK",
        "outputId": "da29332d-1a5e-4fff-bfbc-5abff91782ec"
      },
      "source": [
        ""
      ],
      "execution_count": 23,
      "outputs": [
        {
          "output_type": "execute_result",
          "data": {
            "text/plain": [
              "[tensor(17186),\n",
              " tensor(24052),\n",
              " tensor(26332),\n",
              " tensor(27845),\n",
              " tensor(28731),\n",
              " tensor(29424),\n",
              " tensor(30038),\n",
              " tensor(30577),\n",
              " tensor(31064),\n",
              " tensor(31495)]"
            ]
          },
          "metadata": {
            "tags": []
          },
          "execution_count": 23
        }
      ]
    },
    {
      "cell_type": "code",
      "metadata": {
        "id": "N8Bu4k9d1fwA"
      },
      "source": [
        ""
      ],
      "execution_count": null,
      "outputs": []
    }
  ]
}