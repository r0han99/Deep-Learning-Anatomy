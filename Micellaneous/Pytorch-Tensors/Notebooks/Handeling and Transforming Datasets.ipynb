{
 "cells": [
  {
   "cell_type": "markdown",
   "metadata": {},
   "source": [
    "### Handeling Simple Datasets and Transformations with Pytorch"
   ]
  },
  {
   "cell_type": "code",
   "execution_count": 72,
   "metadata": {},
   "outputs": [],
   "source": [
    "import torch \n",
    "import numpy as np\n",
    "import pandas as pd\n",
    "import datetime"
   ]
  },
  {
   "cell_type": "code",
   "execution_count": 73,
   "metadata": {},
   "outputs": [
    {
     "name": "stdout",
     "output_type": "stream",
     "text": [
      "Epoch ~ (2020-11-26 17:07:17.498258)\r\n",
      "Decomposed Date ~  November 26, 2020;\r\n"
     ]
    },
    {
     "data": {
      "text/plain": [
       "datetime.datetime(2020, 11, 26, 17, 7, 17, 604296)"
      ]
     },
     "execution_count": 73,
     "metadata": {},
     "output_type": "execute_result"
    }
   ],
   "source": [
    "# epoch \n",
    "! ../../epochgen.py ef\n",
    "datetime.datetime.now()"
   ]
  },
  {
   "cell_type": "markdown",
   "metadata": {},
   "source": [
    "### Numerical Data"
   ]
  },
  {
   "cell_type": "markdown",
   "metadata": {},
   "source": [
    "The Following Describes the Class blueprints typically used to load the datasets"
   ]
  },
  {
   "cell_type": "code",
   "execution_count": 74,
   "metadata": {},
   "outputs": [
    {
     "data": {
      "text/plain": [
       "<torch._C.Generator at 0x7ffa242ce910>"
      ]
     },
     "execution_count": 74,
     "metadata": {},
     "output_type": "execute_result"
    }
   ],
   "source": [
    "import torch\n",
    "from torch.utils.data import Dataset\n",
    "torch.manual_seed(101)"
   ]
  },
  {
   "cell_type": "code",
   "execution_count": 75,
   "metadata": {},
   "outputs": [],
   "source": [
    "class simpleset:\n",
    "    # constructor, an essestial function to construct the inital objects required\n",
    "    # transform in here is defined later, which is another class blueprint which holds \n",
    "    # all the transformative operations to be done on the tensor, ex add, mul etc\n",
    "    def __init__(self, length =100, transform=None):\n",
    "        self.len = length\n",
    "        self.x = 5 * torch.ones(length,3) + 1 \n",
    "        self.y = torch.ones(length, 1)\n",
    "        self.transform = transform \n",
    "        \n",
    "    def __getitem__(self,index):\n",
    "        sample = self.x[index], self.y[index]\n",
    "        if self.transform != None:\n",
    "            sample = self.transform(sample)\n",
    "            return sample\n",
    "        else:\n",
    "            return sample\n",
    "    def __len__(self):\n",
    "        return self.len\n",
    "        \n",
    "# __ (double underscores) infront of the function definition will make the objects tensors\n",
    "# directly accessible without explicitly defining the function name \n",
    "# ex def _getitem_ would require us to do obj._getitem_(index) to access a value \n",
    "# but with __getitem__ it would simple be obj[index]"
   ]
  },
  {
   "cell_type": "code",
   "execution_count": 76,
   "metadata": {},
   "outputs": [],
   "source": [
    "dataset0 = simpleset()"
   ]
  },
  {
   "cell_type": "code",
   "execution_count": 77,
   "metadata": {},
   "outputs": [
    {
     "data": {
      "text/plain": [
       "(tensor([6., 6., 6.]), tensor([1.]))"
      ]
     },
     "execution_count": 77,
     "metadata": {},
     "output_type": "execute_result"
    }
   ],
   "source": [
    "dataset0[1]"
   ]
  },
  {
   "cell_type": "code",
   "execution_count": 78,
   "metadata": {},
   "outputs": [
    {
     "name": "stdout",
     "output_type": "stream",
     "text": [
      "Our toy_set object:  <__main__.simpleset object at 0x7ffa29359350>\n",
      "Value on index 0 of our toy_set object:  (tensor([6., 6., 6.]), tensor([1.]))\n",
      "Our toy_set length:  100\n",
      "also other way to get len:  100\n"
     ]
    }
   ],
   "source": [
    "our_dataset = simpleset()\n",
    "print(\"Our toy_set object: \", our_dataset)\n",
    "print(\"Value on index 0 of our toy_set object: \", our_dataset[0])\n",
    "print(\"Our toy_set length: \", len(our_dataset))\n",
    "print(\"also other way to get len: \",our_dataset.len)"
   ]
  },
  {
   "cell_type": "code",
   "execution_count": 79,
   "metadata": {},
   "outputs": [
    {
     "name": "stdout",
     "output_type": "stream",
     "text": [
      "tensor([6., 6., 6.]) tensor([1.])\n",
      "tensor([6., 6., 6.]) tensor([1.])\n",
      "tensor([6., 6., 6.]) tensor([1.])\n",
      "tensor([6., 6., 6.]) tensor([1.])\n",
      "tensor([6., 6., 6.]) tensor([1.])\n",
      "tensor([6., 6., 6.]) tensor([1.])\n",
      "tensor([6., 6., 6.]) tensor([1.])\n",
      "tensor([6., 6., 6.]) tensor([1.])\n",
      "tensor([6., 6., 6.]) tensor([1.])\n",
      "tensor([6., 6., 6.]) tensor([1.])\n",
      "tensor([6., 6., 6.]) tensor([1.])\n",
      "tensor([6., 6., 6.]) tensor([1.])\n",
      "tensor([6., 6., 6.]) tensor([1.])\n",
      "tensor([6., 6., 6.]) tensor([1.])\n",
      "tensor([6., 6., 6.]) tensor([1.])\n",
      "tensor([6., 6., 6.]) tensor([1.])\n",
      "tensor([6., 6., 6.]) tensor([1.])\n",
      "tensor([6., 6., 6.]) tensor([1.])\n",
      "tensor([6., 6., 6.]) tensor([1.])\n",
      "tensor([6., 6., 6.]) tensor([1.])\n",
      "tensor([6., 6., 6.]) tensor([1.])\n",
      "tensor([6., 6., 6.]) tensor([1.])\n",
      "tensor([6., 6., 6.]) tensor([1.])\n",
      "tensor([6., 6., 6.]) tensor([1.])\n",
      "tensor([6., 6., 6.]) tensor([1.])\n",
      "tensor([6., 6., 6.]) tensor([1.])\n",
      "tensor([6., 6., 6.]) tensor([1.])\n",
      "tensor([6., 6., 6.]) tensor([1.])\n",
      "tensor([6., 6., 6.]) tensor([1.])\n",
      "tensor([6., 6., 6.]) tensor([1.])\n",
      "tensor([6., 6., 6.]) tensor([1.])\n",
      "tensor([6., 6., 6.]) tensor([1.])\n",
      "tensor([6., 6., 6.]) tensor([1.])\n",
      "tensor([6., 6., 6.]) tensor([1.])\n",
      "tensor([6., 6., 6.]) tensor([1.])\n",
      "tensor([6., 6., 6.]) tensor([1.])\n",
      "tensor([6., 6., 6.]) tensor([1.])\n",
      "tensor([6., 6., 6.]) tensor([1.])\n",
      "tensor([6., 6., 6.]) tensor([1.])\n",
      "tensor([6., 6., 6.]) tensor([1.])\n",
      "tensor([6., 6., 6.]) tensor([1.])\n",
      "tensor([6., 6., 6.]) tensor([1.])\n",
      "tensor([6., 6., 6.]) tensor([1.])\n",
      "tensor([6., 6., 6.]) tensor([1.])\n",
      "tensor([6., 6., 6.]) tensor([1.])\n",
      "tensor([6., 6., 6.]) tensor([1.])\n",
      "tensor([6., 6., 6.]) tensor([1.])\n",
      "tensor([6., 6., 6.]) tensor([1.])\n",
      "tensor([6., 6., 6.]) tensor([1.])\n",
      "tensor([6., 6., 6.]) tensor([1.])\n",
      "tensor([6., 6., 6.]) tensor([1.])\n",
      "tensor([6., 6., 6.]) tensor([1.])\n",
      "tensor([6., 6., 6.]) tensor([1.])\n",
      "tensor([6., 6., 6.]) tensor([1.])\n",
      "tensor([6., 6., 6.]) tensor([1.])\n",
      "tensor([6., 6., 6.]) tensor([1.])\n",
      "tensor([6., 6., 6.]) tensor([1.])\n",
      "tensor([6., 6., 6.]) tensor([1.])\n",
      "tensor([6., 6., 6.]) tensor([1.])\n",
      "tensor([6., 6., 6.]) tensor([1.])\n",
      "tensor([6., 6., 6.]) tensor([1.])\n",
      "tensor([6., 6., 6.]) tensor([1.])\n",
      "tensor([6., 6., 6.]) tensor([1.])\n",
      "tensor([6., 6., 6.]) tensor([1.])\n",
      "tensor([6., 6., 6.]) tensor([1.])\n",
      "tensor([6., 6., 6.]) tensor([1.])\n",
      "tensor([6., 6., 6.]) tensor([1.])\n",
      "tensor([6., 6., 6.]) tensor([1.])\n",
      "tensor([6., 6., 6.]) tensor([1.])\n",
      "tensor([6., 6., 6.]) tensor([1.])\n",
      "tensor([6., 6., 6.]) tensor([1.])\n",
      "tensor([6., 6., 6.]) tensor([1.])\n",
      "tensor([6., 6., 6.]) tensor([1.])\n",
      "tensor([6., 6., 6.]) tensor([1.])\n",
      "tensor([6., 6., 6.]) tensor([1.])\n",
      "tensor([6., 6., 6.]) tensor([1.])\n",
      "tensor([6., 6., 6.]) tensor([1.])\n",
      "tensor([6., 6., 6.]) tensor([1.])\n",
      "tensor([6., 6., 6.]) tensor([1.])\n",
      "tensor([6., 6., 6.]) tensor([1.])\n",
      "tensor([6., 6., 6.]) tensor([1.])\n",
      "tensor([6., 6., 6.]) tensor([1.])\n",
      "tensor([6., 6., 6.]) tensor([1.])\n",
      "tensor([6., 6., 6.]) tensor([1.])\n",
      "tensor([6., 6., 6.]) tensor([1.])\n",
      "tensor([6., 6., 6.]) tensor([1.])\n",
      "tensor([6., 6., 6.]) tensor([1.])\n",
      "tensor([6., 6., 6.]) tensor([1.])\n",
      "tensor([6., 6., 6.]) tensor([1.])\n",
      "tensor([6., 6., 6.]) tensor([1.])\n",
      "tensor([6., 6., 6.]) tensor([1.])\n",
      "tensor([6., 6., 6.]) tensor([1.])\n",
      "tensor([6., 6., 6.]) tensor([1.])\n",
      "tensor([6., 6., 6.]) tensor([1.])\n",
      "tensor([6., 6., 6.]) tensor([1.])\n",
      "tensor([6., 6., 6.]) tensor([1.])\n",
      "tensor([6., 6., 6.]) tensor([1.])\n",
      "tensor([6., 6., 6.]) tensor([1.])\n",
      "tensor([6., 6., 6.]) tensor([1.])\n",
      "tensor([6., 6., 6.]) tensor([1.])\n"
     ]
    }
   ],
   "source": [
    "for x,y in our_dataset:\n",
    "    print(x,y)"
   ]
  },
  {
   "cell_type": "markdown",
   "metadata": {},
   "source": [
    "### Transform Class blueprint"
   ]
  },
  {
   "cell_type": "code",
   "execution_count": 80,
   "metadata": {},
   "outputs": [],
   "source": [
    "class add_mult:\n",
    "    def __init__(self, addx = 5, mult = 2):\n",
    "        self.addx = addx\n",
    "        self.mult = mult \n",
    "    \n",
    "    # executor \n",
    "    def __call__(self,sample):\n",
    "        x,y = sample\n",
    "        x += self.addx\n",
    "        y *= self.mult\n",
    "        sample = x,y\n",
    "        return sample\n",
    "        "
   ]
  },
  {
   "cell_type": "code",
   "execution_count": 81,
   "metadata": {},
   "outputs": [],
   "source": [
    "x,y = our_dataset[0]"
   ]
  },
  {
   "cell_type": "code",
   "execution_count": 82,
   "metadata": {},
   "outputs": [
    {
     "data": {
      "text/plain": [
       "(tensor([6., 6., 6.]), tensor([1.]))"
      ]
     },
     "execution_count": 82,
     "metadata": {},
     "output_type": "execute_result"
    }
   ],
   "source": [
    "x,y"
   ]
  },
  {
   "cell_type": "code",
   "execution_count": 83,
   "metadata": {},
   "outputs": [],
   "source": [
    "transformobj = add_mult()"
   ]
  },
  {
   "cell_type": "code",
   "execution_count": 84,
   "metadata": {},
   "outputs": [
    {
     "name": "stdout",
     "output_type": "stream",
     "text": [
      "original data :  tensor([6., 6., 6.]) tensor([1.])\n"
     ]
    }
   ],
   "source": [
    "print('original data : ',x,y)"
   ]
  },
  {
   "cell_type": "code",
   "execution_count": 85,
   "metadata": {},
   "outputs": [],
   "source": [
    "x_,y_ = transformobj(our_dataset[0])"
   ]
  },
  {
   "cell_type": "code",
   "execution_count": 86,
   "metadata": {},
   "outputs": [
    {
     "name": "stdout",
     "output_type": "stream",
     "text": [
      "transformed data: tensor([11., 11., 11.]) tensor([2.])\n"
     ]
    }
   ],
   "source": [
    "print('transformed data:',x_,y_)"
   ]
  },
  {
   "cell_type": "markdown",
   "metadata": {},
   "source": [
    "Now, we can use this transform blueprint in the initial simpleset class blueprint"
   ]
  },
  {
   "cell_type": "code",
   "execution_count": 87,
   "metadata": {},
   "outputs": [],
   "source": [
    "newset = simpleset(transform= transformobj)"
   ]
  },
  {
   "cell_type": "code",
   "execution_count": 88,
   "metadata": {},
   "outputs": [
    {
     "data": {
      "text/plain": [
       "<__main__.simpleset at 0x7ffa2902f810>"
      ]
     },
     "execution_count": 88,
     "metadata": {},
     "output_type": "execute_result"
    }
   ],
   "source": [
    "newset"
   ]
  },
  {
   "cell_type": "code",
   "execution_count": 89,
   "metadata": {},
   "outputs": [
    {
     "data": {
      "text/plain": [
       "(tensor([11., 11., 11.]), tensor([2.]))"
      ]
     },
     "execution_count": 89,
     "metadata": {},
     "output_type": "execute_result"
    }
   ],
   "source": [
    "newset[1] # transformed "
   ]
  },
  {
   "cell_type": "markdown",
   "metadata": {},
   "source": [
    "### Torchvision's Compose"
   ]
  },
  {
   "cell_type": "code",
   "execution_count": 90,
   "metadata": {},
   "outputs": [],
   "source": [
    "from torchvision import transforms"
   ]
  },
  {
   "cell_type": "code",
   "execution_count": 91,
   "metadata": {},
   "outputs": [],
   "source": [
    "# consider a new transform mult, which multiplies 100 to x and y vectors ( tensors )\n",
    "class mult:\n",
    "    \n",
    "    def __init__(self, mult=100):\n",
    "        self.mult = mult\n",
    "    \n",
    "    # executor\n",
    "    def __call__(self, sample):\n",
    "        x,y = sample\n",
    "        x *= self.mult\n",
    "        y *= self.mult\n",
    "        sample = x,y\n",
    "        return sample "
   ]
  },
  {
   "cell_type": "markdown",
   "metadata": {},
   "source": [
    "Now what if we want the data to be transformed by the first transform first i.e ( add_mult ) and then pass through the second tranform, something like this \n",
    "<img src=\"https://s3-api.us-geo.objectstorage.softlayer.net/cf-courses-data/CognitiveClass/DL0110EN/notebook_images%20/chapter%201/1.3.1_trasform.png\" width=\"500\" alt=\"Compose PyTorch\">\n"
   ]
  },
  {
   "cell_type": "code",
   "execution_count": 92,
   "metadata": {},
   "outputs": [
    {
     "name": "stdout",
     "output_type": "stream",
     "text": [
      "The combination of transforms (Compose):  Compose(\n",
      "    <__main__.add_mult object at 0x7ffa29404250>\n",
      "    <__main__.mult object at 0x7ffa29404650>\n",
      ")\n"
     ]
    }
   ],
   "source": [
    "compose_obj = transforms.Compose([add_mult(),mult()])\n",
    "print(\"The combination of transforms (Compose): \", compose_obj)"
   ]
  },
  {
   "cell_type": "code",
   "execution_count": 93,
   "metadata": {},
   "outputs": [],
   "source": [
    "newsample = simpleset()"
   ]
  },
  {
   "cell_type": "code",
   "execution_count": 94,
   "metadata": {},
   "outputs": [
    {
     "data": {
      "text/plain": [
       "(tensor([6., 6., 6.]), tensor([1.]))"
      ]
     },
     "execution_count": 94,
     "metadata": {},
     "output_type": "execute_result"
    }
   ],
   "source": [
    "newsample[0]"
   ]
  },
  {
   "cell_type": "code",
   "execution_count": 95,
   "metadata": {},
   "outputs": [],
   "source": [
    "# transforming through the compose object \n",
    "compose_trans_sample = compose_obj(newsample[0])"
   ]
  },
  {
   "cell_type": "code",
   "execution_count": 96,
   "metadata": {},
   "outputs": [
    {
     "data": {
      "text/plain": [
       "(tensor([1100., 1100., 1100.]), tensor([200.]))"
      ]
     },
     "execution_count": 96,
     "metadata": {},
     "output_type": "execute_result"
    }
   ],
   "source": [
    "compose_trans_sample"
   ]
  },
  {
   "cell_type": "markdown",
   "metadata": {},
   "source": [
    "### Image Data"
   ]
  },
  {
   "cell_type": "code",
   "execution_count": 97,
   "metadata": {},
   "outputs": [
    {
     "data": {
      "text/plain": [
       "'\\n! wget https://s3-api.us-geo.objectstorage.softlayer.net/cf-courses-data/CognitiveClass/DL0110EN/datasets/img.tar.gz \\n!tar -xf ./img.tar.gz \\n!wget https://s3-api.us-geo.objectstorage.softlayer.net/cf-courses-data/CognitiveClass/DL0110EN/datasets/index.csv \\n'"
      ]
     },
     "execution_count": 97,
     "metadata": {},
     "output_type": "execute_result"
    }
   ],
   "source": [
    "'''\n",
    "! wget https://s3-api.us-geo.objectstorage.softlayer.net/cf-courses-data/CognitiveClass/DL0110EN/datasets/img.tar.gz \n",
    "!tar -xf ./img.tar.gz \n",
    "!wget https://s3-api.us-geo.objectstorage.softlayer.net/cf-courses-data/CognitiveClass/DL0110EN/datasets/index.csv \n",
    "'''"
   ]
  },
  {
   "cell_type": "code",
   "execution_count": 100,
   "metadata": {},
   "outputs": [],
   "source": [
    "from torch.utils.data import Dataset, DataLoader\n",
    "import matplotlib.pyplot as plt \n",
    "from PIL import Image\n",
    "import pandas as pd\n",
    "import os\n",
    "import warnings\n",
    "warnings.filterwarnings(\"ignore\", category=DeprecationWarning)"
   ]
  },
  {
   "cell_type": "code",
   "execution_count": 103,
   "metadata": {},
   "outputs": [],
   "source": [
    "def plotimg(datasample, shape =(26,26)):\n",
    "    plt.imshow(datasample[0].numpy().reshape(shape),cmap='gray')\n",
    "    plt.title('y = ' + data_sample[1])\n",
    "    plt.show()"
   ]
  },
  {
   "cell_type": "code",
   "execution_count": 113,
   "metadata": {},
   "outputs": [],
   "source": [
    "directory=\"./IBMpynbs/\"\n",
    "csv_file ='index.csv'\n",
    "csv_path=os.path.join(directory,csv_file)"
   ]
  },
  {
   "cell_type": "code",
   "execution_count": 114,
   "metadata": {},
   "outputs": [
    {
     "data": {
      "text/plain": [
       "'./IBMpynbs/index.csv'"
      ]
     },
     "execution_count": 114,
     "metadata": {},
     "output_type": "execute_result"
    }
   ],
   "source": [
    "csv_path"
   ]
  },
  {
   "cell_type": "code",
   "execution_count": 115,
   "metadata": {},
   "outputs": [
    {
     "data": {
      "text/html": [
       "<div>\n",
       "<style scoped>\n",
       "    .dataframe tbody tr th:only-of-type {\n",
       "        vertical-align: middle;\n",
       "    }\n",
       "\n",
       "    .dataframe tbody tr th {\n",
       "        vertical-align: top;\n",
       "    }\n",
       "\n",
       "    .dataframe thead th {\n",
       "        text-align: right;\n",
       "    }\n",
       "</style>\n",
       "<table border=\"1\" class=\"dataframe\">\n",
       "  <thead>\n",
       "    <tr style=\"text-align: right;\">\n",
       "      <th></th>\n",
       "      <th>category</th>\n",
       "      <th>image</th>\n",
       "    </tr>\n",
       "  </thead>\n",
       "  <tbody>\n",
       "    <tr>\n",
       "      <th>0</th>\n",
       "      <td>Ankle boot</td>\n",
       "      <td>img/fashion0.png</td>\n",
       "    </tr>\n",
       "    <tr>\n",
       "      <th>1</th>\n",
       "      <td>T-shirt</td>\n",
       "      <td>img/fashion1.png</td>\n",
       "    </tr>\n",
       "    <tr>\n",
       "      <th>2</th>\n",
       "      <td>T-shirt</td>\n",
       "      <td>img/fashion2.png</td>\n",
       "    </tr>\n",
       "    <tr>\n",
       "      <th>3</th>\n",
       "      <td>Dress</td>\n",
       "      <td>img/fashion3.png</td>\n",
       "    </tr>\n",
       "    <tr>\n",
       "      <th>4</th>\n",
       "      <td>T-shirt</td>\n",
       "      <td>img/fashion4.png</td>\n",
       "    </tr>\n",
       "  </tbody>\n",
       "</table>\n",
       "</div>"
      ],
      "text/plain": [
       "     category             image\n",
       "0  Ankle boot  img/fashion0.png\n",
       "1     T-shirt  img/fashion1.png\n",
       "2     T-shirt  img/fashion2.png\n",
       "3       Dress  img/fashion3.png\n",
       "4     T-shirt  img/fashion4.png"
      ]
     },
     "execution_count": 115,
     "metadata": {},
     "output_type": "execute_result"
    }
   ],
   "source": [
    "data_name = pd.read_csv(csv_path)\n",
    "data_name.head()"
   ]
  },
  {
   "cell_type": "markdown",
   "metadata": {},
   "source": [
    "The first column of the dataframe corresponds to the type of clothing. The second column is the name of the image file corresponding to the clothing. You can obtain the path of the first file by using the method  <code> <i>DATAFRAME</i>.iloc[0, 1]</code>. The first argument corresponds to the sample number, and the second input corresponds to the column index. \n"
   ]
  },
  {
   "cell_type": "code",
   "execution_count": 116,
   "metadata": {},
   "outputs": [
    {
     "name": "stdout",
     "output_type": "stream",
     "text": [
      "File name: img/fashion0.png\n"
     ]
    }
   ],
   "source": [
    "print('File name:', data_name.iloc[0, 1])"
   ]
  },
  {
   "cell_type": "code",
   "execution_count": 117,
   "metadata": {},
   "outputs": [
    {
     "name": "stdout",
     "output_type": "stream",
     "text": [
      "File name: img/fashion1.png\n",
      "class or y: T-shirt\n"
     ]
    }
   ],
   "source": [
    "print('File name:', data_name.iloc[1, 1])\n",
    "print('class or y:', data_name.iloc[1, 0])"
   ]
  },
  {
   "cell_type": "code",
   "execution_count": 118,
   "metadata": {},
   "outputs": [
    {
     "name": "stdout",
     "output_type": "stream",
     "text": [
      "The number of rows:  60000\n"
     ]
    }
   ],
   "source": [
    "print('The number of rows: ', data_name.shape[0])"
   ]
  },
  {
   "cell_type": "code",
   "execution_count": 120,
   "metadata": {},
   "outputs": [
    {
     "data": {
      "text/plain": [
       "(60000, 2)"
      ]
     },
     "execution_count": 120,
     "metadata": {},
     "output_type": "execute_result"
    }
   ],
   "source": [
    "data_name.shape"
   ]
  },
  {
   "cell_type": "code",
   "execution_count": 121,
   "metadata": {},
   "outputs": [],
   "source": [
    "# opening an Image"
   ]
  },
  {
   "cell_type": "code",
   "execution_count": 130,
   "metadata": {},
   "outputs": [
    {
     "data": {
      "text/plain": [
       "'./IBMpynbs/'"
      ]
     },
     "execution_count": 130,
     "metadata": {},
     "output_type": "execute_result"
    }
   ],
   "source": [
    "directory # where the images exist"
   ]
  },
  {
   "cell_type": "code",
   "execution_count": 131,
   "metadata": {},
   "outputs": [],
   "source": [
    "imgpath = data_name.iloc[5,1]\n",
    "imgpath = os.path.join(directory, imgpath)"
   ]
  },
  {
   "cell_type": "code",
   "execution_count": 132,
   "metadata": {},
   "outputs": [
    {
     "data": {
      "text/plain": [
       "'./IBMpynbs/img/fashion5.png'"
      ]
     },
     "execution_count": 132,
     "metadata": {},
     "output_type": "execute_result"
    }
   ],
   "source": [
    "imgpath"
   ]
  },
  {
   "cell_type": "code",
   "execution_count": 142,
   "metadata": {},
   "outputs": [
    {
     "data": {
      "text/plain": [
       "Text(0.5, 1.0, 'y = Pullover')"
      ]
     },
     "execution_count": 142,
     "metadata": {},
     "output_type": "execute_result"
    },
    {
     "data": {
      "image/png": "[encoded data removed]",
      "text/plain": [
       "<Figure size 432x288 with 1 Axes>"
      ]
     },
     "metadata": {
      "needs_background": "light"
     },
     "output_type": "display_data"
    }
   ],
   "source": [
    "img = Image.open(imgpath)\n",
    "plt.imshow(img,cmap='gray', vmin=0, vmax=255)\n",
    "plt.title('y = '+data_name.iloc[5,0])"
   ]
  },
  {
   "cell_type": "code",
   "execution_count": 148,
   "metadata": {},
   "outputs": [],
   "source": [
    "# we can do the same with a makeshift function for this to grab any index\n",
    "def show_img(index,data,directory='./'):\n",
    "    imgpath = data.iloc[index,1]\n",
    "    imgpath = os.path.join(directory,imgpath)\n",
    "    \n",
    "    img = Image.open(imgpath)\n",
    "    plt.imshow(img,vmin=0,vmax=255,cmap='gray')\n",
    "    plt.title('y = '+data.iloc[index,0])\n",
    "    plt.show()\n",
    "    \n",
    "    "
   ]
  },
  {
   "cell_type": "code",
   "execution_count": 150,
   "metadata": {},
   "outputs": [
    {
     "data": {
      "image/png": "[encoded data removed]",
      "text/plain": [
       "<Figure size 432x288 with 1 Axes>"
      ]
     },
     "metadata": {
      "needs_background": "light"
     },
     "output_type": "display_data"
    }
   ],
   "source": [
    "show_img(50,data_name,directory)"
   ]
  },
  {
   "cell_type": "markdown",
   "metadata": {},
   "source": [
    "### Class blueprint to handle Image Data"
   ]
  },
  {
   "cell_type": "code",
   "execution_count": 175,
   "metadata": {},
   "outputs": [],
   "source": [
    "class imagedataset:\n",
    "    def __init__(self,csv_file,data_dir,transform=None):\n",
    "        self.csv_file = csv_file\n",
    "        self.data_dir = data_dir\n",
    "        self.transform = transform\n",
    "        \n",
    "        datapath = os.path.join(self.data_dir,self.csv_file)\n",
    "        self.dataset = pd.read_csv(datapath)\n",
    "        \n",
    "        self.len = self.dataset.shape[0]\n",
    "        \n",
    "    def __len__(self):\n",
    "        return self.len\n",
    "        \n",
    "    def __getitem__(self,index):\n",
    "        \n",
    "        imgpath = os.path.join(self.data_dir,self.dataset.iloc[index,1])\n",
    "        image = Image.open(imgpath)\n",
    "        \n",
    "        y = self.dataset.iloc[index,0]\n",
    "        \n",
    "        if self.transform != None:\n",
    "            image = self.transform(image)\n",
    "            return image, y\n",
    "        else:\n",
    "            return image, y"
   ]
  },
  {
   "cell_type": "code",
   "execution_count": 176,
   "metadata": {},
   "outputs": [],
   "source": [
    "dataset = imagedataset(csv_file=csv_file, data_dir=directory)"
   ]
  },
  {
   "cell_type": "code",
   "execution_count": 177,
   "metadata": {},
   "outputs": [
    {
     "data": {
      "text/plain": [
       "<__main__.imagedataset at 0x7ffa2aa5f4d0>"
      ]
     },
     "execution_count": 177,
     "metadata": {},
     "output_type": "execute_result"
    }
   ],
   "source": [
    "dataset"
   ]
  },
  {
   "cell_type": "code",
   "execution_count": 185,
   "metadata": {},
   "outputs": [
    {
     "data": {
      "image/png": "[encoded data removed]",
      "text/plain": [
       "<Figure size 432x288 with 1 Axes>"
      ]
     },
     "metadata": {
      "needs_background": "light"
     },
     "output_type": "display_data"
    }
   ],
   "source": [
    "image=dataset[0][0]\n",
    "y=dataset[0][1]\n",
    "\n",
    "plt.imshow(image,cmap='gray', vmin=0, vmax=255)\n",
    "plt.title(y)\n",
    "plt.show()"
   ]
  },
  {
   "cell_type": "markdown",
   "metadata": {},
   "source": [
    "### TorchVision Transforms"
   ]
  },
  {
   "cell_type": "code",
   "execution_count": 186,
   "metadata": {},
   "outputs": [],
   "source": [
    "# transformations in the Images are ususally done to create data augmentation"
   ]
  },
  {
   "cell_type": "code",
   "execution_count": 194,
   "metadata": {},
   "outputs": [],
   "source": [
    "from torchvision import transforms"
   ]
  },
  {
   "cell_type": "code",
   "execution_count": 195,
   "metadata": {},
   "outputs": [],
   "source": [
    "centercropobj = transforms.Compose([transforms.CenterCrop(20),transforms.ToTensor()])\n",
    "newtransforms = imagedataset(csv_file,directory,transform=centercropobj)"
   ]
  },
  {
   "cell_type": "code",
   "execution_count": 196,
   "metadata": {},
   "outputs": [
    {
     "data": {
      "text/plain": [
       "tensor([[[0.0000, 0.0000, 0.0000, 0.0000, 0.0000, 0.0000, 0.0000, 0.0000,\n",
       "          0.0118, 0.0000, 0.1412, 0.5333, 0.4980, 0.2431, 0.2118, 0.0000,\n",
       "          0.0000, 0.0000, 0.0039, 0.0118],\n",
       "         [0.0000, 0.0000, 0.0000, 0.0000, 0.0000, 0.0000, 0.0000, 0.0000,\n",
       "          0.0235, 0.0000, 0.4000, 0.8000, 0.6902, 0.5255, 0.5647, 0.4824,\n",
       "          0.0902, 0.0000, 0.0000, 0.0000],\n",
       "         [0.0000, 0.0000, 0.0000, 0.0000, 0.0000, 0.0000, 0.0000, 0.0000,\n",
       "          0.0000, 0.0000, 0.6078, 0.9255, 0.8118, 0.6980, 0.4196, 0.6118,\n",
       "          0.6314, 0.4275, 0.2510, 0.0902],\n",
       "         [0.0000, 0.0000, 0.0000, 0.0000, 0.0000, 0.0000, 0.0000, 0.0039,\n",
       "          0.0000, 0.2706, 0.8118, 0.8745, 0.8549, 0.8471, 0.8471, 0.6392,\n",
       "          0.4980, 0.4745, 0.4784, 0.5725],\n",
       "         [0.0000, 0.0000, 0.0000, 0.0000, 0.0000, 0.0039, 0.0039, 0.0039,\n",
       "          0.0000, 0.7843, 0.9098, 0.9098, 0.9137, 0.8980, 0.8745, 0.8745,\n",
       "          0.8431, 0.8353, 0.6431, 0.4980],\n",
       "         [0.0000, 0.0000, 0.0000, 0.0000, 0.0000, 0.0000, 0.0000, 0.0000,\n",
       "          0.0000, 0.7176, 0.8824, 0.8471, 0.8745, 0.8941, 0.9216, 0.8902,\n",
       "          0.8784, 0.8706, 0.8784, 0.8667],\n",
       "         [0.0000, 0.0000, 0.0000, 0.0000, 0.0000, 0.0000, 0.0000, 0.0000,\n",
       "          0.0000, 0.7569, 0.8941, 0.8549, 0.8353, 0.7765, 0.7059, 0.8314,\n",
       "          0.8235, 0.8275, 0.8353, 0.8745],\n",
       "         [0.0000, 0.0000, 0.0000, 0.0000, 0.0000, 0.0039, 0.0118, 0.0000,\n",
       "          0.0471, 0.8588, 0.8627, 0.8314, 0.8549, 0.7529, 0.6627, 0.8902,\n",
       "          0.8157, 0.8549, 0.8784, 0.8314],\n",
       "         [0.0000, 0.0000, 0.0000, 0.0000, 0.0000, 0.0000, 0.0235, 0.0000,\n",
       "          0.3882, 0.9569, 0.8706, 0.8627, 0.8549, 0.7961, 0.7765, 0.8667,\n",
       "          0.8431, 0.8353, 0.8706, 0.8627],\n",
       "         [0.0000, 0.0000, 0.0000, 0.0000, 0.0000, 0.0157, 0.0000, 0.0000,\n",
       "          0.2157, 0.9255, 0.8941, 0.9020, 0.8941, 0.9412, 0.9098, 0.8353,\n",
       "          0.8549, 0.8745, 0.9176, 0.8510],\n",
       "         [0.0235, 0.0275, 0.0078, 0.0000, 0.0000, 0.0000, 0.0000, 0.0000,\n",
       "          0.9294, 0.8863, 0.8510, 0.8745, 0.8706, 0.8588, 0.8706, 0.8667,\n",
       "          0.8471, 0.8745, 0.8980, 0.8431],\n",
       "         [0.0000, 0.0000, 0.0000, 0.0000, 0.0000, 0.2431, 0.5686, 0.8000,\n",
       "          0.8941, 0.8118, 0.8353, 0.8667, 0.8549, 0.8157, 0.8275, 0.8549,\n",
       "          0.8784, 0.8745, 0.8588, 0.8431],\n",
       "         [0.0706, 0.1725, 0.3216, 0.4196, 0.7412, 0.8941, 0.8627, 0.8706,\n",
       "          0.8510, 0.8863, 0.7843, 0.8039, 0.8275, 0.9020, 0.8784, 0.9176,\n",
       "          0.6902, 0.7373, 0.9804, 0.9725],\n",
       "         [0.8784, 0.8667, 0.8784, 0.8157, 0.8000, 0.8392, 0.8157, 0.8196,\n",
       "          0.7843, 0.6235, 0.9608, 0.7569, 0.8078, 0.8745, 1.0000, 1.0000,\n",
       "          0.8667, 0.9176, 0.8667, 0.8275],\n",
       "         [0.8667, 0.8275, 0.8275, 0.8392, 0.8039, 0.8039, 0.8039, 0.8627,\n",
       "          0.9412, 0.3137, 0.5882, 1.0000, 0.8980, 0.8667, 0.7373, 0.6039,\n",
       "          0.7490, 0.8235, 0.8000, 0.8196],\n",
       "         [0.8706, 0.8980, 0.8980, 0.9176, 0.9765, 0.8627, 0.7608, 0.8431,\n",
       "          0.8510, 0.9451, 0.2549, 0.2863, 0.4157, 0.4588, 0.6588, 0.8588,\n",
       "          0.8667, 0.8431, 0.8510, 0.8745],\n",
       "         [0.7569, 0.8039, 0.8275, 0.8824, 0.8471, 0.7255, 0.7725, 0.8078,\n",
       "          0.7765, 0.8353, 0.9412, 0.7647, 0.8902, 0.9608, 0.9373, 0.8745,\n",
       "          0.8549, 0.8314, 0.8196, 0.8706],\n",
       "         [0.8353, 0.7725, 0.7255, 0.7451, 0.7608, 0.7529, 0.7922, 0.8392,\n",
       "          0.8588, 0.8667, 0.8627, 0.9255, 0.8824, 0.8471, 0.7804, 0.8078,\n",
       "          0.7294, 0.7098, 0.6941, 0.6745],\n",
       "         [0.7020, 0.6706, 0.7176, 0.7686, 0.8000, 0.8235, 0.8353, 0.8118,\n",
       "          0.8275, 0.8235, 0.7843, 0.7686, 0.7608, 0.7490, 0.7647, 0.7490,\n",
       "          0.7765, 0.7529, 0.6902, 0.6118],\n",
       "         [0.8314, 0.7490, 0.6863, 0.6745, 0.6863, 0.7098, 0.7255, 0.7373,\n",
       "          0.7412, 0.7373, 0.7569, 0.7765, 0.8000, 0.8196, 0.8235, 0.8235,\n",
       "          0.8275, 0.7373, 0.7373, 0.7608]]])"
      ]
     },
     "execution_count": 196,
     "metadata": {},
     "output_type": "execute_result"
    }
   ],
   "source": [
    "newtransforms[0][0] # since we passed transform, now the returned output in a tensor"
   ]
  },
  {
   "cell_type": "code",
   "execution_count": 197,
   "metadata": {},
   "outputs": [],
   "source": [
    "image = newtransforms[0][0]\n",
    "label = newtransforms[0][1]"
   ]
  },
  {
   "cell_type": "code",
   "execution_count": 198,
   "metadata": {},
   "outputs": [
    {
     "data": {
      "text/plain": [
       "torch.Size([1, 20, 20])"
      ]
     },
     "execution_count": 198,
     "metadata": {},
     "output_type": "execute_result"
    }
   ],
   "source": [
    "image.shape"
   ]
  },
  {
   "cell_type": "code",
   "execution_count": 199,
   "metadata": {},
   "outputs": [
    {
     "data": {
      "text/plain": [
       "'Ankle boot'"
      ]
     },
     "execution_count": 199,
     "metadata": {},
     "output_type": "execute_result"
    }
   ],
   "source": [
    "label"
   ]
  },
  {
   "cell_type": "code",
   "execution_count": 208,
   "metadata": {},
   "outputs": [
    {
     "data": {
      "text/plain": [
       "(tensor([[[0.0000, 0.0000, 0.0000, 0.0000, 0.0000, 0.0000, 0.0000, 0.0000,\n",
       "           0.0118, 0.0000, 0.1412, 0.5333, 0.4980, 0.2431, 0.2118, 0.0000,\n",
       "           0.0000, 0.0000, 0.0039, 0.0118],\n",
       "          [0.0000, 0.0000, 0.0000, 0.0000, 0.0000, 0.0000, 0.0000, 0.0000,\n",
       "           0.0235, 0.0000, 0.4000, 0.8000, 0.6902, 0.5255, 0.5647, 0.4824,\n",
       "           0.0902, 0.0000, 0.0000, 0.0000],\n",
       "          [0.0000, 0.0000, 0.0000, 0.0000, 0.0000, 0.0000, 0.0000, 0.0000,\n",
       "           0.0000, 0.0000, 0.6078, 0.9255, 0.8118, 0.6980, 0.4196, 0.6118,\n",
       "           0.6314, 0.4275, 0.2510, 0.0902],\n",
       "          [0.0000, 0.0000, 0.0000, 0.0000, 0.0000, 0.0000, 0.0000, 0.0039,\n",
       "           0.0000, 0.2706, 0.8118, 0.8745, 0.8549, 0.8471, 0.8471, 0.6392,\n",
       "           0.4980, 0.4745, 0.4784, 0.5725],\n",
       "          [0.0000, 0.0000, 0.0000, 0.0000, 0.0000, 0.0039, 0.0039, 0.0039,\n",
       "           0.0000, 0.7843, 0.9098, 0.9098, 0.9137, 0.8980, 0.8745, 0.8745,\n",
       "           0.8431, 0.8353, 0.6431, 0.4980],\n",
       "          [0.0000, 0.0000, 0.0000, 0.0000, 0.0000, 0.0000, 0.0000, 0.0000,\n",
       "           0.0000, 0.7176, 0.8824, 0.8471, 0.8745, 0.8941, 0.9216, 0.8902,\n",
       "           0.8784, 0.8706, 0.8784, 0.8667],\n",
       "          [0.0000, 0.0000, 0.0000, 0.0000, 0.0000, 0.0000, 0.0000, 0.0000,\n",
       "           0.0000, 0.7569, 0.8941, 0.8549, 0.8353, 0.7765, 0.7059, 0.8314,\n",
       "           0.8235, 0.8275, 0.8353, 0.8745],\n",
       "          [0.0000, 0.0000, 0.0000, 0.0000, 0.0000, 0.0039, 0.0118, 0.0000,\n",
       "           0.0471, 0.8588, 0.8627, 0.8314, 0.8549, 0.7529, 0.6627, 0.8902,\n",
       "           0.8157, 0.8549, 0.8784, 0.8314],\n",
       "          [0.0000, 0.0000, 0.0000, 0.0000, 0.0000, 0.0000, 0.0235, 0.0000,\n",
       "           0.3882, 0.9569, 0.8706, 0.8627, 0.8549, 0.7961, 0.7765, 0.8667,\n",
       "           0.8431, 0.8353, 0.8706, 0.8627],\n",
       "          [0.0000, 0.0000, 0.0000, 0.0000, 0.0000, 0.0157, 0.0000, 0.0000,\n",
       "           0.2157, 0.9255, 0.8941, 0.9020, 0.8941, 0.9412, 0.9098, 0.8353,\n",
       "           0.8549, 0.8745, 0.9176, 0.8510],\n",
       "          [0.0235, 0.0275, 0.0078, 0.0000, 0.0000, 0.0000, 0.0000, 0.0000,\n",
       "           0.9294, 0.8863, 0.8510, 0.8745, 0.8706, 0.8588, 0.8706, 0.8667,\n",
       "           0.8471, 0.8745, 0.8980, 0.8431],\n",
       "          [0.0000, 0.0000, 0.0000, 0.0000, 0.0000, 0.2431, 0.5686, 0.8000,\n",
       "           0.8941, 0.8118, 0.8353, 0.8667, 0.8549, 0.8157, 0.8275, 0.8549,\n",
       "           0.8784, 0.8745, 0.8588, 0.8431],\n",
       "          [0.0706, 0.1725, 0.3216, 0.4196, 0.7412, 0.8941, 0.8627, 0.8706,\n",
       "           0.8510, 0.8863, 0.7843, 0.8039, 0.8275, 0.9020, 0.8784, 0.9176,\n",
       "           0.6902, 0.7373, 0.9804, 0.9725],\n",
       "          [0.8784, 0.8667, 0.8784, 0.8157, 0.8000, 0.8392, 0.8157, 0.8196,\n",
       "           0.7843, 0.6235, 0.9608, 0.7569, 0.8078, 0.8745, 1.0000, 1.0000,\n",
       "           0.8667, 0.9176, 0.8667, 0.8275],\n",
       "          [0.8667, 0.8275, 0.8275, 0.8392, 0.8039, 0.8039, 0.8039, 0.8627,\n",
       "           0.9412, 0.3137, 0.5882, 1.0000, 0.8980, 0.8667, 0.7373, 0.6039,\n",
       "           0.7490, 0.8235, 0.8000, 0.8196],\n",
       "          [0.8706, 0.8980, 0.8980, 0.9176, 0.9765, 0.8627, 0.7608, 0.8431,\n",
       "           0.8510, 0.9451, 0.2549, 0.2863, 0.4157, 0.4588, 0.6588, 0.8588,\n",
       "           0.8667, 0.8431, 0.8510, 0.8745],\n",
       "          [0.7569, 0.8039, 0.8275, 0.8824, 0.8471, 0.7255, 0.7725, 0.8078,\n",
       "           0.7765, 0.8353, 0.9412, 0.7647, 0.8902, 0.9608, 0.9373, 0.8745,\n",
       "           0.8549, 0.8314, 0.8196, 0.8706],\n",
       "          [0.8353, 0.7725, 0.7255, 0.7451, 0.7608, 0.7529, 0.7922, 0.8392,\n",
       "           0.8588, 0.8667, 0.8627, 0.9255, 0.8824, 0.8471, 0.7804, 0.8078,\n",
       "           0.7294, 0.7098, 0.6941, 0.6745],\n",
       "          [0.7020, 0.6706, 0.7176, 0.7686, 0.8000, 0.8235, 0.8353, 0.8118,\n",
       "           0.8275, 0.8235, 0.7843, 0.7686, 0.7608, 0.7490, 0.7647, 0.7490,\n",
       "           0.7765, 0.7529, 0.6902, 0.6118],\n",
       "          [0.8314, 0.7490, 0.6863, 0.6745, 0.6863, 0.7098, 0.7255, 0.7373,\n",
       "           0.7412, 0.7373, 0.7569, 0.7765, 0.8000, 0.8196, 0.8235, 0.8235,\n",
       "           0.8275, 0.7373, 0.7373, 0.7608]]]),\n",
       " 'Ankle boot')"
      ]
     },
     "execution_count": 208,
     "metadata": {},
     "output_type": "execute_result"
    }
   ],
   "source": [
    "newtransforms[0]"
   ]
  },
  {
   "cell_type": "code",
   "execution_count": 213,
   "metadata": {},
   "outputs": [
    {
     "data": {
      "text/plain": [
       "Text(0.5, 1.0, 'Ankle boot')"
      ]
     },
     "execution_count": 213,
     "metadata": {},
     "output_type": "execute_result"
    },
    {
     "data": {
      "image/png": "[encoded data removed]",
      "text/plain": [
       "<Figure size 432x288 with 1 Axes>"
      ]
     },
     "metadata": {
      "needs_background": "light"
     },
     "output_type": "display_data"
    }
   ],
   "source": [
    "plt.imshow(image.numpy().reshape(20,20),cmap='gray')\n",
    "plt.title(label) # center cropped image"
   ]
  },
  {
   "cell_type": "code",
   "execution_count": 215,
   "metadata": {},
   "outputs": [],
   "source": [
    "# another example"
   ]
  },
  {
   "cell_type": "code",
   "execution_count": 218,
   "metadata": {},
   "outputs": [],
   "source": [
    "image = newtransforms[10][0]\n",
    "label = newtransforms[10][1]"
   ]
  },
  {
   "cell_type": "code",
   "execution_count": 219,
   "metadata": {},
   "outputs": [
    {
     "data": {
      "text/plain": [
       "Text(0.5, 1.0, 'T-shirt')"
      ]
     },
     "execution_count": 219,
     "metadata": {},
     "output_type": "execute_result"
    },
    {
     "data": {
      "image/png": "[encoded data removed]",
      "text/plain": [
       "<Figure size 432x288 with 1 Axes>"
      ]
     },
     "metadata": {
      "needs_background": "light"
     },
     "output_type": "display_data"
    }
   ],
   "source": [
    "plt.imshow(image.numpy().reshape(20,20),cmap='gray')\n",
    "plt.title(label) # center cropped image"
   ]
  },
  {
   "cell_type": "markdown",
   "metadata": {},
   "source": [
    "Let's try another Transform, transform.RandomVerticalFlip"
   ]
  },
  {
   "cell_type": "code",
   "execution_count": 235,
   "metadata": {},
   "outputs": [],
   "source": [
    "verticalflipobj = transforms.Compose([transforms.RandomVerticalFlip(p=1),transforms.ToTensor()])\n",
    "fliptransforms = imagedataset(csv_file,directory,transform=verticalflipobj)"
   ]
  },
  {
   "cell_type": "code",
   "execution_count": 238,
   "metadata": {},
   "outputs": [],
   "source": [
    "flipimage = fliptransforms[0][0]\n",
    "fliplabel = fliptransforms[0][1]"
   ]
  },
  {
   "cell_type": "code",
   "execution_count": 239,
   "metadata": {},
   "outputs": [
    {
     "data": {
      "text/plain": [
       "torch.Size([1, 28, 28])"
      ]
     },
     "execution_count": 239,
     "metadata": {},
     "output_type": "execute_result"
    }
   ],
   "source": [
    "flipimage.shape"
   ]
  },
  {
   "cell_type": "code",
   "execution_count": 245,
   "metadata": {},
   "outputs": [
    {
     "data": {
      "text/plain": [
       "Text(0.5, 1.0, 'Ankle boot')"
      ]
     },
     "execution_count": 245,
     "metadata": {},
     "output_type": "execute_result"
    },
    {
     "data": {
      "image/png": "[encoded data removed]",
      "text/plain": [
       "<Figure size 432x288 with 1 Axes>"
      ]
     },
     "metadata": {
      "needs_background": "light"
     },
     "output_type": "display_data"
    }
   ],
   "source": [
    "plt.imshow(flipimage.numpy().reshape(28,28),cmap='gray')\n",
    "plt.title(fliplabel) # vertical flipped "
   ]
  },
  {
   "cell_type": "code",
   "execution_count": null,
   "metadata": {},
   "outputs": [],
   "source": []
  }
 ],
 "metadata": {
  "kernelspec": {
   "display_name": "Python 3",
   "language": "python",
   "name": "python3"
  },
  "language_info": {
   "codemirror_mode": {
    "name": "ipython",
    "version": 3
   },
   "file_extension": ".py",
   "mimetype": "text/x-python",
   "name": "python",
   "nbconvert_exporter": "python",
   "pygments_lexer": "ipython3",
   "version": "3.7.6"
  }
 },
 "nbformat": 4,
 "nbformat_minor": 4
}
